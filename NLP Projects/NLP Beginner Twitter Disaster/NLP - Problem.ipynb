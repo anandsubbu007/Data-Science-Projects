{
 "cells": [
  {
   "cell_type": "markdown",
   "metadata": {},
   "source": [
    "# Importing Essential Libraries"
   ]
  },
  {
   "cell_type": "code",
   "execution_count": 1,
   "metadata": {},
   "outputs": [],
   "source": [
    "#importing packages\n",
    "import pandas as pd # for dataframe\n",
    "import numpy as np  # for algebric \n",
    "import nltk         #for nlp \n",
    "import matplotlib.pyplot as plt # for visualization\n",
    "import seaborn as sns           # for visualization"
   ]
  },
  {
   "cell_type": "code",
   "execution_count": 2,
   "metadata": {},
   "outputs": [
    {
     "data": {
      "text/html": [
       "<div>\n",
       "<style scoped>\n",
       "    .dataframe tbody tr th:only-of-type {\n",
       "        vertical-align: middle;\n",
       "    }\n",
       "\n",
       "    .dataframe tbody tr th {\n",
       "        vertical-align: top;\n",
       "    }\n",
       "\n",
       "    .dataframe thead th {\n",
       "        text-align: right;\n",
       "    }\n",
       "</style>\n",
       "<table border=\"1\" class=\"dataframe\">\n",
       "  <thead>\n",
       "    <tr style=\"text-align: right;\">\n",
       "      <th></th>\n",
       "      <th>id</th>\n",
       "      <th>keyword</th>\n",
       "      <th>location</th>\n",
       "      <th>text</th>\n",
       "      <th>target</th>\n",
       "    </tr>\n",
       "  </thead>\n",
       "  <tbody>\n",
       "    <tr>\n",
       "      <th>0</th>\n",
       "      <td>1</td>\n",
       "      <td>NaN</td>\n",
       "      <td>NaN</td>\n",
       "      <td>Our Deeds are the Reason of this #earthquake M...</td>\n",
       "      <td>1</td>\n",
       "    </tr>\n",
       "    <tr>\n",
       "      <th>1</th>\n",
       "      <td>4</td>\n",
       "      <td>NaN</td>\n",
       "      <td>NaN</td>\n",
       "      <td>Forest fire near La Ronge Sask. Canada</td>\n",
       "      <td>1</td>\n",
       "    </tr>\n",
       "    <tr>\n",
       "      <th>2</th>\n",
       "      <td>5</td>\n",
       "      <td>NaN</td>\n",
       "      <td>NaN</td>\n",
       "      <td>All residents asked to 'shelter in place' are ...</td>\n",
       "      <td>1</td>\n",
       "    </tr>\n",
       "    <tr>\n",
       "      <th>3</th>\n",
       "      <td>6</td>\n",
       "      <td>NaN</td>\n",
       "      <td>NaN</td>\n",
       "      <td>13,000 people receive #wildfires evacuation or...</td>\n",
       "      <td>1</td>\n",
       "    </tr>\n",
       "    <tr>\n",
       "      <th>4</th>\n",
       "      <td>7</td>\n",
       "      <td>NaN</td>\n",
       "      <td>NaN</td>\n",
       "      <td>Just got sent this photo from Ruby #Alaska as ...</td>\n",
       "      <td>1</td>\n",
       "    </tr>\n",
       "  </tbody>\n",
       "</table>\n",
       "</div>"
      ],
      "text/plain": [
       "   id keyword location                                               text  \\\n",
       "0   1     NaN      NaN  Our Deeds are the Reason of this #earthquake M...   \n",
       "1   4     NaN      NaN             Forest fire near La Ronge Sask. Canada   \n",
       "2   5     NaN      NaN  All residents asked to 'shelter in place' are ...   \n",
       "3   6     NaN      NaN  13,000 people receive #wildfires evacuation or...   \n",
       "4   7     NaN      NaN  Just got sent this photo from Ruby #Alaska as ...   \n",
       "\n",
       "   target  \n",
       "0       1  \n",
       "1       1  \n",
       "2       1  \n",
       "3       1  \n",
       "4       1  "
      ]
     },
     "execution_count": 2,
     "metadata": {},
     "output_type": "execute_result"
    }
   ],
   "source": [
    "# Importing csv files\n",
    "train = pd.read_csv('train.csv')\n",
    "test = pd.read_csv('test.csv')\n",
    "train[:5]"
   ]
  },
  {
   "cell_type": "code",
   "execution_count": 3,
   "metadata": {},
   "outputs": [
    {
     "data": {
      "text/html": [
       "<div>\n",
       "<style scoped>\n",
       "    .dataframe tbody tr th:only-of-type {\n",
       "        vertical-align: middle;\n",
       "    }\n",
       "\n",
       "    .dataframe tbody tr th {\n",
       "        vertical-align: top;\n",
       "    }\n",
       "\n",
       "    .dataframe thead th {\n",
       "        text-align: right;\n",
       "    }\n",
       "</style>\n",
       "<table border=\"1\" class=\"dataframe\">\n",
       "  <thead>\n",
       "    <tr style=\"text-align: right;\">\n",
       "      <th></th>\n",
       "      <th>id</th>\n",
       "      <th>keyword</th>\n",
       "      <th>location</th>\n",
       "      <th>text</th>\n",
       "    </tr>\n",
       "  </thead>\n",
       "  <tbody>\n",
       "    <tr>\n",
       "      <th>0</th>\n",
       "      <td>0</td>\n",
       "      <td>NaN</td>\n",
       "      <td>NaN</td>\n",
       "      <td>Just happened a terrible car crash</td>\n",
       "    </tr>\n",
       "    <tr>\n",
       "      <th>1</th>\n",
       "      <td>2</td>\n",
       "      <td>NaN</td>\n",
       "      <td>NaN</td>\n",
       "      <td>Heard about #earthquake is different cities, s...</td>\n",
       "    </tr>\n",
       "  </tbody>\n",
       "</table>\n",
       "</div>"
      ],
      "text/plain": [
       "   id keyword location                                               text\n",
       "0   0     NaN      NaN                 Just happened a terrible car crash\n",
       "1   2     NaN      NaN  Heard about #earthquake is different cities, s..."
      ]
     },
     "execution_count": 3,
     "metadata": {},
     "output_type": "execute_result"
    }
   ],
   "source": [
    "test[:2]"
   ]
  },
  {
   "cell_type": "code",
   "execution_count": 4,
   "metadata": {},
   "outputs": [
    {
     "name": "stdout",
     "output_type": "stream",
     "text": [
      "Column Name  : id\n",
      "[    1     4     5 ... 10871 10872 10873]\n",
      "Column Name  : keyword\n",
      "[nan 'ablaze' 'accident' 'aftershock' 'airplane%20accident' 'ambulance'\n",
      " 'annihilated' 'annihilation' 'apocalypse' 'armageddon' 'army' 'arson'\n",
      " 'arsonist' 'attack' 'attacked' 'avalanche' 'battle' 'bioterror'\n",
      " 'bioterrorism' 'blaze' 'blazing' 'bleeding' 'blew%20up' 'blight'\n",
      " 'blizzard' 'blood' 'bloody' 'blown%20up' 'body%20bag' 'body%20bagging'\n",
      " 'body%20bags' 'bomb' 'bombed' 'bombing' 'bridge%20collapse'\n",
      " 'buildings%20burning' 'buildings%20on%20fire' 'burned' 'burning'\n",
      " 'burning%20buildings' 'bush%20fires' 'casualties' 'casualty'\n",
      " 'catastrophe' 'catastrophic' 'chemical%20emergency' 'cliff%20fall'\n",
      " 'collapse' 'collapsed' 'collide' 'collided' 'collision' 'crash' 'crashed'\n",
      " 'crush' 'crushed' 'curfew' 'cyclone' 'damage' 'danger' 'dead' 'death'\n",
      " 'deaths' 'debris' 'deluge' 'deluged' 'demolish' 'demolished' 'demolition'\n",
      " 'derail' 'derailed' 'derailment' 'desolate' 'desolation' 'destroy'\n",
      " 'destroyed' 'destruction' 'detonate' 'detonation' 'devastated'\n",
      " 'devastation' 'disaster' 'displaced' 'drought' 'drown' 'drowned'\n",
      " 'drowning' 'dust%20storm' 'earthquake' 'electrocute' 'electrocuted'\n",
      " 'emergency' 'emergency%20plan' 'emergency%20services' 'engulfed'\n",
      " 'epicentre' 'evacuate' 'evacuated' 'evacuation' 'explode' 'exploded'\n",
      " 'explosion' 'eyewitness' 'famine' 'fatal' 'fatalities' 'fatality' 'fear'\n",
      " 'fire' 'fire%20truck' 'first%20responders' 'flames' 'flattened' 'flood'\n",
      " 'flooding' 'floods' 'forest%20fire' 'forest%20fires' 'hail' 'hailstorm'\n",
      " 'harm' 'hazard' 'hazardous' 'heat%20wave' 'hellfire' 'hijack' 'hijacker'\n",
      " 'hijacking' 'hostage' 'hostages' 'hurricane' 'injured' 'injuries'\n",
      " 'injury' 'inundated' 'inundation' 'landslide' 'lava' 'lightning'\n",
      " 'loud%20bang' 'mass%20murder' 'mass%20murderer' 'massacre' 'mayhem'\n",
      " 'meltdown' 'military' 'mudslide' 'natural%20disaster'\n",
      " 'nuclear%20disaster' 'nuclear%20reactor' 'obliterate' 'obliterated'\n",
      " 'obliteration' 'oil%20spill' 'outbreak' 'pandemonium' 'panic' 'panicking'\n",
      " 'police' 'quarantine' 'quarantined' 'radiation%20emergency' 'rainstorm'\n",
      " 'razed' 'refugees' 'rescue' 'rescued' 'rescuers' 'riot' 'rioting'\n",
      " 'rubble' 'ruin' 'sandstorm' 'screamed' 'screaming' 'screams' 'seismic'\n",
      " 'sinkhole' 'sinking' 'siren' 'sirens' 'smoke' 'snowstorm' 'storm'\n",
      " 'stretcher' 'structural%20failure' 'suicide%20bomb' 'suicide%20bomber'\n",
      " 'suicide%20bombing' 'sunk' 'survive' 'survived' 'survivors' 'terrorism'\n",
      " 'terrorist' 'threat' 'thunder' 'thunderstorm' 'tornado' 'tragedy'\n",
      " 'trapped' 'trauma' 'traumatised' 'trouble' 'tsunami' 'twister' 'typhoon'\n",
      " 'upheaval' 'violent%20storm' 'volcano' 'war%20zone' 'weapon' 'weapons'\n",
      " 'whirlwind' 'wild%20fires' 'wildfire' 'windstorm' 'wounded' 'wounds'\n",
      " 'wreck' 'wreckage' 'wrecked']\n",
      "Column Name  : location\n",
      "[nan 'Birmingham' 'Est. September 2012 - Bristol' ... 'Vancouver, Canada'\n",
      " 'London ' 'Lincoln']\n",
      "Column Name  : text\n",
      "['Our Deeds are the Reason of this #earthquake May ALLAH Forgive us all'\n",
      " 'Forest fire near La Ronge Sask. Canada'\n",
      " \"All residents asked to 'shelter in place' are being notified by officers. No other evacuation or shelter in place orders are expected\"\n",
      " ...\n",
      " 'Suicide bomber kills 15 in Saudi security site mosque - Reuters via World - Google News - Wall ... http://t.co/nF4IculOje'\n",
      " 'Two giant cranes holding a bridge collapse into nearby homes http://t.co/STfMbbZFB5'\n",
      " 'The Latest: More Homes Razed by Northern California Wildfire - ABC News http://t.co/YmY4rSkQ3d']\n",
      "Column Name  : target\n",
      "[1 0]\n"
     ]
    }
   ],
   "source": [
    "# viewing each unique values in each columns\n",
    "for i in train.columns:\n",
    "    print('Column Name  :',i)\n",
    "    print(train[i].unique())"
   ]
  },
  {
   "cell_type": "markdown",
   "metadata": {},
   "source": [
    "# Data Cleaning"
   ]
  },
  {
   "cell_type": "code",
   "execution_count": 5,
   "metadata": {},
   "outputs": [],
   "source": [
    "# id is not essential. so, i'm droping it\n",
    "df_train = train.drop(['id'],axis=1)\n",
    "df_test = test.drop(['id'],axis=1)"
   ]
  },
  {
   "cell_type": "code",
   "execution_count": 6,
   "metadata": {
    "scrolled": true
   },
   "outputs": [],
   "source": [
    "#Hence when it comes twitter, Hashtag is one of important thing. so, i'm created new column contains only hashtags\n",
    "# for this i used regrx package.\n",
    "import re\n",
    "df_train['Hashtag'] = df_train['text'].map(lambda x: re.findall(r'#(\\w+)',x)).apply(lambda x: \", \".join(x))\n",
    "df_test['Hashtag'] = df_test['text'].map(lambda x: re.findall(r'#(\\w+)',x)).apply(lambda x: \", \".join(x))\n",
    "df_train['@'] = df_train['text'].map(lambda x: re.findall(r'@(\\w+)',x)).apply(lambda x: \", \".join(x))\n",
    "df_test['@'] = df_test['text'].map(lambda x: re.findall(r'@(\\w+)',x)).apply(lambda x: \", \".join(x))\n",
    "\n",
    "# data Cleaning\n",
    "# i'm defining function to clean data. it will make work easier\n",
    "def remove_punctuation(txt):\n",
    "    import string\n",
    "    result = txt.translate(str.maketrans('','',string.punctuation))\n",
    "    return result\n",
    "def lower_text(txt):\n",
    "    return txt.lower()\n",
    "def remove_no(txt):\n",
    "    import re\n",
    "    return re.sub(r\"\\d+\",\"\",txt)\n",
    "def remove_html_tags(text):\n",
    "    \"\"\"Remove html tags from a string\"\"\"\n",
    "    import re\n",
    "    clean = re.compile('<.*?>')\n",
    "    return re.sub(clean, '', text)\n",
    "def removeurl(txt):\n",
    "    import re\n",
    "    return re.sub(r'http?\\S+|www\\.\\S+', '',txt)\n",
    "\n",
    "# defining all function to one for this problem\n",
    "def norm(txt):\n",
    "    x = remove_punctuation(txt)\n",
    "    x = lower_text(x)\n",
    "    x = remove_html_tags(x)\n",
    "    x = remove_no(x)\n",
    "    x = removeurl(x)\n",
    "    return x\n",
    "\n",
    "# applying data cleaning function for text\n",
    "df_train['text'] = df_train['text'].map(lambda x:  norm(x))\n",
    "df_test['text'] = df_test['text'].map(lambda x:  norm(x))\n",
    "\n",
    "#There are some magic words \"%20\" which indicates space in this data.so,Removing magic words\n",
    "df_train['keyword'] = df_train['keyword'].map(lambda s: s.replace('%20',' ') if isinstance(s, str) else s)\n",
    "df_test['keyword'] = df_test['keyword'].map(lambda s: s.replace('%20',' ') if isinstance(s, str) else s)"
   ]
  },
  {
   "cell_type": "code",
   "execution_count": 7,
   "metadata": {},
   "outputs": [
    {
     "data": {
      "text/html": [
       "<div>\n",
       "<style scoped>\n",
       "    .dataframe tbody tr th:only-of-type {\n",
       "        vertical-align: middle;\n",
       "    }\n",
       "\n",
       "    .dataframe tbody tr th {\n",
       "        vertical-align: top;\n",
       "    }\n",
       "\n",
       "    .dataframe thead th {\n",
       "        text-align: right;\n",
       "    }\n",
       "</style>\n",
       "<table border=\"1\" class=\"dataframe\">\n",
       "  <thead>\n",
       "    <tr style=\"text-align: right;\">\n",
       "      <th></th>\n",
       "      <th>keyword</th>\n",
       "      <th>location</th>\n",
       "      <th>text</th>\n",
       "      <th>target</th>\n",
       "      <th>Hashtag</th>\n",
       "      <th>@</th>\n",
       "    </tr>\n",
       "  </thead>\n",
       "  <tbody>\n",
       "    <tr>\n",
       "      <th>0</th>\n",
       "      <td>NaN</td>\n",
       "      <td>NaN</td>\n",
       "      <td>our deeds are the reason of this earthquake ma...</td>\n",
       "      <td>1</td>\n",
       "      <td>earthquake</td>\n",
       "      <td></td>\n",
       "    </tr>\n",
       "    <tr>\n",
       "      <th>1</th>\n",
       "      <td>NaN</td>\n",
       "      <td>NaN</td>\n",
       "      <td>forest fire near la ronge sask canada</td>\n",
       "      <td>1</td>\n",
       "      <td></td>\n",
       "      <td></td>\n",
       "    </tr>\n",
       "    <tr>\n",
       "      <th>2</th>\n",
       "      <td>NaN</td>\n",
       "      <td>NaN</td>\n",
       "      <td>all residents asked to shelter in place are be...</td>\n",
       "      <td>1</td>\n",
       "      <td></td>\n",
       "      <td></td>\n",
       "    </tr>\n",
       "    <tr>\n",
       "      <th>3</th>\n",
       "      <td>NaN</td>\n",
       "      <td>NaN</td>\n",
       "      <td>people receive wildfires evacuation orders in...</td>\n",
       "      <td>1</td>\n",
       "      <td>wildfires</td>\n",
       "      <td></td>\n",
       "    </tr>\n",
       "    <tr>\n",
       "      <th>4</th>\n",
       "      <td>NaN</td>\n",
       "      <td>NaN</td>\n",
       "      <td>just got sent this photo from ruby alaska as s...</td>\n",
       "      <td>1</td>\n",
       "      <td>Alaska, wildfires</td>\n",
       "      <td></td>\n",
       "    </tr>\n",
       "  </tbody>\n",
       "</table>\n",
       "</div>"
      ],
      "text/plain": [
       "  keyword location                                               text  target  \\\n",
       "0     NaN      NaN  our deeds are the reason of this earthquake ma...       1   \n",
       "1     NaN      NaN              forest fire near la ronge sask canada       1   \n",
       "2     NaN      NaN  all residents asked to shelter in place are be...       1   \n",
       "3     NaN      NaN   people receive wildfires evacuation orders in...       1   \n",
       "4     NaN      NaN  just got sent this photo from ruby alaska as s...       1   \n",
       "\n",
       "             Hashtag @  \n",
       "0         earthquake    \n",
       "1                       \n",
       "2                       \n",
       "3          wildfires    \n",
       "4  Alaska, wildfires    "
      ]
     },
     "execution_count": 7,
     "metadata": {},
     "output_type": "execute_result"
    }
   ],
   "source": [
    "# Cleaned Data\n",
    "df_test\n",
    "df_train[:5]"
   ]
  },
  {
   "cell_type": "markdown",
   "metadata": {},
   "source": [
    "Twitts has Hash Tag."
   ]
  },
  {
   "cell_type": "markdown",
   "metadata": {},
   "source": [
    "# Splitting data to view word distribution"
   ]
  },
  {
   "cell_type": "code",
   "execution_count": 8,
   "metadata": {},
   "outputs": [
    {
     "data": {
      "text/html": [
       "<div>\n",
       "<style scoped>\n",
       "    .dataframe tbody tr th:only-of-type {\n",
       "        vertical-align: middle;\n",
       "    }\n",
       "\n",
       "    .dataframe tbody tr th {\n",
       "        vertical-align: top;\n",
       "    }\n",
       "\n",
       "    .dataframe thead th {\n",
       "        text-align: right;\n",
       "    }\n",
       "</style>\n",
       "<table border=\"1\" class=\"dataframe\">\n",
       "  <thead>\n",
       "    <tr style=\"text-align: right;\">\n",
       "      <th></th>\n",
       "      <th>keyword</th>\n",
       "      <th>location</th>\n",
       "      <th>text</th>\n",
       "      <th>target</th>\n",
       "      <th>Hashtag</th>\n",
       "      <th>@</th>\n",
       "    </tr>\n",
       "  </thead>\n",
       "  <tbody>\n",
       "    <tr>\n",
       "      <th>0</th>\n",
       "      <td>NaN</td>\n",
       "      <td>NaN</td>\n",
       "      <td>our deeds are the reason of this earthquake ma...</td>\n",
       "      <td>1</td>\n",
       "      <td>earthquake</td>\n",
       "      <td></td>\n",
       "    </tr>\n",
       "    <tr>\n",
       "      <th>1</th>\n",
       "      <td>NaN</td>\n",
       "      <td>NaN</td>\n",
       "      <td>forest fire near la ronge sask canada</td>\n",
       "      <td>1</td>\n",
       "      <td></td>\n",
       "      <td></td>\n",
       "    </tr>\n",
       "    <tr>\n",
       "      <th>2</th>\n",
       "      <td>NaN</td>\n",
       "      <td>NaN</td>\n",
       "      <td>all residents asked to shelter in place are be...</td>\n",
       "      <td>1</td>\n",
       "      <td></td>\n",
       "      <td></td>\n",
       "    </tr>\n",
       "    <tr>\n",
       "      <th>3</th>\n",
       "      <td>NaN</td>\n",
       "      <td>NaN</td>\n",
       "      <td>people receive wildfires evacuation orders in...</td>\n",
       "      <td>1</td>\n",
       "      <td>wildfires</td>\n",
       "      <td></td>\n",
       "    </tr>\n",
       "    <tr>\n",
       "      <th>4</th>\n",
       "      <td>NaN</td>\n",
       "      <td>NaN</td>\n",
       "      <td>just got sent this photo from ruby alaska as s...</td>\n",
       "      <td>1</td>\n",
       "      <td>Alaska, wildfires</td>\n",
       "      <td></td>\n",
       "    </tr>\n",
       "  </tbody>\n",
       "</table>\n",
       "</div>"
      ],
      "text/plain": [
       "  keyword location                                               text  target  \\\n",
       "0     NaN      NaN  our deeds are the reason of this earthquake ma...       1   \n",
       "1     NaN      NaN              forest fire near la ronge sask canada       1   \n",
       "2     NaN      NaN  all residents asked to shelter in place are be...       1   \n",
       "3     NaN      NaN   people receive wildfires evacuation orders in...       1   \n",
       "4     NaN      NaN  just got sent this photo from ruby alaska as s...       1   \n",
       "\n",
       "             Hashtag @  \n",
       "0         earthquake    \n",
       "1                       \n",
       "2                       \n",
       "3          wildfires    \n",
       "4  Alaska, wildfires    "
      ]
     },
     "execution_count": 8,
     "metadata": {},
     "output_type": "execute_result"
    }
   ],
   "source": [
    "#Seperating data to explore it\n",
    "train_yes = df_train[df_train[\"target\"]==1]\n",
    "train_no = df_train[df_train[\"target\"]==0]\n",
    "train_yes[:5]"
   ]
  },
  {
   "cell_type": "code",
   "execution_count": 9,
   "metadata": {},
   "outputs": [],
   "source": [
    "# created a para from all text for each target\n",
    "# Sepereate Data to two \n",
    "train_txt_yes = \" \".join(str(i) for i in train_yes['text'])\n",
    "train_txt_no = \" \".join(str(i) for i in train_no['text'])\n",
    "test_txt = \" \".join(str(i) for i in df_test['text'])\n",
    "#train_txt_yes"
   ]
  },
  {
   "cell_type": "code",
   "execution_count": 10,
   "metadata": {},
   "outputs": [
    {
     "name": "stderr",
     "output_type": "stream",
     "text": [
      "C:\\Users\\Anand\\Anaconda3\\lib\\site-packages\\ipykernel_launcher.py:2: SettingWithCopyWarning: \n",
      "A value is trying to be set on a copy of a slice from a DataFrame.\n",
      "Try using .loc[row_indexer,col_indexer] = value instead\n",
      "\n",
      "See the caveats in the documentation: http://pandas.pydata.org/pandas-docs/stable/indexing.html#indexing-view-versus-copy\n",
      "  \n",
      "C:\\Users\\Anand\\Anaconda3\\lib\\site-packages\\ipykernel_launcher.py:3: SettingWithCopyWarning: \n",
      "A value is trying to be set on a copy of a slice from a DataFrame.\n",
      "Try using .loc[row_indexer,col_indexer] = value instead\n",
      "\n",
      "See the caveats in the documentation: http://pandas.pydata.org/pandas-docs/stable/indexing.html#indexing-view-versus-copy\n",
      "  This is separate from the ipykernel package so we can avoid doing imports until\n",
      "C:\\Users\\Anand\\Anaconda3\\lib\\site-packages\\ipykernel_launcher.py:4: SettingWithCopyWarning: \n",
      "A value is trying to be set on a copy of a slice from a DataFrame.\n",
      "Try using .loc[row_indexer,col_indexer] = value instead\n",
      "\n",
      "See the caveats in the documentation: http://pandas.pydata.org/pandas-docs/stable/indexing.html#indexing-view-versus-copy\n",
      "  after removing the cwd from sys.path.\n",
      "C:\\Users\\Anand\\Anaconda3\\lib\\site-packages\\ipykernel_launcher.py:5: SettingWithCopyWarning: \n",
      "A value is trying to be set on a copy of a slice from a DataFrame.\n",
      "Try using .loc[row_indexer,col_indexer] = value instead\n",
      "\n",
      "See the caveats in the documentation: http://pandas.pydata.org/pandas-docs/stable/indexing.html#indexing-view-versus-copy\n",
      "  \"\"\"\n"
     ]
    }
   ],
   "source": [
    "#replacing empty space with null values\n",
    "train_yes[\"Hashtag\"]= train_yes[\"Hashtag\"].replace(r'^\\s*$', np.nan, regex=True)\n",
    "train_no[\"Hashtag\"]= train_yes[\"Hashtag\"].replace(r'^\\s*$', np.nan, regex=True)\n",
    "train_yes[\"@\"]= train_yes[\"@\"].replace(r'^\\s*$', np.nan, regex=True)\n",
    "train_no[\"@\"]= train_yes[\"@\"].replace(r'^\\s*$', np.nan, regex=True)\n",
    "#train_yes[\"Hashtag\"].isnull().sum()"
   ]
  },
  {
   "cell_type": "code",
   "execution_count": 46,
   "metadata": {},
   "outputs": [
    {
     "name": "stdout",
     "output_type": "stream",
     "text": [
      "Total No. of disaster tweets                        : 3271\n",
      "Total No. of hashtag present in disaster tweets     : 858\n",
      "Total No. of non-disaster tweets                    : 4342\n",
      "Total No. of hashtag present in non-disaster tweets : 0 \n",
      "\n",
      "Total No. of disaster tweets                  : 3271\n",
      "Total No. of @ present in disaster tweets     : 666\n",
      "Total No. of non-disaster tweets              : 4342\n",
      "Total No. of @ present in non-disaster tweets : 0\n"
     ]
    }
   ],
   "source": [
    "print(\"Total No. of disaster tweets                        :\",train_yes[\"text\"].count())\n",
    "print(\"Total No. of hashtag present in disaster tweets     :\",train_yes[\"Hashtag\"].notnull().sum())\n",
    "print(\"Total No. of non-disaster tweets                    :\",train_no[\"text\"].count())\n",
    "print(\"Total No. of hashtag present in non-disaster tweets :\",train_no[\"Hashtag\"].notnull().sum(),\"\\n\")\n",
    "\n",
    "print(\"Total No. of disaster tweets                  :\",train_yes[\"text\"].count())\n",
    "print(\"Total No. of @ present in disaster tweets     :\",train_yes[\"@\"].notnull().sum())\n",
    "print(\"Total No. of non-disaster tweets              :\",train_no[\"text\"].count())\n",
    "print(\"Total No. of @ present in non-disaster tweets :\",train_no[\"@\"].notnull().sum())"
   ]
  },
  {
   "cell_type": "markdown",
   "metadata": {},
   "source": [
    "#### From this, we can't find disaster tweets. because hashtag & @ count is not present in non-disaster tweets."
   ]
  },
  {
   "cell_type": "code",
   "execution_count": 48,
   "metadata": {},
   "outputs": [
    {
     "name": "stdout",
     "output_type": "stream",
     "text": [
      "Total No. of Keyword                                 : 3229\n",
      "Total No. of disaster tweets                         : 3271\n",
      "Total No. of Keywords present in disaster tweets     : 3229\n",
      "Total No. of non-disaster tweets                     : 4342\n",
      "Total No. of Keywords present in non-disaster tweets : 4323 \n",
      "\n",
      "Total No. of disaster tweets                         : 3271\n",
      "Total No. of Location present in disaster tweets     : 2196\n",
      "Total No. of non-disaster tweets                     : 4342\n",
      "Total No. of Location present in non-disaster tweets : 2884\n"
     ]
    }
   ],
   "source": [
    "#data in keywords & Location columns\n",
    "print(\"Total No. of Keyword                                 :\",train_yes[\"keyword\"].count())\n",
    "print(\"Total No. of disaster tweets                         :\",train_yes[\"text\"].count())\n",
    "print(\"Total No. of Keywords present in disaster tweets     :\",train_yes[\"keyword\"].notnull().sum())\n",
    "print(\"Total No. of non-disaster tweets                     :\",train_no[\"text\"].count())\n",
    "print(\"Total No. of Keywords present in non-disaster tweets :\",train_no[\"keyword\"].notnull().sum(),\"\\n\")\n",
    "\n",
    "print(\"Total No. of disaster tweets                         :\",train_yes[\"text\"].count())\n",
    "print(\"Total No. of Location present in disaster tweets     :\",train_yes[\"location\"].notnull().sum())\n",
    "print(\"Total No. of non-disaster tweets                     :\",train_no[\"text\"].count())\n",
    "print(\"Total No. of Location present in non-disaster tweets :\",train_no[\"location\"].notnull().sum())"
   ]
  },
  {
   "cell_type": "markdown",
   "metadata": {},
   "source": [
    "#### From this, we nedd to consider Keyword data because disaster tweets contains keywords "
   ]
  },
  {
   "cell_type": "markdown",
   "metadata": {},
   "source": [
    "### Tokenization & Lemminization"
   ]
  },
  {
   "cell_type": "code",
   "execution_count": 12,
   "metadata": {},
   "outputs": [],
   "source": [
    "# deffining function for tokenization & lemmatize.\n",
    "# Tokenization function\n",
    "def Token_and_removestopword(txt):\n",
    "    import nltk\n",
    "    from nltk.corpus import stopwords\n",
    "    stop_words = set(stopwords.words(\"english\"))\n",
    "    words = nltk.word_tokenize(txt)\n",
    "    without_stop_words = []\n",
    "    for word in words:\n",
    "        if word not in stop_words:\n",
    "            without_stop_words.append(word)\n",
    "    return without_stop_words\n",
    "#lemmatizing tokenized words\n",
    "def lemmatize_word(tokens,pos=\"v\"): \n",
    "    import nltk\n",
    "    from nltk.stem import WordNetLemmatizer\n",
    "    lemmatizer = WordNetLemmatizer()\n",
    "    # provide context i.e. part-of-speech \n",
    "    lemmas = [lemmatizer.lemmatize(word, pos =pos) for word in tokens] \n",
    "    return lemmas"
   ]
  },
  {
   "cell_type": "code",
   "execution_count": 13,
   "metadata": {},
   "outputs": [
    {
     "data": {
      "text/plain": [
       "['deeds', 'reason', 'earthquake', 'may', 'allah']"
      ]
     },
     "execution_count": 13,
     "metadata": {},
     "output_type": "execute_result"
    }
   ],
   "source": [
    "tok_yes = Token_and_removestopword(train_txt_yes)\n",
    "tok_no = Token_and_removestopword(train_txt_no)\n",
    "test_tok = Token_and_removestopword(test_txt)\n",
    "tok_yes[:5]"
   ]
  },
  {
   "cell_type": "code",
   "execution_count": 14,
   "metadata": {},
   "outputs": [
    {
     "name": "stdout",
     "output_type": "stream",
     "text": [
      "31384\n",
      "31384\n"
     ]
    }
   ],
   "source": [
    "#lem_wd = [lemmatizer.lemmatize(x, pos ='v') for x in tok]\n",
    "lem_tok_yes = lemmatize_word(tok_yes)\n",
    "lem_tok_no = lemmatize_word(tok_no)\n",
    "lem_test = lemmatize_word(test_tok)\n",
    "print(len(tok_yes))\n",
    "print(len(lem_tok_yes))"
   ]
  },
  {
   "cell_type": "markdown",
   "metadata": {},
   "source": [
    "## Data Visualizing"
   ]
  },
  {
   "cell_type": "code",
   "execution_count": 15,
   "metadata": {},
   "outputs": [],
   "source": [
    "def top_word_dis(lem_tok,TopN=10):\n",
    "    fq = nltk.FreqDist(lem_tok)\n",
    "    rslt = pd.DataFrame(fq.most_common(TopN),\n",
    "                        columns=['Word', 'Frequency']).set_index('Word')\n",
    "    plt.style.use('ggplot')\n",
    "    rslt.plot.bar()"
   ]
  },
  {
   "cell_type": "code",
   "execution_count": 16,
   "metadata": {},
   "outputs": [
    {
     "data": {
      "image/png": "[encoded data removed]",
      "text/plain": [
       "<Figure size 432x288 with 1 Axes>"
      ]
     },
     "metadata": {},
     "output_type": "display_data"
    }
   ],
   "source": [
    "top_word_dis(lem_tok_yes)"
   ]
  },
  {
   "cell_type": "code",
   "execution_count": 17,
   "metadata": {},
   "outputs": [
    {
     "data": {
      "image/png": "[encoded data removed]",
      "text/plain": [
       "<Figure size 432x288 with 1 Axes>"
      ]
     },
     "metadata": {},
     "output_type": "display_data"
    }
   ],
   "source": [
    "top_word_dis(lem_tok_no)"
   ]
  },
  {
   "cell_type": "code",
   "execution_count": 18,
   "metadata": {},
   "outputs": [
    {
     "name": "stdout",
     "output_type": "stream",
     "text": [
      "['happen', 'terrible', 'car', 'crash', 'hear', 'earthquake', 'different', 'cities', 'stay', 'safe']\n"
     ]
    }
   ],
   "source": [
    "print(lem_test[:10])"
   ]
  },
  {
   "cell_type": "markdown",
   "metadata": {},
   "source": [
    "# Defining Functions"
   ]
  },
  {
   "cell_type": "code",
   "execution_count": 50,
   "metadata": {},
   "outputs": [
    {
     "name": "stdout",
     "output_type": "stream",
     "text": [
      "\n"
     ]
    }
   ],
   "source": [
    "#TF-IDF Vectorizer\n",
    "def tfidf(train_int,test_int=None,Ngram_min=1,Ngram_max=1):\n",
    "    import pandas as pd\n",
    "    from sklearn.feature_extraction.text import TfidfVectorizer\n",
    "    #to convert token input into text\n",
    "    def toktotxt(txt_int):\n",
    "        if isinstance(txt_int[0], list):\n",
    "            text = txt_int.apply(lambda x :\" \".join(str(i) for i in x))\n",
    "        else:\n",
    "            text = txt_int\n",
    "        return text\n",
    "    train_txt = toktotxt(train_int)  \n",
    "    vectorizer = TfidfVectorizer(ngram_range = (Ngram_min,Ngram_max))\n",
    "    vectorizer.fit(train_txt)\n",
    "    X = vectorizer.transform(train_txt)\n",
    "    train = X.toarray()\n",
    "    # to get both transform for train & split\n",
    "    if test_int is None:\n",
    "        out = train\n",
    "    else:\n",
    "        test_txt = toktotxt(test_int)\n",
    "        Y = vectorizer.transform(test_txt)\n",
    "        test = Y.toarray()\n",
    "        out = train, test\n",
    "    return out\n",
    "\n",
    "\"\"\"\n",
    "Above step is not necessary. you can also use below step\n",
    "from sklearn.feature_extraction.text import TfidfVectorizer\n",
    "vectorizer = TfidfVectorizer()\n",
    "vectorizer.fit(train_data)\n",
    "vectorizer.transform(train_data)  ---> output as array\n",
    "vectorizer.transform(test_data) ---> essential if you has test data & to change its shape for further process\n",
    "\"\"\"\n",
    "print(\"\")"
   ]
  },
  {
   "cell_type": "code",
   "execution_count": 20,
   "metadata": {},
   "outputs": [
    {
     "data": {
      "text/plain": [
       "'\\nsame as for tdidf\\n'"
      ]
     },
     "execution_count": 20,
     "metadata": {},
     "output_type": "execute_result"
    }
   ],
   "source": [
    "def countvectorizer(train_int,test_int=None,Ngram_min=1,Ngram_max=1):\n",
    "    import pandas as pd\n",
    "    from sklearn.feature_extraction.text import CountVectorizer\n",
    "    def toktotxt(txt_int):\n",
    "        if isinstance(txt_int[0], list):\n",
    "            text = txt_int.apply(lambda x :\" \".join(str(i) for i in x))\n",
    "        else:\n",
    "            text = txt_int\n",
    "        return text\n",
    "    train_txt = toktotxt(train_int)  \n",
    "    vectorizer = CountVectorizer(ngram_range = (Ngram_min,Ngram_max))\n",
    "    vectorizer.fit(train_txt)\n",
    "    X = vectorizer.transform(train_txt)\n",
    "    train = X.toarray()\n",
    "    if test_int is None:\n",
    "        out = train\n",
    "    else:\n",
    "        test_txt = toktotxt(test_int)\n",
    "        Y = vectorizer.transform(test_txt)\n",
    "        test = Y.toarray()\n",
    "        out = train, test\n",
    "    return out\n",
    "\n",
    "\"\"\"\n",
    "same as for tdidf\n",
    "\"\"\""
   ]
  },
  {
   "cell_type": "code",
   "execution_count": 21,
   "metadata": {},
   "outputs": [],
   "source": [
    "#Dimentional Reduction\n",
    "def PCA(X_train,Y_train=None,X_test=None,n=1000):\n",
    "    from sklearn.decomposition import PCA\n",
    "    pca = PCA(n_components=n)\n",
    "    X = pca.fit(X_train,y_train)\n",
    "    train = pca.transform(X_train)\n",
    "    if X_test.any() == None:\n",
    "        out = train\n",
    "    else:\n",
    "        test = pca.transform(X_test)\n",
    "        out = train, test\n",
    "    return out"
   ]
  },
  {
   "cell_type": "code",
   "execution_count": 22,
   "metadata": {},
   "outputs": [],
   "source": [
    "# ML Algorithms\n",
    "def logreg(X_train, y_train,X_test,n=20):\n",
    "    from sklearn.linear_model import LogisticRegression\n",
    "    model = LogisticRegression()\n",
    "    model.fit(X_train, y_train)\n",
    "    preds = model.predict(X_test)\n",
    "    return preds\n",
    "def naivebiase(X_train, y_train,X_test,n=20):\n",
    "    from sklearn.naive_bayes import GaussianNB\n",
    "    model = GaussianNB()\n",
    "    model.fit(X_train, y_train)\n",
    "    preds = model.predict(X_test)\n",
    "    return preds\n",
    "def accuracy(y_true, y_pred):\n",
    "    from sklearn.metrics import accuracy_score\n",
    "    return accuracy_score(y_true, y_pred)"
   ]
  },
  {
   "cell_type": "markdown",
   "metadata": {},
   "source": [
    "# ML Models - Test Train"
   ]
  },
  {
   "cell_type": "code",
   "execution_count": 77,
   "metadata": {},
   "outputs": [
    {
     "data": {
      "text/html": [
       "<div>\n",
       "<style scoped>\n",
       "    .dataframe tbody tr th:only-of-type {\n",
       "        vertical-align: middle;\n",
       "    }\n",
       "\n",
       "    .dataframe tbody tr th {\n",
       "        vertical-align: top;\n",
       "    }\n",
       "\n",
       "    .dataframe thead th {\n",
       "        text-align: right;\n",
       "    }\n",
       "</style>\n",
       "<table border=\"1\" class=\"dataframe\">\n",
       "  <thead>\n",
       "    <tr style=\"text-align: right;\">\n",
       "      <th></th>\n",
       "      <th>keyword</th>\n",
       "      <th>location</th>\n",
       "      <th>text</th>\n",
       "      <th>target</th>\n",
       "      <th>Hashtag</th>\n",
       "      <th>@</th>\n",
       "      <th>tokenized_text</th>\n",
       "      <th>txt&amp;key</th>\n",
       "    </tr>\n",
       "  </thead>\n",
       "  <tbody>\n",
       "    <tr>\n",
       "      <th>0</th>\n",
       "      <td></td>\n",
       "      <td>NaN</td>\n",
       "      <td>our deeds are the reason of this earthquake ma...</td>\n",
       "      <td>1</td>\n",
       "      <td>earthquake</td>\n",
       "      <td></td>\n",
       "      <td>[deeds, reason, earthquake, may, allah, forgiv...</td>\n",
       "      <td>our deeds are the reason of this earthquake ma...</td>\n",
       "    </tr>\n",
       "    <tr>\n",
       "      <th>1</th>\n",
       "      <td></td>\n",
       "      <td>NaN</td>\n",
       "      <td>forest fire near la ronge sask canada</td>\n",
       "      <td>1</td>\n",
       "      <td></td>\n",
       "      <td></td>\n",
       "      <td>[forest, fire, near, la, ronge, sask, canada]</td>\n",
       "      <td>forest fire near la ronge sask canada</td>\n",
       "    </tr>\n",
       "    <tr>\n",
       "      <th>2</th>\n",
       "      <td></td>\n",
       "      <td>NaN</td>\n",
       "      <td>all residents asked to shelter in place are be...</td>\n",
       "      <td>1</td>\n",
       "      <td></td>\n",
       "      <td></td>\n",
       "      <td>[residents, ask, shelter, place, notify, offic...</td>\n",
       "      <td>all residents asked to shelter in place are be...</td>\n",
       "    </tr>\n",
       "    <tr>\n",
       "      <th>3</th>\n",
       "      <td></td>\n",
       "      <td>NaN</td>\n",
       "      <td>people receive wildfires evacuation orders in...</td>\n",
       "      <td>1</td>\n",
       "      <td>wildfires</td>\n",
       "      <td></td>\n",
       "      <td>[people, receive, wildfires, evacuation, order...</td>\n",
       "      <td>people receive wildfires evacuation orders in...</td>\n",
       "    </tr>\n",
       "    <tr>\n",
       "      <th>4</th>\n",
       "      <td></td>\n",
       "      <td>NaN</td>\n",
       "      <td>just got sent this photo from ruby alaska as s...</td>\n",
       "      <td>1</td>\n",
       "      <td>Alaska, wildfires</td>\n",
       "      <td></td>\n",
       "      <td>[get, send, photo, ruby, alaska, smoke, wildfi...</td>\n",
       "      <td>just got sent this photo from ruby alaska as s...</td>\n",
       "    </tr>\n",
       "  </tbody>\n",
       "</table>\n",
       "</div>"
      ],
      "text/plain": [
       "  keyword location                                               text  target  \\\n",
       "0              NaN  our deeds are the reason of this earthquake ma...       1   \n",
       "1              NaN              forest fire near la ronge sask canada       1   \n",
       "2              NaN  all residents asked to shelter in place are be...       1   \n",
       "3              NaN   people receive wildfires evacuation orders in...       1   \n",
       "4              NaN  just got sent this photo from ruby alaska as s...       1   \n",
       "\n",
       "             Hashtag @                                     tokenized_text  \\\n",
       "0         earthquake    [deeds, reason, earthquake, may, allah, forgiv...   \n",
       "1                           [forest, fire, near, la, ronge, sask, canada]   \n",
       "2                       [residents, ask, shelter, place, notify, offic...   \n",
       "3          wildfires    [people, receive, wildfires, evacuation, order...   \n",
       "4  Alaska, wildfires    [get, send, photo, ruby, alaska, smoke, wildfi...   \n",
       "\n",
       "                                             txt&key  \n",
       "0  our deeds are the reason of this earthquake ma...  \n",
       "1             forest fire near la ronge sask canada   \n",
       "2  all residents asked to shelter in place are be...  \n",
       "3   people receive wildfires evacuation orders in...  \n",
       "4  just got sent this photo from ruby alaska as s...  "
      ]
     },
     "execution_count": 77,
     "metadata": {},
     "output_type": "execute_result"
    }
   ],
   "source": [
    "# Cleaned Data\n",
    "df_test\n",
    "df_train[:5]"
   ]
  },
  {
   "cell_type": "code",
   "execution_count": 78,
   "metadata": {},
   "outputs": [],
   "source": [
    "df_train[\"keyword\"] = df_train[\"keyword\"].fillna(\"\")"
   ]
  },
  {
   "cell_type": "code",
   "execution_count": 79,
   "metadata": {},
   "outputs": [],
   "source": [
    "# Replacing null value \n",
    "df_train[\"keyword\"] = df_train[\"keyword\"].fillna(\"\")\n",
    "df_test[\"keyword\"] = df_test[\"keyword\"].fillna(\"\")\n",
    "\n",
    "# combaining both text & keywords\n",
    "df_train[\"txt&key\"] = df_train[['text', 'keyword']].apply(lambda x: ' '.join(x), axis=1)\n",
    "df_test[\"txt&key\"] = df_test[['text', 'keyword']].apply(lambda x: ' '.join(x), axis=1)"
   ]
  },
  {
   "cell_type": "raw",
   "metadata": {},
   "source": [
    "# Hence, we also need to consider Keywords.\n",
    "\n",
    "df_train[\"txt&key\"] = df_train[\"text\"].map(str)+\" \"+df_train[\"keyword\"].map(str)\n",
    "df_test[\"txt&key\"] = df_test[\"text\"].map(str)+\" \"+df_train[\"keyword\"].map(str)\n",
    "df_train[\"txt&key\"][10]"
   ]
  },
  {
   "cell_type": "code",
   "execution_count": 80,
   "metadata": {
    "scrolled": true
   },
   "outputs": [
    {
     "data": {
      "text/html": [
       "<div>\n",
       "<style scoped>\n",
       "    .dataframe tbody tr th:only-of-type {\n",
       "        vertical-align: middle;\n",
       "    }\n",
       "\n",
       "    .dataframe tbody tr th {\n",
       "        vertical-align: top;\n",
       "    }\n",
       "\n",
       "    .dataframe thead th {\n",
       "        text-align: right;\n",
       "    }\n",
       "</style>\n",
       "<table border=\"1\" class=\"dataframe\">\n",
       "  <thead>\n",
       "    <tr style=\"text-align: right;\">\n",
       "      <th></th>\n",
       "      <th>keyword</th>\n",
       "      <th>location</th>\n",
       "      <th>text</th>\n",
       "      <th>target</th>\n",
       "      <th>Hashtag</th>\n",
       "      <th>@</th>\n",
       "      <th>tokenized_text</th>\n",
       "      <th>txt&amp;key</th>\n",
       "    </tr>\n",
       "  </thead>\n",
       "  <tbody>\n",
       "    <tr>\n",
       "      <th>0</th>\n",
       "      <td></td>\n",
       "      <td>NaN</td>\n",
       "      <td>our deeds are the reason of this earthquake ma...</td>\n",
       "      <td>1</td>\n",
       "      <td>earthquake</td>\n",
       "      <td></td>\n",
       "      <td>[deeds, reason, earthquake, may, allah, forgiv...</td>\n",
       "      <td>our deeds are the reason of this earthquake ma...</td>\n",
       "    </tr>\n",
       "    <tr>\n",
       "      <th>1</th>\n",
       "      <td></td>\n",
       "      <td>NaN</td>\n",
       "      <td>forest fire near la ronge sask canada</td>\n",
       "      <td>1</td>\n",
       "      <td></td>\n",
       "      <td></td>\n",
       "      <td>[forest, fire, near, la, ronge, sask, canada]</td>\n",
       "      <td>forest fire near la ronge sask canada</td>\n",
       "    </tr>\n",
       "    <tr>\n",
       "      <th>2</th>\n",
       "      <td></td>\n",
       "      <td>NaN</td>\n",
       "      <td>all residents asked to shelter in place are be...</td>\n",
       "      <td>1</td>\n",
       "      <td></td>\n",
       "      <td></td>\n",
       "      <td>[residents, ask, shelter, place, notify, offic...</td>\n",
       "      <td>all residents asked to shelter in place are be...</td>\n",
       "    </tr>\n",
       "    <tr>\n",
       "      <th>3</th>\n",
       "      <td></td>\n",
       "      <td>NaN</td>\n",
       "      <td>people receive wildfires evacuation orders in...</td>\n",
       "      <td>1</td>\n",
       "      <td>wildfires</td>\n",
       "      <td></td>\n",
       "      <td>[people, receive, wildfires, evacuation, order...</td>\n",
       "      <td>people receive wildfires evacuation orders in...</td>\n",
       "    </tr>\n",
       "    <tr>\n",
       "      <th>4</th>\n",
       "      <td></td>\n",
       "      <td>NaN</td>\n",
       "      <td>just got sent this photo from ruby alaska as s...</td>\n",
       "      <td>1</td>\n",
       "      <td>Alaska, wildfires</td>\n",
       "      <td></td>\n",
       "      <td>[get, send, photo, ruby, alaska, smoke, wildfi...</td>\n",
       "      <td>just got sent this photo from ruby alaska as s...</td>\n",
       "    </tr>\n",
       "  </tbody>\n",
       "</table>\n",
       "</div>"
      ],
      "text/plain": [
       "  keyword location                                               text  target  \\\n",
       "0              NaN  our deeds are the reason of this earthquake ma...       1   \n",
       "1              NaN              forest fire near la ronge sask canada       1   \n",
       "2              NaN  all residents asked to shelter in place are be...       1   \n",
       "3              NaN   people receive wildfires evacuation orders in...       1   \n",
       "4              NaN  just got sent this photo from ruby alaska as s...       1   \n",
       "\n",
       "             Hashtag @                                     tokenized_text  \\\n",
       "0         earthquake    [deeds, reason, earthquake, may, allah, forgiv...   \n",
       "1                           [forest, fire, near, la, ronge, sask, canada]   \n",
       "2                       [residents, ask, shelter, place, notify, offic...   \n",
       "3          wildfires    [people, receive, wildfires, evacuation, order...   \n",
       "4  Alaska, wildfires    [get, send, photo, ruby, alaska, smoke, wildfi...   \n",
       "\n",
       "                                             txt&key  \n",
       "0  our deeds are the reason of this earthquake ma...  \n",
       "1             forest fire near la ronge sask canada   \n",
       "2  all residents asked to shelter in place are be...  \n",
       "3   people receive wildfires evacuation orders in...  \n",
       "4  just got sent this photo from ruby alaska as s...  "
      ]
     },
     "execution_count": 80,
     "metadata": {},
     "output_type": "execute_result"
    }
   ],
   "source": [
    "#apply tokenization & lemmatization to each text\n",
    "df_train[\"tokenized_text\"] = df_train[\"txt&key\"].apply(lambda x:lemmatize_word(Token_and_removestopword(x)))\n",
    "df_test[\"tokenized_text\"] = df_test[\"txt&key\"].apply(lambda x:lemmatize_word(Token_and_removestopword(x)))\n",
    "df_train[:5]"
   ]
  },
  {
   "cell_type": "markdown",
   "metadata": {},
   "source": [
    "## Vectorization\n",
    "converting into numeric formate\n",
    "* Tf-IDF\n",
    "* Countvectorizer"
   ]
  },
  {
   "cell_type": "code",
   "execution_count": 81,
   "metadata": {},
   "outputs": [],
   "source": [
    "\"\"\"\n",
    "for vectorization in countervector & tfidf the input be in text formate.\n",
    "that's why i join all text in list in above mentioned function.\n",
    "\"\"\"\n",
    "tfidf_train,tfidf_test = tfidf(df_train[\"tokenized_text\"],df_test[\"tokenized_text\"])\n",
    "cnt_train,cnt_test = countvectorizer(df_train[\"tokenized_text\"],df_test[\"tokenized_text\"])"
   ]
  },
  {
   "cell_type": "code",
   "execution_count": 82,
   "metadata": {},
   "outputs": [
    {
     "name": "stdout",
     "output_type": "stream",
     "text": [
      "(7613, 14976)\n",
      "(7613, 14976)\n",
      "(7613,)\n"
     ]
    }
   ],
   "source": [
    "#check whether shape aligns or not\n",
    "print(tfidf_train.shape)\n",
    "print(cnt_train.shape)\n",
    "print(df_train[\"target\"].shape)"
   ]
  },
  {
   "cell_type": "markdown",
   "metadata": {},
   "source": [
    "# TF-IDF"
   ]
  },
  {
   "cell_type": "code",
   "execution_count": 87,
   "metadata": {},
   "outputs": [
    {
     "name": "stdout",
     "output_type": "stream",
     "text": [
      "(6851, 14976)\n",
      "(762, 14976)\n",
      "(6851,)\n",
      "(762,)\n"
     ]
    }
   ],
   "source": [
    "# test & train Split\n",
    "from sklearn.model_selection import train_test_split\n",
    "from sklearn.linear_model import LogisticRegression\n",
    "X=tfidf_train\n",
    "y=df_train[\"target\"]\n",
    "x_train,x_test,y_train,y_test = train_test_split(X, y, test_size=0.1,random_state=42)\n",
    "print(x_train.shape)\n",
    "print(x_test.shape)\n",
    "print(y_train.shape)\n",
    "print(y_test.shape)"
   ]
  },
  {
   "cell_type": "code",
   "execution_count": 84,
   "metadata": {
    "scrolled": true
   },
   "outputs": [],
   "source": [
    "# dimentionality reduction ---> it is not necessary for this problem. because it is very small data\n",
    "#x_train,x_test = PCA(x_train,y_train,x_test,n=500)"
   ]
  },
  {
   "cell_type": "code",
   "execution_count": 88,
   "metadata": {
    "scrolled": true
   },
   "outputs": [
    {
     "name": "stderr",
     "output_type": "stream",
     "text": [
      "C:\\Users\\Anand\\Anaconda3\\lib\\site-packages\\sklearn\\linear_model\\logistic.py:432: FutureWarning: Default solver will be changed to 'lbfgs' in 0.22. Specify a solver to silence this warning.\n",
      "  FutureWarning)\n"
     ]
    },
    {
     "data": {
      "text/plain": [
       "0.7729658792650919"
      ]
     },
     "execution_count": 88,
     "metadata": {},
     "output_type": "execute_result"
    }
   ],
   "source": [
    "# prediction using logistic regression model. it is defined as function above\n",
    "preds = logreg(x_train, y_train,x_test)\n",
    "accuracy(y_test,preds)"
   ]
  },
  {
   "cell_type": "code",
   "execution_count": 89,
   "metadata": {},
   "outputs": [
    {
     "data": {
      "text/plain": [
       "0.615485564304462"
      ]
     },
     "execution_count": 89,
     "metadata": {},
     "output_type": "execute_result"
    }
   ],
   "source": [
    "#prediction using naivebiase Gaussian model. it is defined as function above\n",
    "preds = naivebiase(x_train, y_train,x_test)\n",
    "accuracy(y_test,preds)"
   ]
  },
  {
   "cell_type": "markdown",
   "metadata": {},
   "source": [
    "# CounterVectorizer"
   ]
  },
  {
   "cell_type": "code",
   "execution_count": 90,
   "metadata": {
    "scrolled": true
   },
   "outputs": [
    {
     "name": "stdout",
     "output_type": "stream",
     "text": [
      "(6851, 14976)\n",
      "(762, 14976)\n",
      "(6851,)\n",
      "(762,)\n"
     ]
    }
   ],
   "source": [
    "from sklearn.model_selection import train_test_split\n",
    "from sklearn.linear_model import LogisticRegression\n",
    "X=cnt_train\n",
    "y=df_train[\"target\"]\n",
    "x_train,x_test,y_train,y_test = train_test_split(X, y, test_size=0.1,random_state=42)\n",
    "print(x_train.shape)\n",
    "print(x_test.shape)\n",
    "print(y_train.shape)\n",
    "print(y_test.shape)"
   ]
  },
  {
   "cell_type": "code",
   "execution_count": 32,
   "metadata": {
    "scrolled": true
   },
   "outputs": [],
   "source": [
    "x_train,x_test = PCA(x_train,y_train,x_test,n=500)"
   ]
  },
  {
   "cell_type": "code",
   "execution_count": 91,
   "metadata": {
    "scrolled": true
   },
   "outputs": [
    {
     "name": "stderr",
     "output_type": "stream",
     "text": [
      "C:\\Users\\Anand\\Anaconda3\\lib\\site-packages\\sklearn\\linear_model\\logistic.py:432: FutureWarning: Default solver will be changed to 'lbfgs' in 0.22. Specify a solver to silence this warning.\n",
      "  FutureWarning)\n"
     ]
    },
    {
     "data": {
      "text/plain": [
       "0.7795275590551181"
      ]
     },
     "execution_count": 91,
     "metadata": {},
     "output_type": "execute_result"
    }
   ],
   "source": [
    "preds = logreg(x_train, y_train,x_test)\n",
    "accuracy(y_test,preds)"
   ]
  },
  {
   "cell_type": "code",
   "execution_count": 92,
   "metadata": {},
   "outputs": [
    {
     "data": {
      "text/plain": [
       "0.6181102362204725"
      ]
     },
     "execution_count": 92,
     "metadata": {},
     "output_type": "execute_result"
    }
   ],
   "source": [
    "preds = naivebiase(x_train, y_train,x_test)\n",
    "accuracy(y_test,preds)"
   ]
  },
  {
   "cell_type": "markdown",
   "metadata": {},
   "source": [
    "### Insights:\n",
    "Both Vectorizer provides same accuracy.\n",
    "hence logistic regression model provides high accuracy than naive bayes"
   ]
  },
  {
   "cell_type": "markdown",
   "metadata": {},
   "source": [
    "# Test Data"
   ]
  },
  {
   "cell_type": "code",
   "execution_count": 93,
   "metadata": {},
   "outputs": [],
   "source": [
    "x_train = cnt_train\n",
    "y_train = df_train[\"target\"] \n",
    "x_test = cnt_test"
   ]
  },
  {
   "cell_type": "code",
   "execution_count": 94,
   "metadata": {},
   "outputs": [
    {
     "name": "stdout",
     "output_type": "stream",
     "text": [
      "(7613, 14976)\n",
      "(7613,)\n",
      "(3263, 14976)\n"
     ]
    }
   ],
   "source": [
    "# check wheather shape alligns or not\n",
    "print(x_train.shape)\n",
    "print(y_train.shape)\n",
    "print(x_test.shape)"
   ]
  },
  {
   "cell_type": "code",
   "execution_count": 37,
   "metadata": {},
   "outputs": [],
   "source": [
    "#if shape is not aligned check wheather do you transform test data in vectorization part or not.\n",
    "#if test data is not transformed as per train data it may led to error due to mismatch in features.\n",
    "x_train,x_test = PCA(x_train,y_train,x_test,n=500)"
   ]
  },
  {
   "cell_type": "code",
   "execution_count": 95,
   "metadata": {},
   "outputs": [
    {
     "name": "stderr",
     "output_type": "stream",
     "text": [
      "C:\\Users\\Anand\\Anaconda3\\lib\\site-packages\\sklearn\\linear_model\\logistic.py:432: FutureWarning: Default solver will be changed to 'lbfgs' in 0.22. Specify a solver to silence this warning.\n",
      "  FutureWarning)\n"
     ]
    }
   ],
   "source": [
    "preds = logreg(x_train,y_train,x_test)"
   ]
  },
  {
   "cell_type": "code",
   "execution_count": 96,
   "metadata": {},
   "outputs": [
    {
     "data": {
      "text/plain": [
       "array([1, 1, 1, ..., 1, 1, 0], dtype=int64)"
      ]
     },
     "execution_count": 96,
     "metadata": {},
     "output_type": "execute_result"
    }
   ],
   "source": [
    "preds"
   ]
  },
  {
   "cell_type": "markdown",
   "metadata": {},
   "source": [
    "## Submmision"
   ]
  },
  {
   "cell_type": "code",
   "execution_count": 97,
   "metadata": {},
   "outputs": [
    {
     "name": "stderr",
     "output_type": "stream",
     "text": [
      "C:\\Users\\Anand\\Anaconda3\\lib\\site-packages\\ipykernel_launcher.py:2: SettingWithCopyWarning: \n",
      "A value is trying to be set on a copy of a slice from a DataFrame.\n",
      "Try using .loc[row_indexer,col_indexer] = value instead\n",
      "\n",
      "See the caveats in the documentation: http://pandas.pydata.org/pandas-docs/stable/indexing.html#indexing-view-versus-copy\n",
      "  \n"
     ]
    }
   ],
   "source": [
    "submission = test[[\"id\"]]\n",
    "submission[\"target\"] = preds"
   ]
  },
  {
   "cell_type": "code",
   "execution_count": 98,
   "metadata": {},
   "outputs": [
    {
     "data": {
      "text/html": [
       "<div>\n",
       "<style scoped>\n",
       "    .dataframe tbody tr th:only-of-type {\n",
       "        vertical-align: middle;\n",
       "    }\n",
       "\n",
       "    .dataframe tbody tr th {\n",
       "        vertical-align: top;\n",
       "    }\n",
       "\n",
       "    .dataframe thead th {\n",
       "        text-align: right;\n",
       "    }\n",
       "</style>\n",
       "<table border=\"1\" class=\"dataframe\">\n",
       "  <thead>\n",
       "    <tr style=\"text-align: right;\">\n",
       "      <th></th>\n",
       "      <th>id</th>\n",
       "      <th>target</th>\n",
       "    </tr>\n",
       "  </thead>\n",
       "  <tbody>\n",
       "    <tr>\n",
       "      <th>0</th>\n",
       "      <td>0</td>\n",
       "      <td>1</td>\n",
       "    </tr>\n",
       "    <tr>\n",
       "      <th>1</th>\n",
       "      <td>2</td>\n",
       "      <td>1</td>\n",
       "    </tr>\n",
       "    <tr>\n",
       "      <th>2</th>\n",
       "      <td>3</td>\n",
       "      <td>1</td>\n",
       "    </tr>\n",
       "    <tr>\n",
       "      <th>3</th>\n",
       "      <td>9</td>\n",
       "      <td>0</td>\n",
       "    </tr>\n",
       "    <tr>\n",
       "      <th>4</th>\n",
       "      <td>11</td>\n",
       "      <td>1</td>\n",
       "    </tr>\n",
       "  </tbody>\n",
       "</table>\n",
       "</div>"
      ],
      "text/plain": [
       "   id  target\n",
       "0   0       1\n",
       "1   2       1\n",
       "2   3       1\n",
       "3   9       0\n",
       "4  11       1"
      ]
     },
     "execution_count": 98,
     "metadata": {},
     "output_type": "execute_result"
    }
   ],
   "source": [
    "submission[:5]"
   ]
  },
  {
   "cell_type": "code",
   "execution_count": 42,
   "metadata": {},
   "outputs": [],
   "source": [
    "submission.to_csv(\"submission.csv\",index=False)"
   ]
  },
  {
   "cell_type": "markdown",
   "metadata": {},
   "source": [
    "# Thanks for viewing this kernal.  Its my first kernal on NLP in Kaggle :)"
   ]
  }
 ],
 "metadata": {
  "kernelspec": {
   "display_name": "Python 3",
   "language": "python",
   "name": "python3"
  },
  "language_info": {
   "codemirror_mode": {
    "name": "ipython",
    "version": 3
   },
   "file_extension": ".py",
   "mimetype": "text/x-python",
   "name": "python",
   "nbconvert_exporter": "python",
   "pygments_lexer": "ipython3",
   "version": "3.7.3"
  }
 },
 "nbformat": 4,
 "nbformat_minor": 2
}
