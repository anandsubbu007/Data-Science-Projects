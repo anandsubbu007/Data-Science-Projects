{
  "nbformat": 4,
  "nbformat_minor": 0,
  "metadata": {
    "colab": {
      "name": "TB Detect.ipynb",
      "provenance": []
    },
    "kernelspec": {
      "name": "python3",
      "display_name": "Python 3"
    },
    "accelerator": "GPU"
  },
  "cells": [
    {
      "cell_type": "markdown",
      "metadata": {
        "id": "O_Csa_9xZACj",
        "colab_type": "text"
      },
      "source": [
        "# Importing Essential Packages"
      ]
    },
    {
      "cell_type": "code",
      "metadata": {
        "id": "F9i1Rl4ejGkA",
        "colab_type": "code",
        "colab": {}
      },
      "source": [
        "import os, cv2 # to import directory of file\n",
        "import zipfile\n",
        "import pandas as pd #libraries to read\n",
        "import numpy as np #for algebric function\n",
        "import matplotlib.pyplot as plt # for visualization\n",
        "import matplotlib.image as imgplt #for image visualization\n",
        "import seaborn as sns #Seaborn for visualization\n",
        "\n",
        "# Sklearn Libraries\n",
        "from sklearn.model_selection import train_test_split #for test & train Split\n",
        "from sklearn.metrics import confusion_matrix, accuracy_score # metrics\n",
        "from sklearn.preprocessing import StandardScaler #for scaling to increase computing speed\n",
        "\n",
        "#keras libraries\n",
        "import tensorflow as tf\n",
        "import keras\n",
        "from keras.utils.np_utils import to_categorical\n",
        "from keras.models import Sequential\n",
        "from keras.layers import Dense, Conv2D, Conv3D, Flatten, MaxPool2D, Dropout, Activation, AvgPool2D\n",
        "from keras.preprocessing.image import img_to_array, ImageDataGenerator, load_img\n",
        "from keras.callbacks import ReduceLROnPlateau\n",
        "from keras.optimizers import RMSprop, Adam\n",
        "\n",
        "import warnings\n",
        "warnings.filterwarnings(\"ignore\")"
      ],
      "execution_count": 0,
      "outputs": []
    },
    {
      "cell_type": "markdown",
      "metadata": {
        "id": "D-mBRibwkPkt",
        "colab_type": "text"
      },
      "source": [
        "# Read Doc"
      ]
    },
    {
      "cell_type": "code",
      "metadata": {
        "id": "8k4QLvwzi4MW",
        "colab_type": "code",
        "outputId": "6c57c11c-43ea-4c8e-b43d-05f081f60d1d",
        "colab": {
          "base_uri": "https://localhost:8080/",
          "height": 51
        }
      },
      "source": [
        "fdirl=[]\n",
        "s_id = []\n",
        "for dirname, _, filenames in os.walk('/content/drive/My Drive/Data science Project/chest-xrays-tuberculosis-from-india/images'):\n",
        "    for filename in filenames:\n",
        "        fdir = os.path.join(dirname, filename)\n",
        "        s_idd = os.path.join(filename)\n",
        "        fdirl.append(fdir)\n",
        "        s_id.append(s_idd)\n",
        "fdirl[:2]"
      ],
      "execution_count": 2,
      "outputs": [
        {
          "output_type": "execute_result",
          "data": {
            "text/plain": [
              "['/content/drive/My Drive/Data science Project/chest-xrays-tuberculosis-from-india/images/TEST_nx1.jpg',\n",
              " '/content/drive/My Drive/Data science Project/chest-xrays-tuberculosis-from-india/images/TEST_nx18.jpg']"
            ]
          },
          "metadata": {
            "tags": []
          },
          "execution_count": 2
        }
      ]
    },
    {
      "cell_type": "code",
      "metadata": {
        "id": "MzeT1oKJjt5R",
        "colab_type": "code",
        "outputId": "bd1886ab-9e75-4015-82b5-1bebc5a6d27b",
        "colab": {
          "base_uri": "https://localhost:8080/",
          "height": 34
        }
      },
      "source": [
        "nRowsRead = 1000 # specify 'None' if want to read whole file\n",
        "# jaypee_metadata.csv may have more rows in reality, but we are only loading/previewing the first 1000 rows\n",
        "df = pd.read_csv('/content/drive/My Drive/Data science Project/chest-xrays-tuberculosis-from-india/jaypee_metadata.csv', delimiter=',', nrows = nRowsRead)\n",
        "#df1.dataframeName = 'jaypee_metadata.csv'\n",
        "nRow, nCol = df.shape\n",
        "print(f'There are {nRow} rows and {nCol} columns')"
      ],
      "execution_count": 67,
      "outputs": [
        {
          "output_type": "stream",
          "text": [
            "There are 155 rows and 2 columns\n"
          ],
          "name": "stdout"
        }
      ]
    },
    {
      "cell_type": "code",
      "metadata": {
        "id": "NuHX94vokc4W",
        "colab_type": "code",
        "colab": {}
      },
      "source": [
        "df[:5]"
      ],
      "execution_count": 0,
      "outputs": []
    },
    {
      "cell_type": "code",
      "metadata": {
        "id": "6v3-hqWblZOC",
        "colab_type": "code",
        "colab": {}
      },
      "source": [
        "print(df[\"findings\"].unique())\n",
        "df[:2]"
      ],
      "execution_count": 0,
      "outputs": []
    },
    {
      "cell_type": "code",
      "metadata": {
        "id": "Q7KG2odgBebC",
        "colab_type": "code",
        "colab": {
          "base_uri": "https://localhost:8080/",
          "height": 296
        },
        "outputId": "b332ec8b-5686-4163-b719-a5f260a5d89e"
      },
      "source": [
        "sns.countplot(df[\"findings\"])\n",
        "#data is equally distributed"
      ],
      "execution_count": 121,
      "outputs": [
        {
          "output_type": "execute_result",
          "data": {
            "text/plain": [
              "<matplotlib.axes._subplots.AxesSubplot at 0x7f5d50c22630>"
            ]
          },
          "metadata": {
            "tags": []
          },
          "execution_count": 121
        },
        {
          "output_type": "display_data",
          "data": {
            "image/png": "[encoded data removed]",
            "text/plain": [
              "<Figure size 432x288 with 1 Axes>"
            ]
          },
          "metadata": {
            "tags": []
          }
        }
      ]
    },
    {
      "cell_type": "markdown",
      "metadata": {
        "id": "VO9sHYIqZLxX",
        "colab_type": "text"
      },
      "source": [
        "# Assigning Lable Values"
      ]
    },
    {
      "cell_type": "code",
      "metadata": {
        "id": "D-pe1vdzA1Ka",
        "colab_type": "code",
        "colab": {
          "base_uri": "https://localhost:8080/",
          "height": 51
        },
        "outputId": "089dfce8-09b0-411b-904e-0abc3e1f05ff"
      },
      "source": [
        "dft = df[df[\"findings\"]==\"Tuberculosis\"]\n",
        "dff = df[df[\"findings\"]==\"False\"]\n",
        "print(dft.shape)\n",
        "print(dff.shape)"
      ],
      "execution_count": 4,
      "outputs": [
        {
          "output_type": "stream",
          "text": [
            "(78, 2)\n",
            "(77, 2)\n"
          ],
          "name": "stdout"
        }
      ]
    },
    {
      "cell_type": "code",
      "metadata": {
        "id": "y3H8y3zfBW5M",
        "colab_type": "code",
        "colab": {}
      },
      "source": [
        "tt = dft[\"study_id\"].to_list()\n",
        "ff = dff[\"study_id\"].to_list()"
      ],
      "execution_count": 0,
      "outputs": []
    },
    {
      "cell_type": "code",
      "metadata": {
        "id": "oMsUw6DFlGRt",
        "colab_type": "code",
        "outputId": "e2186870-2fa1-411f-af7e-f6f9534c6877",
        "colab": {
          "base_uri": "https://localhost:8080/",
          "height": 34
        }
      },
      "source": [
        "lable = []\n",
        "for i in s_id:\n",
        "  if i in tt:\n",
        "     lable.append(1)\n",
        "  if i in ff:\n",
        "      lable.append(0)\n",
        "lable = np.array(lable)\n",
        "len(lable)"
      ],
      "execution_count": 6,
      "outputs": [
        {
          "output_type": "execute_result",
          "data": {
            "text/plain": [
              "155"
            ]
          },
          "metadata": {
            "tags": []
          },
          "execution_count": 6
        }
      ]
    },
    {
      "cell_type": "markdown",
      "metadata": {
        "id": "dLJlkjv_kMtZ",
        "colab_type": "text"
      },
      "source": [
        "# Read Image"
      ]
    },
    {
      "cell_type": "code",
      "metadata": {
        "id": "33RwdKyuj9v0",
        "colab_type": "code",
        "colab": {}
      },
      "source": [
        "def read_image(file_path):\n",
        "    img = cv2.imread(file_path, cv2.IMREAD_COLOR) #cv2.IMREAD_GRAYSCALE\n",
        "    return cv2.resize(img, (250, 250), interpolation=cv2.INTER_CUBIC)"
      ],
      "execution_count": 0,
      "outputs": []
    },
    {
      "cell_type": "code",
      "metadata": {
        "id": "OZfcRUaIkoIs",
        "colab_type": "code",
        "colab": {
          "base_uri": "https://localhost:8080/",
          "height": 34
        },
        "outputId": "e108a315-b4ff-4596-a661-a299deda3f58"
      },
      "source": [
        "train = np.array([read_image(i) for i in fdirl])\n",
        "print(\"Train :\",train.shape)"
      ],
      "execution_count": 8,
      "outputs": [
        {
          "output_type": "stream",
          "text": [
            "Train : (155, 250, 250, 3)\n"
          ],
          "name": "stdout"
        }
      ]
    },
    {
      "cell_type": "code",
      "metadata": {
        "id": "RWnUzcrHBZ1Z",
        "colab_type": "code",
        "colab": {
          "base_uri": "https://localhost:8080/",
          "height": 51
        },
        "outputId": "1d206f0e-b8fa-410e-c8c4-62fd1eeb9aa3"
      },
      "source": [
        "print(\"Count of TB pat  :\",list(lable).count(1))\n",
        "print(\"Count of False   :\",list(lable).count(0))"
      ],
      "execution_count": 15,
      "outputs": [
        {
          "output_type": "stream",
          "text": [
            "Count of TB pat  : 78\n",
            "Count of False   : 77\n"
          ],
          "name": "stdout"
        }
      ]
    },
    {
      "cell_type": "markdown",
      "metadata": {
        "id": "-s5tpo-kZShm",
        "colab_type": "text"
      },
      "source": [
        "# Samle Image"
      ]
    },
    {
      "cell_type": "code",
      "metadata": {
        "id": "lLC5lYVHCM0X",
        "colab_type": "code",
        "colab": {
          "base_uri": "https://localhost:8080/",
          "height": 298
        },
        "outputId": "900ef31a-0af1-41ec-fc21-358ac311b00e"
      },
      "source": [
        "plt.imshow(train[7][:,:,0])\n",
        "plt.title(lable[7])\n",
        "#lable 0 --> No TB\n",
        "#lable 1 --> TB"
      ],
      "execution_count": 16,
      "outputs": [
        {
          "output_type": "execute_result",
          "data": {
            "text/plain": [
              "Text(0.5, 1.0, '0')"
            ]
          },
          "metadata": {
            "tags": []
          },
          "execution_count": 16
        },
        {
          "output_type": "display_data",
          "data": {
            "image/png": "[encoded data removed]",
            "text/plain": [
              "<Figure size 432x288 with 1 Axes>"
            ]
          },
          "metadata": {
            "tags": []
          }
        }
      ]
    },
    {
      "cell_type": "markdown",
      "metadata": {
        "id": "KEiyJh_JDrhf",
        "colab_type": "text"
      },
      "source": [
        "# Train & Test Split"
      ]
    },
    {
      "cell_type": "code",
      "metadata": {
        "id": "bxRt-EB3I2ew",
        "colab_type": "code",
        "colab": {
          "base_uri": "https://localhost:8080/",
          "height": 102
        },
        "outputId": "6b301420-92d2-4052-c7a4-9a354f77d53d"
      },
      "source": [
        "x=train\n",
        "y=lable\n",
        "x_train,x_test,y_train,y_test=train_test_split(x,y,test_size=.33,random_state=7)\n",
        "#y_train = y_train.reshape(-1,1)\n",
        "#y_test = y_test.reshape(-1,1)\n",
        "print(x_train.shape)\n",
        "print(x_test.shape)\n",
        "print(y_train.shape)\n",
        "print(y_test.shape)\n",
        "int_sh = x_train.shape[1:]\n",
        "print(\"Input shape :\",int_sh)"
      ],
      "execution_count": 71,
      "outputs": [
        {
          "output_type": "stream",
          "text": [
            "(103, 250, 250, 3)\n",
            "(52, 250, 250, 3)\n",
            "(103, 1)\n",
            "(52, 1)\n",
            "Input shape : (250, 250, 3)\n"
          ],
          "name": "stdout"
        }
      ]
    },
    {
      "cell_type": "markdown",
      "metadata": {
        "id": "l1OLhfz9ZVjK",
        "colab_type": "text"
      },
      "source": [
        "# CNN Model"
      ]
    },
    {
      "cell_type": "code",
      "metadata": {
        "id": "sQGyXi4CI7na",
        "colab_type": "code",
        "colab": {}
      },
      "source": [
        "def tbornot():\n",
        "  model = Sequential()\n",
        "\n",
        "  model.add(Conv2D(32,(3, 3), padding='same', input_shape=(250,250,3)))\n",
        "  model.add(Activation(\"relu\"))\n",
        "  model.add(MaxPool2D(pool_size=(2, 2)))\n",
        "\n",
        "  model.add(Conv2D(64,(3,3)))\n",
        "  model.add(Activation(\"relu\"))\n",
        "  model.add(MaxPool2D(pool_size=(2, 2)))\n",
        "\n",
        "  model.add(Conv2D(128,(3,3)))\n",
        "  model.add(Activation(\"relu\"))\n",
        "  model.add(Conv2D(250,(3,3)))\n",
        "  model.add(Activation(\"relu\"))\n",
        "  #model.add(Dropout(0.25))\n",
        "  model.add(Conv2D(120,(3,3)))\n",
        "  model.add(Activation(\"relu\"))\n",
        "  model.add(AvgPool2D(2,2))\n",
        "  model.add(Conv2D(64,(3,3)))\n",
        "  model.add(Activation(\"relu\"))\n",
        "  model.add(AvgPool2D(2,2))\n",
        "\n",
        "  model.add(Conv2D(32,(2,2)))\n",
        "  model.add(Activation(\"relu\"))\n",
        "  model.add(MaxPool2D(2,2))\n",
        "\n",
        "  model.add(Flatten())\n",
        "  model.add(Dense(32))\n",
        "  model.add(Dropout(0.25))\n",
        "  model.add(Dense(1))\n",
        "  model.add(Activation(\"sigmoid\"))\n",
        "\n",
        "  opt = keras.optimizers.Adam(0.001)\n",
        "  model.compile(loss=\"binary_crossentropy\",optimizer=\"Adam\",metrics=[\"accuracy\"])\n",
        "  return model"
      ],
      "execution_count": 0,
      "outputs": []
    },
    {
      "cell_type": "code",
      "metadata": {
        "id": "94WxkuW7MrxT",
        "colab_type": "code",
        "colab": {}
      },
      "source": [
        "model = tbornot()"
      ],
      "execution_count": 0,
      "outputs": []
    },
    {
      "cell_type": "markdown",
      "metadata": {
        "id": "XrBfxyrxZY3k",
        "colab_type": "text"
      },
      "source": [
        "# Learning Rate optimize"
      ]
    },
    {
      "cell_type": "code",
      "metadata": {
        "id": "kwkB91IlMPqw",
        "colab_type": "code",
        "colab": {}
      },
      "source": [
        "reduce_lr = ReduceLROnPlateau(monitor='val_loss', patience=4, min_lr=0.0001)"
      ],
      "execution_count": 0,
      "outputs": []
    },
    {
      "cell_type": "markdown",
      "metadata": {
        "id": "DTZlEnDiZm1-",
        "colab_type": "text"
      },
      "source": [
        "# Data Argumentation"
      ]
    },
    {
      "cell_type": "code",
      "metadata": {
        "id": "mhQZfNgJMTsn",
        "colab_type": "code",
        "colab": {}
      },
      "source": [
        "datagen = ImageDataGenerator(\n",
        "    shear_range=0.1,\n",
        "    zoom_range=0.2,\n",
        "    rescale=1.0/255.0,\n",
        "    rotation_range = 10)\n",
        "datagen.fit(x_train)"
      ],
      "execution_count": 0,
      "outputs": []
    },
    {
      "cell_type": "markdown",
      "metadata": {
        "id": "mce4wOcEZek6",
        "colab_type": "text"
      },
      "source": [
        "# Fitting Model"
      ]
    },
    {
      "cell_type": "code",
      "metadata": {
        "id": "SCYec3FaMy04",
        "colab_type": "code",
        "colab": {
          "base_uri": "https://localhost:8080/",
          "height": 1000
        },
        "outputId": "3f8a011b-9857-4ef5-9072-bc2141c9293a"
      },
      "source": [
        "mod2 = model.fit(datagen.flow(x_train,y_train,batch_size=30),\n",
        "                validation_data=(x_train,y_train),epochs=100,callbacks=[reduce_lr])"
      ],
      "execution_count": 158,
      "outputs": [
        {
          "output_type": "stream",
          "text": [
            "Epoch 1/100\n",
            "4/4 [==============================] - 4s 888ms/step - loss: 0.7404 - acc: 0.5171 - val_loss: 7.3549 - val_acc: 0.5437\n",
            "Epoch 2/100\n",
            "4/4 [==============================] - 1s 201ms/step - loss: 0.6850 - acc: 0.5605 - val_loss: 8.6677 - val_acc: 0.4563\n",
            "Epoch 3/100\n",
            "4/4 [==============================] - 1s 334ms/step - loss: 0.6951 - acc: 0.4225 - val_loss: 1.1648 - val_acc: 0.5728\n",
            "Epoch 4/100\n",
            "4/4 [==============================] - 1s 323ms/step - loss: 0.6905 - acc: 0.5779 - val_loss: 5.7996 - val_acc: 0.5437\n",
            "Epoch 5/100\n",
            "4/4 [==============================] - 1s 329ms/step - loss: 0.6937 - acc: 0.5257 - val_loss: 7.3043 - val_acc: 0.5437\n",
            "Epoch 6/100\n",
            "4/4 [==============================] - 1s 328ms/step - loss: 0.6894 - acc: 0.5431 - val_loss: 7.2658 - val_acc: 0.5437\n",
            "Epoch 7/100\n",
            "4/4 [==============================] - 1s 317ms/step - loss: 0.6918 - acc: 0.5257 - val_loss: 7.3241 - val_acc: 0.5437\n",
            "Epoch 8/100\n",
            "4/4 [==============================] - 1s 202ms/step - loss: 0.6850 - acc: 0.5605 - val_loss: 7.3255 - val_acc: 0.5437\n",
            "Epoch 9/100\n",
            "4/4 [==============================] - 1s 331ms/step - loss: 0.6885 - acc: 0.5431 - val_loss: 7.3235 - val_acc: 0.5437\n",
            "Epoch 10/100\n",
            "4/4 [==============================] - 1s 333ms/step - loss: 0.6816 - acc: 0.5605 - val_loss: 7.3267 - val_acc: 0.5437\n",
            "Epoch 11/100\n",
            "4/4 [==============================] - 1s 324ms/step - loss: 0.6826 - acc: 0.5518 - val_loss: 7.3549 - val_acc: 0.5437\n",
            "Epoch 12/100\n",
            "4/4 [==============================] - 1s 325ms/step - loss: 0.6875 - acc: 0.5431 - val_loss: 7.3549 - val_acc: 0.5437\n",
            "Epoch 13/100\n",
            "4/4 [==============================] - 1s 322ms/step - loss: 0.6851 - acc: 0.5693 - val_loss: 7.3549 - val_acc: 0.5437\n",
            "Epoch 14/100\n",
            "4/4 [==============================] - 1s 322ms/step - loss: 0.6840 - acc: 0.5518 - val_loss: 7.3549 - val_acc: 0.5437\n",
            "Epoch 15/100\n",
            "4/4 [==============================] - 1s 327ms/step - loss: 0.6867 - acc: 0.5344 - val_loss: 7.3549 - val_acc: 0.5437\n",
            "Epoch 16/100\n",
            "4/4 [==============================] - 1s 327ms/step - loss: 0.6798 - acc: 0.5605 - val_loss: 7.3453 - val_acc: 0.5437\n",
            "Epoch 17/100\n",
            "4/4 [==============================] - 1s 325ms/step - loss: 0.6794 - acc: 0.5518 - val_loss: 7.3028 - val_acc: 0.5437\n",
            "Epoch 18/100\n",
            "4/4 [==============================] - 1s 324ms/step - loss: 0.6825 - acc: 0.5605 - val_loss: 7.1337 - val_acc: 0.5437\n",
            "Epoch 19/100\n",
            "4/4 [==============================] - 1s 340ms/step - loss: 0.6802 - acc: 0.5516 - val_loss: 7.0632 - val_acc: 0.5437\n",
            "Epoch 20/100\n",
            "4/4 [==============================] - 1s 338ms/step - loss: 0.6697 - acc: 0.5688 - val_loss: 7.0705 - val_acc: 0.5534\n",
            "Epoch 21/100\n",
            "4/4 [==============================] - 1s 322ms/step - loss: 0.6647 - acc: 0.6380 - val_loss: 6.6508 - val_acc: 0.5534\n",
            "Epoch 22/100\n",
            "4/4 [==============================] - 1s 326ms/step - loss: 0.6607 - acc: 0.6204 - val_loss: 5.6565 - val_acc: 0.5728\n",
            "Epoch 23/100\n",
            "4/4 [==============================] - 1s 347ms/step - loss: 0.6487 - acc: 0.6207 - val_loss: 6.0026 - val_acc: 0.5728\n",
            "Epoch 24/100\n",
            "4/4 [==============================] - 1s 323ms/step - loss: 0.6547 - acc: 0.6551 - val_loss: 4.2817 - val_acc: 0.6990\n",
            "Epoch 25/100\n",
            "4/4 [==============================] - 1s 319ms/step - loss: 0.6332 - acc: 0.6638 - val_loss: 3.5449 - val_acc: 0.7573\n",
            "Epoch 26/100\n",
            "4/4 [==============================] - 1s 329ms/step - loss: 0.6228 - acc: 0.6727 - val_loss: 3.5650 - val_acc: 0.7670\n",
            "Epoch 27/100\n",
            "4/4 [==============================] - 1s 318ms/step - loss: 0.6801 - acc: 0.6206 - val_loss: 4.6404 - val_acc: 0.7087\n",
            "Epoch 28/100\n",
            "4/4 [==============================] - 1s 330ms/step - loss: 0.6457 - acc: 0.6120 - val_loss: 3.5732 - val_acc: 0.7767\n",
            "Epoch 29/100\n",
            "4/4 [==============================] - 1s 326ms/step - loss: 0.6002 - acc: 0.7069 - val_loss: 3.6004 - val_acc: 0.7767\n",
            "Epoch 30/100\n",
            "4/4 [==============================] - 1s 329ms/step - loss: 0.6366 - acc: 0.5860 - val_loss: 4.5566 - val_acc: 0.7087\n",
            "Epoch 31/100\n",
            "4/4 [==============================] - 1s 335ms/step - loss: 0.5841 - acc: 0.7242 - val_loss: 3.5159 - val_acc: 0.7767\n",
            "Epoch 32/100\n",
            "4/4 [==============================] - 1s 330ms/step - loss: 0.5373 - acc: 0.7586 - val_loss: 3.6454 - val_acc: 0.7670\n",
            "Epoch 33/100\n",
            "4/4 [==============================] - 1s 321ms/step - loss: 0.5687 - acc: 0.7070 - val_loss: 3.5565 - val_acc: 0.7767\n",
            "Epoch 34/100\n",
            "4/4 [==============================] - 1s 318ms/step - loss: 0.5576 - acc: 0.7156 - val_loss: 3.7924 - val_acc: 0.7573\n",
            "Epoch 35/100\n",
            "4/4 [==============================] - 1s 333ms/step - loss: 0.5483 - acc: 0.6811 - val_loss: 3.3851 - val_acc: 0.7767\n",
            "Epoch 36/100\n",
            "4/4 [==============================] - 1s 374ms/step - loss: 0.5162 - acc: 0.7157 - val_loss: 3.2947 - val_acc: 0.7864\n",
            "Epoch 37/100\n",
            "4/4 [==============================] - 1s 322ms/step - loss: 0.5955 - acc: 0.7070 - val_loss: 3.1913 - val_acc: 0.7864\n",
            "Epoch 38/100\n",
            "4/4 [==============================] - 1s 328ms/step - loss: 0.4893 - acc: 0.7674 - val_loss: 2.6681 - val_acc: 0.8252\n",
            "Epoch 39/100\n",
            "4/4 [==============================] - 1s 334ms/step - loss: 0.5395 - acc: 0.7327 - val_loss: 2.6507 - val_acc: 0.8350\n",
            "Epoch 40/100\n",
            "4/4 [==============================] - 1s 357ms/step - loss: 0.5228 - acc: 0.7844 - val_loss: 2.7009 - val_acc: 0.8252\n",
            "Epoch 41/100\n",
            "4/4 [==============================] - 1s 316ms/step - loss: 0.5026 - acc: 0.7845 - val_loss: 2.7960 - val_acc: 0.8058\n",
            "Epoch 42/100\n",
            "4/4 [==============================] - 1s 333ms/step - loss: 0.5442 - acc: 0.7155 - val_loss: 2.7391 - val_acc: 0.8155\n",
            "Epoch 43/100\n",
            "4/4 [==============================] - 1s 335ms/step - loss: 0.4776 - acc: 0.7586 - val_loss: 2.6008 - val_acc: 0.8350\n",
            "Epoch 44/100\n",
            "4/4 [==============================] - 1s 326ms/step - loss: 0.5577 - acc: 0.7155 - val_loss: 3.2779 - val_acc: 0.7961\n",
            "Epoch 45/100\n",
            "4/4 [==============================] - 1s 330ms/step - loss: 0.4911 - acc: 0.7675 - val_loss: 2.5227 - val_acc: 0.8350\n",
            "Epoch 46/100\n",
            "4/4 [==============================] - 1s 326ms/step - loss: 0.4631 - acc: 0.7672 - val_loss: 2.9308 - val_acc: 0.8058\n",
            "Epoch 47/100\n",
            "4/4 [==============================] - 1s 310ms/step - loss: 0.4845 - acc: 0.8015 - val_loss: 2.4286 - val_acc: 0.8350\n",
            "Epoch 48/100\n",
            "4/4 [==============================] - 1s 329ms/step - loss: 0.4510 - acc: 0.7847 - val_loss: 3.4411 - val_acc: 0.7864\n",
            "Epoch 49/100\n",
            "4/4 [==============================] - 1s 324ms/step - loss: 0.4424 - acc: 0.8105 - val_loss: 2.7268 - val_acc: 0.8252\n",
            "Epoch 50/100\n",
            "4/4 [==============================] - 1s 330ms/step - loss: 0.4548 - acc: 0.7931 - val_loss: 3.1234 - val_acc: 0.7961\n",
            "Epoch 51/100\n",
            "4/4 [==============================] - 1s 320ms/step - loss: 0.5418 - acc: 0.7585 - val_loss: 3.0990 - val_acc: 0.7961\n",
            "Epoch 52/100\n",
            "4/4 [==============================] - 1s 324ms/step - loss: 0.4315 - acc: 0.8275 - val_loss: 2.8365 - val_acc: 0.8155\n",
            "Epoch 53/100\n",
            "4/4 [==============================] - 1s 345ms/step - loss: 0.5190 - acc: 0.7501 - val_loss: 2.3479 - val_acc: 0.8544\n",
            "Epoch 54/100\n",
            "4/4 [==============================] - 1s 334ms/step - loss: 0.4678 - acc: 0.7845 - val_loss: 2.7004 - val_acc: 0.8155\n",
            "Epoch 55/100\n",
            "4/4 [==============================] - 1s 327ms/step - loss: 0.4115 - acc: 0.8018 - val_loss: 2.0751 - val_acc: 0.8544\n",
            "Epoch 56/100\n",
            "4/4 [==============================] - 1s 323ms/step - loss: 0.4501 - acc: 0.8361 - val_loss: 2.5790 - val_acc: 0.8350\n",
            "Epoch 57/100\n",
            "4/4 [==============================] - 1s 344ms/step - loss: 0.3624 - acc: 0.8795 - val_loss: 1.8728 - val_acc: 0.8835\n",
            "Epoch 58/100\n",
            "4/4 [==============================] - 1s 321ms/step - loss: 0.4749 - acc: 0.7759 - val_loss: 2.0309 - val_acc: 0.8738\n",
            "Epoch 59/100\n",
            "4/4 [==============================] - 1s 323ms/step - loss: 0.4320 - acc: 0.7670 - val_loss: 2.0051 - val_acc: 0.8738\n",
            "Epoch 60/100\n",
            "4/4 [==============================] - 1s 333ms/step - loss: 0.3590 - acc: 0.8449 - val_loss: 2.6606 - val_acc: 0.8252\n",
            "Epoch 61/100\n",
            "4/4 [==============================] - 1s 330ms/step - loss: 0.3676 - acc: 0.8364 - val_loss: 2.4868 - val_acc: 0.8447\n",
            "Epoch 62/100\n",
            "4/4 [==============================] - 1s 318ms/step - loss: 0.3856 - acc: 0.8277 - val_loss: 2.3371 - val_acc: 0.8544\n",
            "Epoch 63/100\n",
            "4/4 [==============================] - 1s 327ms/step - loss: 0.3947 - acc: 0.8189 - val_loss: 2.0309 - val_acc: 0.8738\n",
            "Epoch 64/100\n",
            "4/4 [==============================] - 1s 324ms/step - loss: 0.3826 - acc: 0.8190 - val_loss: 1.8706 - val_acc: 0.8835\n",
            "Epoch 65/100\n",
            "4/4 [==============================] - 1s 322ms/step - loss: 0.4070 - acc: 0.8016 - val_loss: 2.1264 - val_acc: 0.8641\n",
            "Epoch 66/100\n",
            "4/4 [==============================] - 1s 325ms/step - loss: 0.4570 - acc: 0.7759 - val_loss: 2.0241 - val_acc: 0.8738\n",
            "Epoch 67/100\n",
            "4/4 [==============================] - 1s 340ms/step - loss: 0.3950 - acc: 0.7672 - val_loss: 1.8545 - val_acc: 0.8835\n",
            "Epoch 68/100\n",
            "4/4 [==============================] - 1s 336ms/step - loss: 0.3985 - acc: 0.7931 - val_loss: 2.0242 - val_acc: 0.8738\n",
            "Epoch 69/100\n",
            "4/4 [==============================] - 1s 346ms/step - loss: 0.3749 - acc: 0.8017 - val_loss: 1.8303 - val_acc: 0.8835\n",
            "Epoch 70/100\n",
            "4/4 [==============================] - 1s 333ms/step - loss: 0.4197 - acc: 0.7930 - val_loss: 1.8803 - val_acc: 0.8835\n",
            "Epoch 71/100\n",
            "4/4 [==============================] - 1s 322ms/step - loss: 0.3360 - acc: 0.8708 - val_loss: 1.8837 - val_acc: 0.8738\n",
            "Epoch 72/100\n",
            "4/4 [==============================] - 1s 325ms/step - loss: 0.3515 - acc: 0.8620 - val_loss: 2.0241 - val_acc: 0.8738\n",
            "Epoch 73/100\n",
            "4/4 [==============================] - 1s 322ms/step - loss: 0.3633 - acc: 0.8532 - val_loss: 1.5599 - val_acc: 0.9029\n",
            "Epoch 74/100\n",
            "4/4 [==============================] - 1s 333ms/step - loss: 0.3358 - acc: 0.8362 - val_loss: 1.5923 - val_acc: 0.8932\n",
            "Epoch 75/100\n",
            "4/4 [==============================] - 1s 325ms/step - loss: 0.3966 - acc: 0.8620 - val_loss: 1.6272 - val_acc: 0.8932\n",
            "Epoch 76/100\n",
            "4/4 [==============================] - 1s 325ms/step - loss: 0.3533 - acc: 0.8361 - val_loss: 1.5925 - val_acc: 0.8932\n",
            "Epoch 77/100\n",
            "4/4 [==============================] - 1s 333ms/step - loss: 0.3341 - acc: 0.8880 - val_loss: 1.4280 - val_acc: 0.9029\n",
            "Epoch 78/100\n",
            "4/4 [==============================] - 1s 329ms/step - loss: 0.2654 - acc: 0.9139 - val_loss: 1.6198 - val_acc: 0.8932\n",
            "Epoch 79/100\n",
            "4/4 [==============================] - 1s 332ms/step - loss: 0.3104 - acc: 0.8534 - val_loss: 1.8744 - val_acc: 0.8835\n",
            "Epoch 80/100\n",
            "4/4 [==============================] - 1s 333ms/step - loss: 0.3100 - acc: 0.8708 - val_loss: 1.4035 - val_acc: 0.9126\n",
            "Epoch 81/100\n",
            "4/4 [==============================] - 1s 361ms/step - loss: 0.2449 - acc: 0.9138 - val_loss: 1.4082 - val_acc: 0.9126\n",
            "Epoch 82/100\n",
            "4/4 [==============================] - 1s 319ms/step - loss: 0.2766 - acc: 0.8881 - val_loss: 1.5615 - val_acc: 0.9029\n",
            "Epoch 83/100\n",
            "4/4 [==============================] - 1s 333ms/step - loss: 0.3227 - acc: 0.8794 - val_loss: 1.2785 - val_acc: 0.9126\n",
            "Epoch 84/100\n",
            "4/4 [==============================] - 1s 326ms/step - loss: 0.2950 - acc: 0.8965 - val_loss: 2.2431 - val_acc: 0.8544\n",
            "Epoch 85/100\n",
            "4/4 [==============================] - 1s 348ms/step - loss: 0.3360 - acc: 0.8792 - val_loss: 1.7179 - val_acc: 0.8932\n",
            "Epoch 86/100\n",
            "4/4 [==============================] - 1s 318ms/step - loss: 0.3750 - acc: 0.8362 - val_loss: 2.3072 - val_acc: 0.8544\n",
            "Epoch 87/100\n",
            "4/4 [==============================] - 1s 330ms/step - loss: 0.5522 - acc: 0.7498 - val_loss: 3.7959 - val_acc: 0.7573\n",
            "Epoch 88/100\n",
            "4/4 [==============================] - 1s 327ms/step - loss: 0.3440 - acc: 0.8879 - val_loss: 1.8761 - val_acc: 0.8835\n",
            "Epoch 89/100\n",
            "4/4 [==============================] - 1s 318ms/step - loss: 0.3338 - acc: 0.8276 - val_loss: 1.4067 - val_acc: 0.9126\n",
            "Epoch 90/100\n",
            "4/4 [==============================] - 1s 330ms/step - loss: 0.2918 - acc: 0.8879 - val_loss: 2.1825 - val_acc: 0.8447\n",
            "Epoch 91/100\n",
            "4/4 [==============================] - 1s 326ms/step - loss: 0.2907 - acc: 0.9139 - val_loss: 2.8994 - val_acc: 0.8155\n",
            "Epoch 92/100\n",
            "4/4 [==============================] - 1s 320ms/step - loss: 0.3334 - acc: 0.8623 - val_loss: 1.8779 - val_acc: 0.8835\n",
            "Epoch 93/100\n",
            "4/4 [==============================] - 1s 315ms/step - loss: 0.2987 - acc: 0.8965 - val_loss: 1.8350 - val_acc: 0.8738\n",
            "Epoch 94/100\n",
            "4/4 [==============================] - 1s 325ms/step - loss: 0.2911 - acc: 0.8880 - val_loss: 1.6570 - val_acc: 0.8932\n",
            "Epoch 95/100\n",
            "4/4 [==============================] - 1s 333ms/step - loss: 0.2696 - acc: 0.8966 - val_loss: 1.7647 - val_acc: 0.8835\n",
            "Epoch 96/100\n",
            "4/4 [==============================] - 1s 325ms/step - loss: 0.2943 - acc: 0.8535 - val_loss: 1.7162 - val_acc: 0.8932\n",
            "Epoch 97/100\n",
            "4/4 [==============================] - 1s 321ms/step - loss: 0.2918 - acc: 0.8963 - val_loss: 1.7853 - val_acc: 0.8835\n",
            "Epoch 98/100\n",
            "4/4 [==============================] - 1s 328ms/step - loss: 0.2348 - acc: 0.8966 - val_loss: 2.6007 - val_acc: 0.8350\n",
            "Epoch 99/100\n",
            "4/4 [==============================] - 1s 351ms/step - loss: 0.2440 - acc: 0.9224 - val_loss: 1.8676 - val_acc: 0.8835\n",
            "Epoch 100/100\n",
            "4/4 [==============================] - 1s 328ms/step - loss: 0.2826 - acc: 0.8708 - val_loss: 1.7196 - val_acc: 0.8932\n"
          ],
          "name": "stdout"
        }
      ]
    },
    {
      "cell_type": "code",
      "metadata": {
        "id": "emuDNW9hOXKq",
        "colab_type": "code",
        "colab": {
          "base_uri": "https://localhost:8080/",
          "height": 34
        },
        "outputId": "a734362d-b750-4571-b3c5-f1b131bf727f"
      },
      "source": [
        "print(mod.history.keys())"
      ],
      "execution_count": 118,
      "outputs": [
        {
          "output_type": "stream",
          "text": [
            "dict_keys(['val_loss', 'val_acc', 'loss', 'acc', 'lr'])\n"
          ],
          "name": "stdout"
        }
      ]
    },
    {
      "cell_type": "markdown",
      "metadata": {
        "id": "I9vhHCrTZp4R",
        "colab_type": "text"
      },
      "source": [
        "# Report of Loss & Accuracy"
      ]
    },
    {
      "cell_type": "code",
      "metadata": {
        "id": "5BjYTUevPQ6j",
        "colab_type": "code",
        "colab": {
          "base_uri": "https://localhost:8080/",
          "height": 295
        },
        "outputId": "5fe028dd-8fa5-48ff-e621-59eb4be04d36"
      },
      "source": [
        "# summarize history for Loss\n",
        "plt.plot(mod2.history[\"loss\"])\n",
        "plt.plot(mod2.history[\"val_loss\"])\n",
        "plt.title(\"Model Loss\")\n",
        "plt.ylabel('Loss')\n",
        "plt.xlabel('epoch')\n",
        "plt.legend(['train', 'test'], loc='upper left')\n",
        "plt.show()"
      ],
      "execution_count": 159,
      "outputs": [
        {
          "output_type": "display_data",
          "data": {
            "image/png": "[encoded data removed]",
            "text/plain": [
              "<Figure size 432x288 with 1 Axes>"
            ]
          },
          "metadata": {
            "tags": []
          }
        }
      ]
    },
    {
      "cell_type": "code",
      "metadata": {
        "id": "SOoQPVuMPrNh",
        "colab_type": "code",
        "colab": {
          "base_uri": "https://localhost:8080/",
          "height": 295
        },
        "outputId": "6e4f5fad-63e4-4b43-fa3f-d7be41324025"
      },
      "source": [
        "# summarize history for accuracy\n",
        "plt.plot(mod2.history['acc'])\n",
        "plt.plot(mod2.history['val_acc'])\n",
        "plt.title('model accuracy')\n",
        "plt.ylabel('accuracy')\n",
        "plt.xlabel('epoch')\n",
        "plt.legend(['train', 'test'], loc='upper left')\n",
        "plt.show()"
      ],
      "execution_count": 160,
      "outputs": [
        {
          "output_type": "display_data",
          "data": {
            "image/png": "[encoded data removed]",
            "text/plain": [
              "<Figure size 432x288 with 1 Axes>"
            ]
          },
          "metadata": {
            "tags": []
          }
        }
      ]
    },
    {
      "cell_type": "markdown",
      "metadata": {
        "id": "4Kz0sr8hcHmC",
        "colab_type": "text"
      },
      "source": [
        "# Prediction"
      ]
    },
    {
      "cell_type": "code",
      "metadata": {
        "id": "7_xz_pZaZvpT",
        "colab_type": "code",
        "colab": {
          "base_uri": "https://localhost:8080/",
          "height": 102
        },
        "outputId": "40255312-1784-40f1-d7f9-700a86aa53e3"
      },
      "source": [
        "y_pred = model.predict(x_test)\n",
        "y_pred[:5]"
      ],
      "execution_count": 161,
      "outputs": [
        {
          "output_type": "execute_result",
          "data": {
            "text/plain": [
              "array([[0.],\n",
              "       [0.],\n",
              "       [0.],\n",
              "       [0.],\n",
              "       [0.]], dtype=float32)"
            ]
          },
          "metadata": {
            "tags": []
          },
          "execution_count": 161
        }
      ]
    },
    {
      "cell_type": "code",
      "metadata": {
        "id": "4cnfovXXZ4-a",
        "colab_type": "code",
        "colab": {
          "base_uri": "https://localhost:8080/",
          "height": 68
        },
        "outputId": "28f02969-a07a-4c86-a882-a034ab66d37a"
      },
      "source": [
        "print(accuracy_score(y_pred.round(),y_test))\n",
        "cm = confusion_matrix(y_pred.round(),y_test,labels=[0,1])\n",
        "cm"
      ],
      "execution_count": 162,
      "outputs": [
        {
          "output_type": "stream",
          "text": [
            "0.7115384615384616\n"
          ],
          "name": "stdout"
        },
        {
          "output_type": "execute_result",
          "data": {
            "text/plain": [
              "array([[19, 13],\n",
              "       [ 2, 18]])"
            ]
          },
          "metadata": {
            "tags": []
          },
          "execution_count": 162
        }
      ]
    },
    {
      "cell_type": "markdown",
      "metadata": {
        "id": "6Sja7y6WcLMY",
        "colab_type": "text"
      },
      "source": [
        "# Confusion Matrix"
      ]
    },
    {
      "cell_type": "code",
      "metadata": {
        "id": "gNcAK2cTagpT",
        "colab_type": "code",
        "colab": {
          "base_uri": "https://localhost:8080/",
          "height": 282
        },
        "outputId": "bff79294-5d05-4aff-fec9-35a5ec60c61c"
      },
      "source": [
        "df_cm = pd.DataFrame(cm, index = [0,1],\n",
        "                  columns = [0,1])\n",
        "sns.heatmap(df_cm, annot=True)"
      ],
      "execution_count": 163,
      "outputs": [
        {
          "output_type": "execute_result",
          "data": {
            "text/plain": [
              "<matplotlib.axes._subplots.AxesSubplot at 0x7f5cdd648828>"
            ]
          },
          "metadata": {
            "tags": []
          },
          "execution_count": 163
        },
        {
          "output_type": "display_data",
          "data": {
            "image/png": "[encoded data removed]",
            "text/plain": [
              "<Figure size 432x288 with 2 Axes>"
            ]
          },
          "metadata": {
            "tags": []
          }
        }
      ]
    },
    {
      "cell_type": "code",
      "metadata": {
        "id": "DldfD6algrsO",
        "colab_type": "code",
        "colab": {}
      },
      "source": [
        ""
      ],
      "execution_count": 0,
      "outputs": []
    }
  ]
}