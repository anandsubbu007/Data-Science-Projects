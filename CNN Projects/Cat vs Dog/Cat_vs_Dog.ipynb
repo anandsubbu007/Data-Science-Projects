{
  "nbformat": 4,
  "nbformat_minor": 0,
  "metadata": {
    "colab": {
      "name": "Cat vs Dog.ipynb",
      "provenance": [],
      "collapsed_sections": [],
      "machine_shape": "hm"
    },
    "kernelspec": {
      "name": "python3",
      "display_name": "Python 3"
    },
    "accelerator": "GPU"
  },
  "cells": [
    {
      "cell_type": "code",
      "metadata": {
        "id": "OB4LWXZd0wbA",
        "colab_type": "code",
        "outputId": "5394fee4-0cb6-4b03-dc50-785957e02638",
        "colab": {
          "resources": {
            "http://localhost:8080/nbextensions/google.colab/files.js": {
              "data": "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",
              "ok": true,
              "headers": [
                [
                  "content-type",
                  "application/javascript"
                ]
              ],
              "status": 200,
              "status_text": ""
            }
          },
          "base_uri": "https://localhost:8080/",
          "height": 91
        }
      },
      "source": [
        "from google.colab import files\n",
        "\n",
        "uploaded = files.upload()\n",
        "\n",
        "for fn in uploaded.keys():\n",
        "  print('User uploaded file \"{name}\" with length {length} bytes'.format(\n",
        "      name=fn, length=len(uploaded[fn])))\n",
        "  \n",
        "# Then move kaggle.json into the folder where the API expects to find it.\n",
        "!mkdir -p ~/.kaggle/ && mv kaggle.json ~/.kaggle/ && chmod 600 ~/.kaggle/kaggle.json"
      ],
      "execution_count": 7,
      "outputs": [
        {
          "output_type": "display_data",
          "data": {
            "text/html": [
              "\n",
              "     <input type=\"file\" id=\"files-1a349bb5-39a7-4cc4-b0a8-ee019c7327a8\" name=\"files[]\" multiple disabled />\n",
              "     <output id=\"result-1a349bb5-39a7-4cc4-b0a8-ee019c7327a8\">\n",
              "      Upload widget is only available when the cell has been executed in the\n",
              "      current browser session. Please rerun this cell to enable.\n",
              "      </output>\n",
              "      <script src=\"/nbextensions/google.colab/files.js\"></script> "
            ],
            "text/plain": [
              "<IPython.core.display.HTML object>"
            ]
          },
          "metadata": {
            "tags": []
          }
        },
        {
          "output_type": "stream",
          "text": [
            "Saving kaggle.json to kaggle.json\n",
            "User uploaded file \"kaggle.json\" with length 69 bytes\n"
          ],
          "name": "stdout"
        }
      ]
    },
    {
      "cell_type": "code",
      "metadata": {
        "id": "kxM18o1k1iEw",
        "colab_type": "code",
        "outputId": "eb25baa2-3d31-4d1a-dc67-167b4b0f404d",
        "colab": {
          "base_uri": "https://localhost:8080/",
          "height": 187
        }
      },
      "source": [
        "!kaggle competitions download -c dogs-vs-cats-redux-kernels-edition"
      ],
      "execution_count": 8,
      "outputs": [
        {
          "output_type": "stream",
          "text": [
            "Warning: Looks like you're using an outdated API Version, please consider updating (server 1.5.6 / client 1.5.4)\n",
            "Downloading test.zip to /content\n",
            " 94% 254M/271M [00:02<00:00, 122MB/s]\n",
            "100% 271M/271M [00:02<00:00, 120MB/s]\n",
            "Downloading train.zip to /content\n",
            " 99% 537M/544M [00:09<00:00, 82.0MB/s]\n",
            "100% 544M/544M [00:09<00:00, 60.7MB/s]\n",
            "Downloading sample_submission.csv to /content\n",
            "  0% 0.00/111k [00:00<?, ?B/s]\n",
            "100% 111k/111k [00:00<00:00, 113MB/s]\n"
          ],
          "name": "stdout"
        }
      ]
    },
    {
      "cell_type": "markdown",
      "metadata": {
        "id": "he6PAhw7_ROP",
        "colab_type": "text"
      },
      "source": [
        "# Importing Libraries"
      ]
    },
    {
      "cell_type": "code",
      "metadata": {
        "id": "bPYgbzgT6Vys",
        "colab_type": "code",
        "outputId": "6b811658-6bcc-4b22-bde9-2c92e7e17634",
        "colab": {
          "base_uri": "https://localhost:8080/",
          "height": 80
        }
      },
      "source": [
        "import os, cv2 # to import directory of file\n",
        "import zipfile\n",
        "import pandas as pd #libraries to read\n",
        "import numpy as np #for algebric function\n",
        "import matplotlib.pyplot as plt # for visualization\n",
        "import matplotlib.image as imgplt #for image visualization\n",
        "import seaborn as sns #Seaborn for visualization\n",
        "\n",
        "# Sklearn Libraries\n",
        "from sklearn.model_selection import train_test_split #for test & train Split\n",
        "from sklearn.metrics import confusion_matrix, accuracy_score # metrics\n",
        "from sklearn.preprocessing import StandardScaler #for scaling to increase computing speed\n",
        "\n",
        "#keras libraries\n",
        "import tensorflow as tf\n",
        "from keras.utils.np_utils import to_categorical\n",
        "from keras.models import Sequential\n",
        "from keras.layers import Dense, Conv2D, Conv3D, Flatten, MaxPool2D, Dropout, Activation, AvgPool2D\n",
        "from keras.preprocessing.image import img_to_array, ImageDataGenerator, load_img\n",
        "from keras.callbacks import ReduceLROnPlateau\n",
        "from keras.optimizers import RMSprop, Adam"
      ],
      "execution_count": 1,
      "outputs": [
        {
          "output_type": "display_data",
          "data": {
            "text/html": [
              "<p style=\"color: red;\">\n",
              "The default version of TensorFlow in Colab will soon switch to TensorFlow 2.x.<br>\n",
              "We recommend you <a href=\"https://www.tensorflow.org/guide/migrate\" target=\"_blank\">upgrade</a> now \n",
              "or ensure your notebook will continue to use TensorFlow 1.x via the <code>%tensorflow_version 1.x</code> magic:\n",
              "<a href=\"https://colab.research.google.com/notebooks/tensorflow_version.ipynb\" target=\"_blank\">more info</a>.</p>\n"
            ],
            "text/plain": [
              "<IPython.core.display.HTML object>"
            ]
          },
          "metadata": {
            "tags": []
          }
        },
        {
          "output_type": "stream",
          "text": [
            "Using TensorFlow backend.\n"
          ],
          "name": "stderr"
        }
      ]
    },
    {
      "cell_type": "markdown",
      "metadata": {
        "id": "qauwWjqU8vl-",
        "colab_type": "text"
      },
      "source": [
        "# Reading files"
      ]
    },
    {
      "cell_type": "code",
      "metadata": {
        "id": "WdPZUZyp6jWZ",
        "colab_type": "code",
        "outputId": "57cc2b96-b47f-4238-9bb9-1220b7beba0c",
        "colab": {
          "base_uri": "https://localhost:8080/",
          "height": 111
        }
      },
      "source": [
        "sam_sub = pd.read_csv(\"/content/sample_submission.csv\")\n",
        "sam_sub[:2]"
      ],
      "execution_count": 2,
      "outputs": [
        {
          "output_type": "execute_result",
          "data": {
            "text/html": [
              "<div>\n",
              "<style scoped>\n",
              "    .dataframe tbody tr th:only-of-type {\n",
              "        vertical-align: middle;\n",
              "    }\n",
              "\n",
              "    .dataframe tbody tr th {\n",
              "        vertical-align: top;\n",
              "    }\n",
              "\n",
              "    .dataframe thead th {\n",
              "        text-align: right;\n",
              "    }\n",
              "</style>\n",
              "<table border=\"1\" class=\"dataframe\">\n",
              "  <thead>\n",
              "    <tr style=\"text-align: right;\">\n",
              "      <th></th>\n",
              "      <th>id</th>\n",
              "      <th>label</th>\n",
              "    </tr>\n",
              "  </thead>\n",
              "  <tbody>\n",
              "    <tr>\n",
              "      <th>0</th>\n",
              "      <td>1</td>\n",
              "      <td>0.5</td>\n",
              "    </tr>\n",
              "    <tr>\n",
              "      <th>1</th>\n",
              "      <td>2</td>\n",
              "      <td>0.5</td>\n",
              "    </tr>\n",
              "  </tbody>\n",
              "</table>\n",
              "</div>"
            ],
            "text/plain": [
              "   id  label\n",
              "0   1    0.5\n",
              "1   2    0.5"
            ]
          },
          "metadata": {
            "tags": []
          },
          "execution_count": 2
        }
      ]
    },
    {
      "cell_type": "markdown",
      "metadata": {
        "id": "UlbKJ8UZQu3l",
        "colab_type": "text"
      },
      "source": [
        "## Reading file in Zip File"
      ]
    },
    {
      "cell_type": "code",
      "metadata": {
        "id": "OwMHpQWl_hoE",
        "colab_type": "code",
        "outputId": "f89caaf9-160a-401d-b3bb-a0e2be5e1926",
        "colab": {
          "base_uri": "https://localhost:8080/",
          "height": 34
        }
      },
      "source": [
        "with zipfile.ZipFile(\"/content/test.zip\") as z:\n",
        "    z.extractall(\".\")\n",
        "\n",
        "with zipfile.ZipFile(\"/content/train.zip\") as z:\n",
        "    z.extractall(\".\")\n",
        "\n",
        "print(os.listdir('.'))"
      ],
      "execution_count": 3,
      "outputs": [
        {
          "output_type": "stream",
          "text": [
            "['.config', 'test', 'sample_submission.csv', 'drive', 'train', 'test.zip', 'train.zip', 'sample_data']\n"
          ],
          "name": "stdout"
        }
      ]
    },
    {
      "cell_type": "code",
      "metadata": {
        "id": "vcGNucmxAVzk",
        "colab_type": "code",
        "outputId": "75b113d0-b115-47cb-8d23-b25357119f71",
        "colab": {
          "base_uri": "https://localhost:8080/",
          "height": 68
        }
      },
      "source": [
        "train_dir = [\"./train/\"+i for i in os.listdir(\"./train\")]\n",
        "dog_dir = [\"./train/\"+i for i in os.listdir(\"./train\") if 'dog' in i]\n",
        "cat_dir = [\"./train/\"+i for i in os.listdir(\"./train\") if 'cat' in i]\n",
        "test_dir = [\"./test/\"+i for i in os.listdir(\"./test\")]\n",
        "print(train_dir[:4])\n",
        "print(dog_dir[:2])\n",
        "print(cat_dir[:2])"
      ],
      "execution_count": 4,
      "outputs": [
        {
          "output_type": "stream",
          "text": [
            "['./train/dog.2382.jpg', './train/dog.2111.jpg', './train/cat.2300.jpg', './train/cat.10246.jpg']\n",
            "['./train/dog.2382.jpg', './train/dog.2111.jpg']\n",
            "['./train/cat.2300.jpg', './train/cat.10246.jpg']\n"
          ],
          "name": "stdout"
        }
      ]
    },
    {
      "cell_type": "markdown",
      "metadata": {
        "id": "AQpveNRFQ0ME",
        "colab_type": "text"
      },
      "source": [
        "### Sample Image"
      ]
    },
    {
      "cell_type": "code",
      "metadata": {
        "id": "ept_2SszFnIo",
        "colab_type": "code",
        "outputId": "7baeefc5-1e90-4626-d417-db3be6e0d4d7",
        "colab": {
          "base_uri": "https://localhost:8080/",
          "height": 117
        }
      },
      "source": [
        "load_img(dog_dir[7])"
      ],
      "execution_count": 5,
      "outputs": [
        {
          "output_type": "execute_result",
          "data": {
            "image/png": "[encoded data removed]",
            "text/plain": [
              "<PIL.JpegImagePlugin.JpegImageFile image mode=RGB size=132x100 at 0x7F5B35626438>"
            ]
          },
          "metadata": {
            "tags": []
          },
          "execution_count": 5
        }
      ]
    },
    {
      "cell_type": "markdown",
      "metadata": {
        "id": "lFAn27M1Q6uR",
        "colab_type": "text"
      },
      "source": [
        "# Converting img into Arrays\n",
        "## Reading files in Directory"
      ]
    },
    {
      "cell_type": "code",
      "metadata": {
        "id": "-pG-FxVmLrvt",
        "colab_type": "code",
        "colab": {}
      },
      "source": [
        "def read_image(file_path):\n",
        "    img = cv2.imread(file_path, cv2.IMREAD_COLOR) #cv2.IMREAD_GRAYSCALE\n",
        "    return cv2.resize(img, (175, 175), interpolation=cv2.INTER_CUBIC)"
      ],
      "execution_count": 0,
      "outputs": []
    },
    {
      "cell_type": "code",
      "metadata": {
        "id": "o3o-O5sgH-RH",
        "colab_type": "code",
        "outputId": "e649547f-6e14-4d66-a6d0-f9ded110d9e4",
        "colab": {
          "base_uri": "https://localhost:8080/",
          "height": 51
        }
      },
      "source": [
        "train = np.array([read_image(i) for i in train_dir])\n",
        "test = np.array([read_image(i) for i in test_dir])\n",
        "print(\"Train :\",train.shape)\n",
        "print(\"Test  :\",test.shape)"
      ],
      "execution_count": 7,
      "outputs": [
        {
          "output_type": "stream",
          "text": [
            "Train : (25000, 175, 175, 3)\n",
            "Test  : (12500, 175, 175, 3)\n"
          ],
          "name": "stdout"
        }
      ]
    },
    {
      "cell_type": "markdown",
      "metadata": {
        "id": "0v9MijxIRGve",
        "colab_type": "text"
      },
      "source": [
        "## Assing 1 & 0 to Lable for Dog & Cat Resp. as mentioned in kaggle"
      ]
    },
    {
      "cell_type": "code",
      "metadata": {
        "id": "dzHPtFaZMvCZ",
        "colab_type": "code",
        "colab": {}
      },
      "source": [
        "lable = []\n",
        "for i in os.listdir(\"./train\"):\n",
        "  if 'dog' in i:\n",
        "     lable.append(1)\n",
        "  else:\n",
        "      lable.append(0)\n",
        "lable = np.array(lable)"
      ],
      "execution_count": 0,
      "outputs": []
    },
    {
      "cell_type": "markdown",
      "metadata": {
        "id": "jvnQTqstPq0I",
        "colab_type": "text"
      },
      "source": [
        "## Visualization"
      ]
    },
    {
      "cell_type": "code",
      "metadata": {
        "id": "dNiAJF0oRWyA",
        "colab_type": "code",
        "outputId": "c3f11e45-9e6d-4bd0-ed5f-61ab1bc6edc9",
        "colab": {
          "base_uri": "https://localhost:8080/",
          "height": 282
        }
      },
      "source": [
        "sns.countplot(lable)\n",
        "#data is equally distributed"
      ],
      "execution_count": 9,
      "outputs": [
        {
          "output_type": "execute_result",
          "data": {
            "text/plain": [
              "<matplotlib.axes._subplots.AxesSubplot at 0x7f5b35645898>"
            ]
          },
          "metadata": {
            "tags": []
          },
          "execution_count": 9
        },
        {
          "output_type": "display_data",
          "data": {
            "image/png": "[encoded data removed]",
            "text/plain": [
              "<Figure size 432x288 with 1 Axes>"
            ]
          },
          "metadata": {
            "tags": []
          }
        }
      ]
    },
    {
      "cell_type": "code",
      "metadata": {
        "id": "_hHpEko6RgCw",
        "colab_type": "code",
        "outputId": "51e952ab-859a-40fe-ca50-5a9a154e8c73",
        "colab": {
          "base_uri": "https://localhost:8080/",
          "height": 298
        }
      },
      "source": [
        "plt.imshow(train[7][:,:,0])\n",
        "plt.title(lable[7])\n",
        "#lable 0 --> Cat\n",
        "#lable 1 --> Dog"
      ],
      "execution_count": 10,
      "outputs": [
        {
          "output_type": "execute_result",
          "data": {
            "text/plain": [
              "Text(0.5, 1.0, '0')"
            ]
          },
          "metadata": {
            "tags": []
          },
          "execution_count": 10
        },
        {
          "output_type": "display_data",
          "data": {
            "image/png": "[encoded data removed]",
            "text/plain": [
              "<Figure size 432x288 with 1 Axes>"
            ]
          },
          "metadata": {
            "tags": []
          }
        }
      ]
    },
    {
      "cell_type": "markdown",
      "metadata": {
        "id": "VvHkEAUyTSiG",
        "colab_type": "text"
      },
      "source": [
        "# Train Test Split"
      ]
    },
    {
      "cell_type": "code",
      "metadata": {
        "id": "tlZX4zaqTRt_",
        "colab_type": "code",
        "outputId": "a6b507ac-b4bc-4255-c1b1-e389cd06c98b",
        "colab": {
          "base_uri": "https://localhost:8080/",
          "height": 85
        }
      },
      "source": [
        "x=train\n",
        "y=lable\n",
        "from sklearn.model_selection import train_test_split\n",
        "x_train,x_test,y_train,y_test=train_test_split(x,y,test_size=.33,random_state=7)\n",
        "print(x_train.shape)\n",
        "print(x_test.shape)\n",
        "print(y_train.shape)\n",
        "print(y_test.shape)"
      ],
      "execution_count": 11,
      "outputs": [
        {
          "output_type": "stream",
          "text": [
            "(16750, 175, 175, 3)\n",
            "(8250, 175, 175, 3)\n",
            "(16750,)\n",
            "(8250,)\n"
          ],
          "name": "stdout"
        }
      ]
    },
    {
      "cell_type": "markdown",
      "metadata": {
        "id": "GMJcQmwzRuTd",
        "colab_type": "text"
      },
      "source": [
        "# CNN Model"
      ]
    },
    {
      "cell_type": "markdown",
      "metadata": {
        "id": "Vh-jJf1-U4e2",
        "colab_type": "text"
      },
      "source": [
        "## Model 1"
      ]
    },
    {
      "cell_type": "markdown",
      "metadata": {
        "id": "9yIZO_LdSqqh",
        "colab_type": "text"
      },
      "source": [
        "def catvsdog(opt):\n",
        "  model = Sequential()\n",
        "  #adding layers in models\n",
        "  model.add(Conv2D(filters=32,kernel_size=(3,3),kernel_initializer='he_uniform',padding=\"same\",input_shape=(128,128,3),activation=\"relu\"))\n",
        "  model.add(Conv2D(filters=32,kernel_size=(3,3),padding=\"same\",activation=\"relu\",kernel_initializer='he_uniform'))\n",
        "  model.add(MaxPool2D(2,2))\n",
        "\n",
        "  model.add(Conv2D(filters=64,kernel_size=(4,4),padding=\"same\",activation=\"relu\",kernel_initializer='he_uniform'))\n",
        "  model.add(MaxPool2D(2,2))\n",
        "  #model.add(Dropout(0.5))\n",
        "\n",
        "  #model.add(Conv2D(filters=128,kernel_size=(3,3),padding=\"same\",activation=\"relu\",kernel_initializer='he_uniform'))\n",
        "  #model.add(Conv2D(filters=128,kernel_size=(3,3),padding=\"same\",activation=\"relu\",kernel_initializer='he_uniform'))\n",
        "  #model.add(MaxPool2D(2,2))\n",
        "\n",
        "  model.add(Conv2D(filters=128,kernel_size=(3,3),padding=\"same\",activation=\"relu\",kernel_initializer='he_uniform'))\n",
        "  model.add(Conv2D(filters=256,kernel_size=(3,3),padding=\"same\",activation=\"relu\",kernel_initializer='he_uniform'))\n",
        "  model.add(MaxPool2D(2,2))\n",
        "\n",
        "  model.add(Flatten())\n",
        "\n",
        "  model.add(Dense(256,activation=\"relu\"))\n",
        "  #model.add(Dropout(.5))\n",
        "\n",
        "  model.add(Dense(256,activation=\"relu\"))\n",
        "  #model.add(Dropout(.5))\n",
        "\n",
        "  model.add(Dense(1,activation=\"softmax\"))\n",
        "\n",
        "  model.compile(optimizer=opt,loss=\"binary_crossentropy\",metrics=[\"accuracy\"])\n",
        "\n",
        "  return model"
      ]
    },
    {
      "cell_type": "markdown",
      "metadata": {
        "id": "wEQ0rXIfU77h",
        "colab_type": "text"
      },
      "source": [
        "## Model 2"
      ]
    },
    {
      "cell_type": "markdown",
      "metadata": {
        "id": "uXNPzuOfCg-X",
        "colab_type": "text"
      },
      "source": [
        "def catvsdog2():\n",
        "  model = Sequential()\n",
        "\n",
        "  model.add(Conv2D(32, (3, 3), input_shape=(128,128,3)))\n",
        "  model.add(Activation(\"relu\"))\n",
        "  model.add(MaxPool2D(pool_size=(2, 2)))\n",
        "\n",
        "  model.add(Conv2D(32, (3, 3)))\n",
        "  model.add(Activation(\"relu\"))\n",
        "  model.add(MaxPool2D(pool_size=(2, 2)))\n",
        "\n",
        "  model.add(Flatten())\n",
        "  model.add(Dense(16))\n",
        "  model.add(Activation(\"relu\"))\n",
        "  model.add(Dropout(0.5))\n",
        "  model.add(Dense(1))\n",
        "  model.add(Activation(\"sigmoid\"))\n",
        "\n",
        "  model.compile(loss=\"binary_crossentropy\",\n",
        "                optimizer=\"rmsprop\",\n",
        "                metrics=[\"accuracy\"])\n",
        "  return model"
      ]
    },
    {
      "cell_type": "markdown",
      "metadata": {
        "id": "-_xnaCcSU-9C",
        "colab_type": "text"
      },
      "source": [
        "## Model - 3"
      ]
    },
    {
      "cell_type": "code",
      "metadata": {
        "id": "n_K8XClOU-4h",
        "colab_type": "code",
        "colab": {}
      },
      "source": [
        "def catvsdog3():\n",
        "  model = Sequential()\n",
        "\n",
        "  model.add(Conv2D(32, (3, 3), input_shape=(175,175,3)))\n",
        "  model.add(Activation(\"relu\"))\n",
        "  model.add(MaxPool2D(pool_size=(2, 2)))\n",
        "\n",
        "  model.add(Conv2D(64, (3, 3)))\n",
        "  model.add(Activation(\"relu\"))\n",
        "  model.add(MaxPool2D(pool_size=(2, 2)))\n",
        "\n",
        "  model.add(Conv2D(101, (3, 3)))\n",
        "  model.add(Activation(\"relu\"))\n",
        "  model.add(Conv2D(64, (3, 3)))\n",
        "  model.add(Activation(\"relu\"))\n",
        "  model.add(AvgPool2D(pool_size=(2, 2)))\n",
        "\n",
        "\n",
        "  model.add(Conv2D(32, (3, 3)))\n",
        "  model.add(Activation(\"relu\"))\n",
        "  model.add(MaxPool2D(pool_size=(2, 2)))\n",
        "\n",
        "  model.add(Flatten())\n",
        "  model.add(Dense(24))\n",
        "  model.add(Activation(\"relu\"))\n",
        "  model.add(Dropout(0.25))\n",
        "  model.add(Dense(15))\n",
        "  model.add(Activation(\"relu\"))\n",
        "  model.add(Dropout(0.1))\n",
        "  model.add(Dense(1))\n",
        "  model.add(Activation(\"sigmoid\"))\n",
        "\n",
        "  model.compile(loss=\"binary_crossentropy\",\n",
        "                optimizer=\"rmsprop\",\n",
        "                metrics=[\"accuracy\"])\n",
        "  return model"
      ],
      "execution_count": 0,
      "outputs": []
    },
    {
      "cell_type": "code",
      "metadata": {
        "id": "oT9CSvuUWOlH",
        "colab_type": "code",
        "outputId": "b3e9e466-f2b1-4125-ea3d-b8636fa46b89",
        "colab": {
          "base_uri": "https://localhost:8080/",
          "height": 411
        }
      },
      "source": [
        "#model1 = catvsdog(Adam())\n",
        "#model2 = catvsdog2()\n",
        "model3 = catvsdog3()"
      ],
      "execution_count": 13,
      "outputs": [
        {
          "output_type": "stream",
          "text": [
            "WARNING:tensorflow:From /usr/local/lib/python3.6/dist-packages/keras/backend/tensorflow_backend.py:66: The name tf.get_default_graph is deprecated. Please use tf.compat.v1.get_default_graph instead.\n",
            "\n",
            "WARNING:tensorflow:From /usr/local/lib/python3.6/dist-packages/keras/backend/tensorflow_backend.py:541: The name tf.placeholder is deprecated. Please use tf.compat.v1.placeholder instead.\n",
            "\n",
            "WARNING:tensorflow:From /usr/local/lib/python3.6/dist-packages/keras/backend/tensorflow_backend.py:4432: The name tf.random_uniform is deprecated. Please use tf.random.uniform instead.\n",
            "\n",
            "WARNING:tensorflow:From /usr/local/lib/python3.6/dist-packages/keras/backend/tensorflow_backend.py:4267: The name tf.nn.max_pool is deprecated. Please use tf.nn.max_pool2d instead.\n",
            "\n",
            "WARNING:tensorflow:From /usr/local/lib/python3.6/dist-packages/keras/backend/tensorflow_backend.py:4271: The name tf.nn.avg_pool is deprecated. Please use tf.nn.avg_pool2d instead.\n",
            "\n",
            "WARNING:tensorflow:From /usr/local/lib/python3.6/dist-packages/keras/backend/tensorflow_backend.py:148: The name tf.placeholder_with_default is deprecated. Please use tf.compat.v1.placeholder_with_default instead.\n",
            "\n",
            "WARNING:tensorflow:From /usr/local/lib/python3.6/dist-packages/keras/backend/tensorflow_backend.py:3733: calling dropout (from tensorflow.python.ops.nn_ops) with keep_prob is deprecated and will be removed in a future version.\n",
            "Instructions for updating:\n",
            "Please use `rate` instead of `keep_prob`. Rate should be set to `rate = 1 - keep_prob`.\n",
            "WARNING:tensorflow:From /usr/local/lib/python3.6/dist-packages/keras/optimizers.py:793: The name tf.train.Optimizer is deprecated. Please use tf.compat.v1.train.Optimizer instead.\n",
            "\n",
            "WARNING:tensorflow:From /usr/local/lib/python3.6/dist-packages/keras/backend/tensorflow_backend.py:3657: The name tf.log is deprecated. Please use tf.math.log instead.\n",
            "\n",
            "WARNING:tensorflow:From /usr/local/lib/python3.6/dist-packages/tensorflow_core/python/ops/nn_impl.py:183: where (from tensorflow.python.ops.array_ops) is deprecated and will be removed in a future version.\n",
            "Instructions for updating:\n",
            "Use tf.where in 2.0, which has the same broadcast rule as np.where\n"
          ],
          "name": "stdout"
        }
      ]
    },
    {
      "cell_type": "markdown",
      "metadata": {
        "id": "TRjCmu2TV0gG",
        "colab_type": "text"
      },
      "source": [
        "# Learning Rate optimize"
      ]
    },
    {
      "cell_type": "code",
      "metadata": {
        "id": "V9feBwe9W0GK",
        "colab_type": "code",
        "colab": {}
      },
      "source": [
        "reduce_lr = ReduceLROnPlateau(monitor='val_acc', patience=4, min_lr=0.0001)"
      ],
      "execution_count": 0,
      "outputs": []
    },
    {
      "cell_type": "markdown",
      "metadata": {
        "id": "n-22kVXvVs-X",
        "colab_type": "text"
      },
      "source": [
        "# Data Argumentation"
      ]
    },
    {
      "cell_type": "code",
      "metadata": {
        "id": "fd-xZONf6h6W",
        "colab_type": "code",
        "colab": {}
      },
      "source": [
        "datagen = ImageDataGenerator(\n",
        "    shear_range=0.1,\n",
        "    zoom_range=0.2,\n",
        "    rescale=1.0/255.0,\n",
        "    rotation_range = 20,\n",
        "    horizontal_flip=True,\n",
        "    vertical_flip=True,)\n",
        "datagen.fit(x_train)"
      ],
      "execution_count": 0,
      "outputs": []
    },
    {
      "cell_type": "markdown",
      "metadata": {
        "id": "KyOgJ3XsV5Aa",
        "colab_type": "text"
      },
      "source": [
        "# Fitting Model"
      ]
    },
    {
      "cell_type": "code",
      "metadata": {
        "id": "eoVZPeO4YC6z",
        "colab_type": "code",
        "colab": {
          "base_uri": "https://localhost:8080/",
          "height": 1000
        },
        "outputId": "958ae857-301e-46e5-b1c9-410d326dbe86"
      },
      "source": [
        "mod = model3.fit(datagen.flow(x_train,y_train,batch_size=30),validation_data=(x_train,y_train),epochs=50,callbacks=[reduce_lr])"
      ],
      "execution_count": 16,
      "outputs": [
        {
          "output_type": "stream",
          "text": [
            "WARNING:tensorflow:From /usr/local/lib/python3.6/dist-packages/keras/backend/tensorflow_backend.py:1033: The name tf.assign_add is deprecated. Please use tf.compat.v1.assign_add instead.\n",
            "\n",
            "WARNING:tensorflow:From /usr/local/lib/python3.6/dist-packages/keras/backend/tensorflow_backend.py:1020: The name tf.assign is deprecated. Please use tf.compat.v1.assign instead.\n",
            "\n",
            "WARNING:tensorflow:From /usr/local/lib/python3.6/dist-packages/keras/backend/tensorflow_backend.py:3005: The name tf.Session is deprecated. Please use tf.compat.v1.Session instead.\n",
            "\n",
            "Epoch 1/50\n",
            "WARNING:tensorflow:From /usr/local/lib/python3.6/dist-packages/keras/backend/tensorflow_backend.py:190: The name tf.get_default_session is deprecated. Please use tf.compat.v1.get_default_session instead.\n",
            "\n",
            "WARNING:tensorflow:From /usr/local/lib/python3.6/dist-packages/keras/backend/tensorflow_backend.py:197: The name tf.ConfigProto is deprecated. Please use tf.compat.v1.ConfigProto instead.\n",
            "\n",
            "WARNING:tensorflow:From /usr/local/lib/python3.6/dist-packages/keras/backend/tensorflow_backend.py:207: The name tf.global_variables is deprecated. Please use tf.compat.v1.global_variables instead.\n",
            "\n",
            "WARNING:tensorflow:From /usr/local/lib/python3.6/dist-packages/keras/backend/tensorflow_backend.py:216: The name tf.is_variable_initialized is deprecated. Please use tf.compat.v1.is_variable_initialized instead.\n",
            "\n",
            "WARNING:tensorflow:From /usr/local/lib/python3.6/dist-packages/keras/backend/tensorflow_backend.py:223: The name tf.variables_initializer is deprecated. Please use tf.compat.v1.variables_initializer instead.\n",
            "\n",
            "559/559 [==============================] - 124s 221ms/step - loss: 0.6746 - acc: 0.5807 - val_loss: 6.0980 - val_acc: 0.5926\n",
            "Epoch 2/50\n",
            "559/559 [==============================] - 110s 197ms/step - loss: 0.6227 - acc: 0.6585 - val_loss: 6.4434 - val_acc: 0.5774\n",
            "Epoch 3/50\n",
            "559/559 [==============================] - 109s 195ms/step - loss: 0.5998 - acc: 0.6832 - val_loss: 7.1611 - val_acc: 0.5434\n",
            "Epoch 4/50\n",
            "559/559 [==============================] - 109s 194ms/step - loss: 0.5734 - acc: 0.7098 - val_loss: 6.0533 - val_acc: 0.5866\n",
            "Epoch 5/50\n",
            "559/559 [==============================] - 109s 195ms/step - loss: 0.5568 - acc: 0.7241 - val_loss: 4.9445 - val_acc: 0.6717\n",
            "Epoch 6/50\n",
            "559/559 [==============================] - 108s 193ms/step - loss: 0.5266 - acc: 0.7410 - val_loss: 5.5526 - val_acc: 0.6324\n",
            "Epoch 7/50\n",
            "559/559 [==============================] - 108s 194ms/step - loss: 0.5118 - acc: 0.7583 - val_loss: 4.4997 - val_acc: 0.7088\n",
            "Epoch 8/50\n",
            "559/559 [==============================] - 108s 193ms/step - loss: 0.4911 - acc: 0.7692 - val_loss: 5.6453 - val_acc: 0.6230\n",
            "Epoch 9/50\n",
            "559/559 [==============================] - 109s 194ms/step - loss: 0.4750 - acc: 0.7810 - val_loss: 4.1033 - val_acc: 0.7220\n",
            "Epoch 10/50\n",
            "559/559 [==============================] - 109s 194ms/step - loss: 0.4647 - acc: 0.7852 - val_loss: 5.9792 - val_acc: 0.6118\n",
            "Epoch 11/50\n",
            "559/559 [==============================] - 108s 193ms/step - loss: 0.4483 - acc: 0.7969 - val_loss: 4.9113 - val_acc: 0.6819\n",
            "Epoch 12/50\n",
            "559/559 [==============================] - 108s 194ms/step - loss: 0.4367 - acc: 0.8079 - val_loss: 5.5397 - val_acc: 0.6379\n",
            "Epoch 13/50\n",
            "559/559 [==============================] - 109s 194ms/step - loss: 0.4246 - acc: 0.8081 - val_loss: 6.0631 - val_acc: 0.6132\n",
            "Epoch 14/50\n",
            "559/559 [==============================] - 108s 193ms/step - loss: 0.3347 - acc: 0.8564 - val_loss: 3.5791 - val_acc: 0.7696\n",
            "Epoch 15/50\n",
            "559/559 [==============================] - 107s 191ms/step - loss: 0.3194 - acc: 0.8683 - val_loss: 4.6294 - val_acc: 0.7027\n",
            "Epoch 16/50\n",
            "559/559 [==============================] - 107s 191ms/step - loss: 0.3110 - acc: 0.8714 - val_loss: 3.3984 - val_acc: 0.7784\n",
            "Epoch 17/50\n",
            "559/559 [==============================] - 105s 189ms/step - loss: 0.3093 - acc: 0.8699 - val_loss: 4.0876 - val_acc: 0.7368\n",
            "Epoch 18/50\n",
            "559/559 [==============================] - 106s 189ms/step - loss: 0.3053 - acc: 0.8713 - val_loss: 4.6484 - val_acc: 0.7025\n",
            "Epoch 19/50\n",
            "559/559 [==============================] - 107s 191ms/step - loss: 0.3027 - acc: 0.8751 - val_loss: 4.2532 - val_acc: 0.7257\n",
            "Epoch 20/50\n",
            "559/559 [==============================] - 106s 190ms/step - loss: 0.3003 - acc: 0.8732 - val_loss: 4.0316 - val_acc: 0.7386\n",
            "Epoch 21/50\n",
            "559/559 [==============================] - 107s 191ms/step - loss: 0.2958 - acc: 0.8755 - val_loss: 3.8941 - val_acc: 0.7470\n",
            "Epoch 22/50\n",
            "559/559 [==============================] - 107s 191ms/step - loss: 0.2935 - acc: 0.8779 - val_loss: 4.4761 - val_acc: 0.7122\n",
            "Epoch 23/50\n",
            "559/559 [==============================] - 105s 189ms/step - loss: 0.2929 - acc: 0.8787 - val_loss: 4.5568 - val_acc: 0.7075\n",
            "Epoch 24/50\n",
            "559/559 [==============================] - 104s 186ms/step - loss: 0.2859 - acc: 0.8810 - val_loss: 3.9675 - val_acc: 0.7432\n",
            "Epoch 25/50\n",
            "559/559 [==============================] - 106s 190ms/step - loss: 0.2825 - acc: 0.8834 - val_loss: 4.7835 - val_acc: 0.6933\n",
            "Epoch 26/50\n",
            "559/559 [==============================] - 107s 191ms/step - loss: 0.2824 - acc: 0.8810 - val_loss: 4.3759 - val_acc: 0.7189\n",
            "Epoch 27/50\n",
            "559/559 [==============================] - 106s 190ms/step - loss: 0.2792 - acc: 0.8854 - val_loss: 4.6663 - val_acc: 0.7009\n",
            "Epoch 28/50\n",
            "559/559 [==============================] - 105s 188ms/step - loss: 0.2792 - acc: 0.8853 - val_loss: 3.4435 - val_acc: 0.7770\n",
            "Epoch 29/50\n",
            "559/559 [==============================] - 104s 187ms/step - loss: 0.2769 - acc: 0.8862 - val_loss: 5.2451 - val_acc: 0.6653\n",
            "Epoch 30/50\n",
            "559/559 [==============================] - 106s 189ms/step - loss: 0.2732 - acc: 0.8865 - val_loss: 4.8915 - val_acc: 0.6874\n",
            "Epoch 31/50\n",
            "559/559 [==============================] - 105s 187ms/step - loss: 0.2711 - acc: 0.8900 - val_loss: 5.4292 - val_acc: 0.6547\n",
            "Epoch 32/50\n",
            "559/559 [==============================] - 105s 188ms/step - loss: 0.2718 - acc: 0.8880 - val_loss: 5.5885 - val_acc: 0.6438\n",
            "Epoch 33/50\n",
            "559/559 [==============================] - 105s 188ms/step - loss: 0.2723 - acc: 0.8872 - val_loss: 5.0052 - val_acc: 0.6801\n",
            "Epoch 34/50\n",
            "559/559 [==============================] - 106s 190ms/step - loss: 0.2638 - acc: 0.8932 - val_loss: 5.0778 - val_acc: 0.6764\n",
            "Epoch 35/50\n",
            "559/559 [==============================] - 105s 188ms/step - loss: 0.2635 - acc: 0.8903 - val_loss: 4.3800 - val_acc: 0.7186\n",
            "Epoch 36/50\n",
            "559/559 [==============================] - 106s 189ms/step - loss: 0.2655 - acc: 0.8921 - val_loss: 4.6147 - val_acc: 0.7042\n",
            "Epoch 37/50\n",
            "559/559 [==============================] - 105s 188ms/step - loss: 0.2685 - acc: 0.8908 - val_loss: 5.4682 - val_acc: 0.6521\n",
            "Epoch 38/50\n",
            "559/559 [==============================] - 105s 187ms/step - loss: 0.2592 - acc: 0.8916 - val_loss: 4.3103 - val_acc: 0.7224\n",
            "Epoch 39/50\n",
            "559/559 [==============================] - 105s 187ms/step - loss: 0.2596 - acc: 0.8949 - val_loss: 4.5163 - val_acc: 0.7103\n",
            "Epoch 40/50\n",
            "559/559 [==============================] - 106s 190ms/step - loss: 0.2577 - acc: 0.8934 - val_loss: 4.9474 - val_acc: 0.6831\n",
            "Epoch 41/50\n",
            "559/559 [==============================] - 105s 189ms/step - loss: 0.2528 - acc: 0.8963 - val_loss: 4.8574 - val_acc: 0.6883\n",
            "Epoch 42/50\n",
            "559/559 [==============================] - 106s 189ms/step - loss: 0.2651 - acc: 0.8928 - val_loss: 4.7260 - val_acc: 0.6966\n",
            "Epoch 43/50\n",
            "559/559 [==============================] - 106s 189ms/step - loss: 0.2569 - acc: 0.8955 - val_loss: 4.3575 - val_acc: 0.7197\n",
            "Epoch 44/50\n",
            "559/559 [==============================] - 104s 187ms/step - loss: 0.2528 - acc: 0.8968 - val_loss: 4.3897 - val_acc: 0.7195\n",
            "Epoch 45/50\n",
            "559/559 [==============================] - 107s 191ms/step - loss: 0.2533 - acc: 0.8996 - val_loss: 4.5949 - val_acc: 0.7055\n",
            "Epoch 46/50\n",
            "559/559 [==============================] - 106s 190ms/step - loss: 0.2522 - acc: 0.8984 - val_loss: 4.9027 - val_acc: 0.6864\n",
            "Epoch 47/50\n",
            "559/559 [==============================] - 104s 186ms/step - loss: 0.2511 - acc: 0.8982 - val_loss: 4.7161 - val_acc: 0.6983\n",
            "Epoch 48/50\n",
            "559/559 [==============================] - 105s 188ms/step - loss: 0.2561 - acc: 0.8950 - val_loss: 3.9721 - val_acc: 0.7446\n",
            "Epoch 49/50\n",
            "559/559 [==============================] - 104s 187ms/step - loss: 0.2539 - acc: 0.8964 - val_loss: 4.5422 - val_acc: 0.7090\n",
            "Epoch 50/50\n",
            "559/559 [==============================] - 105s 188ms/step - loss: 0.2493 - acc: 0.9002 - val_loss: 5.0954 - val_acc: 0.6752\n"
          ],
          "name": "stdout"
        }
      ]
    },
    {
      "cell_type": "markdown",
      "metadata": {
        "id": "NDj05wiJV9zy",
        "colab_type": "text"
      },
      "source": [
        "# Evaluation"
      ]
    },
    {
      "cell_type": "code",
      "metadata": {
        "id": "6BwCjTVqXwU9",
        "colab_type": "code",
        "colab": {
          "base_uri": "https://localhost:8080/",
          "height": 34
        },
        "outputId": "8630efa0-e78d-4bcc-e2f9-a41ea4f2dcde"
      },
      "source": [
        "print(mod.history.keys())"
      ],
      "execution_count": 21,
      "outputs": [
        {
          "output_type": "stream",
          "text": [
            "dict_keys(['val_loss', 'val_acc', 'loss', 'acc', 'lr'])\n"
          ],
          "name": "stdout"
        }
      ]
    },
    {
      "cell_type": "code",
      "metadata": {
        "id": "sg9o08ypA9WY",
        "colab_type": "code",
        "colab": {
          "base_uri": "https://localhost:8080/",
          "height": 295
        },
        "outputId": "4d87d763-194e-475c-a7e1-cd7ada534189"
      },
      "source": [
        "# summarize history for accuracy\n",
        "plt.plot(mod.history['acc'])\n",
        "plt.plot(mod.history['val_acc'])\n",
        "plt.title('model accuracy')\n",
        "plt.ylabel('accuracy')\n",
        "plt.xlabel('epoch')\n",
        "plt.legend(['train', 'test'], loc='upper left')\n",
        "plt.show()\n"
      ],
      "execution_count": 23,
      "outputs": [
        {
          "output_type": "display_data",
          "data": {
            "image/png": "[encoded data removed]",
            "text/plain": [
              "<Figure size 432x288 with 1 Axes>"
            ]
          },
          "metadata": {
            "tags": []
          }
        }
      ]
    },
    {
      "cell_type": "code",
      "metadata": {
        "id": "DLtVeBPrA81w",
        "colab_type": "code",
        "colab": {
          "base_uri": "https://localhost:8080/",
          "height": 295
        },
        "outputId": "20838f15-0323-40eb-ff5e-56e1ee2a5a14"
      },
      "source": [
        "# summarize mod for loss\n",
        "plt.plot(mod.history['loss'])\n",
        "plt.plot(mod.history['val_loss'])\n",
        "plt.title('model loss')\n",
        "plt.ylabel('loss')\n",
        "plt.xlabel('epoch')\n",
        "plt.legend(['train', 'test'], loc='upper left')\n",
        "plt.show()"
      ],
      "execution_count": 24,
      "outputs": [
        {
          "output_type": "display_data",
          "data": {
            "image/png": "[encoded data removed]",
            "text/plain": [
              "<Figure size 432x288 with 1 Axes>"
            ]
          },
          "metadata": {
            "tags": []
          }
        }
      ]
    },
    {
      "cell_type": "code",
      "metadata": {
        "id": "8afMmOJ1YQr9",
        "colab_type": "code",
        "colab": {
          "base_uri": "https://localhost:8080/",
          "height": 102
        },
        "outputId": "f26166e8-073c-4d44-ac9d-3e74b867a96f"
      },
      "source": [
        "y_pred = model3.predict(x_test)\n",
        "y_pred[:5]"
      ],
      "execution_count": 26,
      "outputs": [
        {
          "output_type": "execute_result",
          "data": {
            "text/plain": [
              "array([[1.],\n",
              "       [1.],\n",
              "       [1.],\n",
              "       [1.],\n",
              "       [1.]], dtype=float32)"
            ]
          },
          "metadata": {
            "tags": []
          },
          "execution_count": 26
        }
      ]
    },
    {
      "cell_type": "code",
      "metadata": {
        "id": "O1lVCLfcaAsO",
        "colab_type": "code",
        "colab": {
          "base_uri": "https://localhost:8080/",
          "height": 68
        },
        "outputId": "e47fba59-dc11-4309-fdf3-0b5b3447e974"
      },
      "source": [
        "print(accuracy_score(y_pred.round(),y_test))\n",
        "confusion_matrix(y_pred.round(),y_test)"
      ],
      "execution_count": 34,
      "outputs": [
        {
          "output_type": "stream",
          "text": [
            "0.6678787878787878\n"
          ],
          "name": "stdout"
        },
        {
          "output_type": "execute_result",
          "data": {
            "text/plain": [
              "array([[1454,   89],\n",
              "       [2651, 4056]])"
            ]
          },
          "metadata": {
            "tags": []
          },
          "execution_count": 34
        }
      ]
    },
    {
      "cell_type": "code",
      "metadata": {
        "id": "0Mc6ZsVpYNPf",
        "colab_type": "code",
        "colab": {}
      },
      "source": [
        ""
      ],
      "execution_count": 0,
      "outputs": []
    },
    {
      "cell_type": "code",
      "metadata": {
        "id": "wkk4IbR3ptEu",
        "colab_type": "code",
        "colab": {}
      },
      "source": [
        ""
      ],
      "execution_count": 0,
      "outputs": []
    },
    {
      "cell_type": "code",
      "metadata": {
        "id": "nvQi1O7VljKz",
        "colab_type": "code",
        "colab": {}
      },
      "source": [
        "preds = model3.predict(test)"
      ],
      "execution_count": 0,
      "outputs": []
    },
    {
      "cell_type": "code",
      "metadata": {
        "id": "ZLT7JjUQaOUS",
        "colab_type": "code",
        "colab": {}
      },
      "source": [
        "rst = pd.DataFrame(preds.astype(int),columns=[\"label\"])\n",
        "rst[\"id\"] = pd.Series(range(1,(len(preds)+1)))\n",
        "sub = rst[[\"id\",\"label\"]]\n",
        "#p = np.array(preds)\n",
        "sub.to_csv(\"submission.csv\",index=False)"
      ],
      "execution_count": 0,
      "outputs": []
    },
    {
      "cell_type": "code",
      "metadata": {
        "id": "JwbH_WUooGzh",
        "colab_type": "code",
        "colab": {
          "base_uri": "https://localhost:8080/",
          "height": 142
        },
        "outputId": "bc743283-499b-4389-8e43-d70a47dbd7c9"
      },
      "source": [
        "sub[:3]"
      ],
      "execution_count": 53,
      "outputs": [
        {
          "output_type": "execute_result",
          "data": {
            "text/html": [
              "<div>\n",
              "<style scoped>\n",
              "    .dataframe tbody tr th:only-of-type {\n",
              "        vertical-align: middle;\n",
              "    }\n",
              "\n",
              "    .dataframe tbody tr th {\n",
              "        vertical-align: top;\n",
              "    }\n",
              "\n",
              "    .dataframe thead th {\n",
              "        text-align: right;\n",
              "    }\n",
              "</style>\n",
              "<table border=\"1\" class=\"dataframe\">\n",
              "  <thead>\n",
              "    <tr style=\"text-align: right;\">\n",
              "      <th></th>\n",
              "      <th>id</th>\n",
              "      <th>label</th>\n",
              "    </tr>\n",
              "  </thead>\n",
              "  <tbody>\n",
              "    <tr>\n",
              "      <th>0</th>\n",
              "      <td>1</td>\n",
              "      <td>1</td>\n",
              "    </tr>\n",
              "    <tr>\n",
              "      <th>1</th>\n",
              "      <td>2</td>\n",
              "      <td>0</td>\n",
              "    </tr>\n",
              "    <tr>\n",
              "      <th>2</th>\n",
              "      <td>3</td>\n",
              "      <td>0</td>\n",
              "    </tr>\n",
              "  </tbody>\n",
              "</table>\n",
              "</div>"
            ],
            "text/plain": [
              "   id  label\n",
              "0   1      1\n",
              "1   2      0\n",
              "2   3      0"
            ]
          },
          "metadata": {
            "tags": []
          },
          "execution_count": 53
        }
      ]
    },
    {
      "cell_type": "code",
      "metadata": {
        "id": "-FjH70-EY37w",
        "colab_type": "code",
        "colab": {
          "base_uri": "https://localhost:8080/",
          "height": 142
        },
        "outputId": "e7355366-87cc-4115-cb9f-cfbe09895e71"
      },
      "source": [
        "sam_sub[:3]"
      ],
      "execution_count": 43,
      "outputs": [
        {
          "output_type": "execute_result",
          "data": {
            "text/html": [
              "<div>\n",
              "<style scoped>\n",
              "    .dataframe tbody tr th:only-of-type {\n",
              "        vertical-align: middle;\n",
              "    }\n",
              "\n",
              "    .dataframe tbody tr th {\n",
              "        vertical-align: top;\n",
              "    }\n",
              "\n",
              "    .dataframe thead th {\n",
              "        text-align: right;\n",
              "    }\n",
              "</style>\n",
              "<table border=\"1\" class=\"dataframe\">\n",
              "  <thead>\n",
              "    <tr style=\"text-align: right;\">\n",
              "      <th></th>\n",
              "      <th>id</th>\n",
              "      <th>label</th>\n",
              "    </tr>\n",
              "  </thead>\n",
              "  <tbody>\n",
              "    <tr>\n",
              "      <th>0</th>\n",
              "      <td>1</td>\n",
              "      <td>0.5</td>\n",
              "    </tr>\n",
              "    <tr>\n",
              "      <th>1</th>\n",
              "      <td>2</td>\n",
              "      <td>0.5</td>\n",
              "    </tr>\n",
              "    <tr>\n",
              "      <th>2</th>\n",
              "      <td>3</td>\n",
              "      <td>0.5</td>\n",
              "    </tr>\n",
              "  </tbody>\n",
              "</table>\n",
              "</div>"
            ],
            "text/plain": [
              "   id  label\n",
              "0   1    0.5\n",
              "1   2    0.5\n",
              "2   3    0.5"
            ]
          },
          "metadata": {
            "tags": []
          },
          "execution_count": 43
        }
      ]
    },
    {
      "cell_type": "code",
      "metadata": {
        "id": "C7Ros3kXZRp0",
        "colab_type": "code",
        "colab": {
          "base_uri": "https://localhost:8080/",
          "height": 136
        },
        "outputId": "409e05d1-9300-437a-c9c7-a5349c9be3f5"
      },
      "source": [
        "preds.astype(int)"
      ],
      "execution_count": 47,
      "outputs": [
        {
          "output_type": "execute_result",
          "data": {
            "text/plain": [
              "array([[1],\n",
              "       [0],\n",
              "       [0],\n",
              "       ...,\n",
              "       [0],\n",
              "       [1],\n",
              "       [1]])"
            ]
          },
          "metadata": {
            "tags": []
          },
          "execution_count": 47
        }
      ]
    },
    {
      "cell_type": "code",
      "metadata": {
        "id": "MwngRtLcaVQ6",
        "colab_type": "code",
        "colab": {
          "base_uri": "https://localhost:8080/",
          "height": 34
        },
        "outputId": "99c39fe2-4513-4ada-bf34-c4015762288d"
      },
      "source": [
        "len(preds)"
      ],
      "execution_count": 50,
      "outputs": [
        {
          "output_type": "execute_result",
          "data": {
            "text/plain": [
              "12500"
            ]
          },
          "metadata": {
            "tags": []
          },
          "execution_count": 50
        }
      ]
    },
    {
      "cell_type": "code",
      "metadata": {
        "id": "1GcvGSCQa5PZ",
        "colab_type": "code",
        "colab": {
          "base_uri": "https://localhost:8080/",
          "height": 34
        },
        "outputId": "66f7a2d1-65f5-41bb-ddc9-2bd1213923e9"
      },
      "source": [
        "sub.shape"
      ],
      "execution_count": 51,
      "outputs": [
        {
          "output_type": "execute_result",
          "data": {
            "text/plain": [
              "(12500, 2)"
            ]
          },
          "metadata": {
            "tags": []
          },
          "execution_count": 51
        }
      ]
    },
    {
      "cell_type": "code",
      "metadata": {
        "id": "__nG0EUxbAWy",
        "colab_type": "code",
        "colab": {}
      },
      "source": [
        ""
      ],
      "execution_count": 0,
      "outputs": []
    }
  ]
}