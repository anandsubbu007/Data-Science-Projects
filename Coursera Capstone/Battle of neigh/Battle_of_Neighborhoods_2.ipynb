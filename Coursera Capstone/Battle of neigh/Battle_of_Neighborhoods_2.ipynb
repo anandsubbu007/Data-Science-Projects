{
  "nbformat": 4,
  "nbformat_minor": 0,
  "metadata": {
    "kernelspec": {
      "name": "python3",
      "display_name": "Python 3"
    },
    "language_info": {
      "codemirror_mode": {
        "name": "ipython",
        "version": 3
      },
      "file_extension": ".py",
      "mimetype": "text/x-python",
      "name": "python",
      "nbconvert_exporter": "python",
      "pygments_lexer": "ipython3",
      "version": "3.7.3"
    },
    "colab": {
      "name": "Capstone - Battle of Neighborhoods - 2.ipynb",
      "provenance": [],
      "collapsed_sections": []
    },
    "accelerator": "GPU"
  },
  "cells": [
    {
      "cell_type": "markdown",
      "metadata": {
        "id": "x6nNVkSwciJx",
        "colab_type": "text"
      },
      "source": [
        "# CAPSTONE\n",
        "## Battle of the Neighborhoods\n",
        "### __Indian Restaurants__"
      ]
    },
    {
      "cell_type": "markdown",
      "metadata": {
        "id": "Schdh1esciJ0",
        "colab_type": "text"
      },
      "source": [
        "#### __Introduction__\n",
        "This final project explores the best locations for Indian restaurants throughout the city of New York. Food Business News stated that worldwide pasta sales were up for the second year in a row with the United Sates holding the largest market.  New York is a major metropolitan area with more than 8.4 million (Quick Facts, 2018) people living within city limits. This report explores which neighborhoods and boroughs of New York City have the most as well as the best Indian restaurants. Additionally, I will attempt to answer the questions “Where should I open an Indian Restaurant?” and “Where should I stay If I want great Indian food?”"
      ]
    },
    {
      "cell_type": "markdown",
      "metadata": {
        "id": "PzLolu-PciJ2",
        "colab_type": "text"
      },
      "source": [
        "### __Data__\n",
        "In order to answer the above questions, data on New York City neighborhoods, boroughs to include boundaries, latitude, longitude, restaurants, and restaurant ratings and tips are required.\n",
        "\n",
        "New York City data containing the neighborhoods and boroughs, latitudes, and longitudes will be obtained from the data source: https://cocl.us/new_york_dataset\n",
        "\n",
        "New York City data containing neighborhood boundaries will be obtained from the data source: https://data.cityofnewyork.us/City-Government/Borough-Boundaries/tqmj-j8zm\n",
        "\n",
        "All data related to locations and quality of Indian restaurants will be obtained via the FourSquare API utilized via the Request library in Python.\n",
        "\n"
      ]
    },
    {
      "cell_type": "markdown",
      "metadata": {
        "id": "rJu1Bsv8ciJ4",
        "colab_type": "text"
      },
      "source": [
        "### __Methodology__\n",
        "•\tData will be collected from https://cocl.us/new_york_dataset and cleaned and processed into a dataframe.\n",
        "\n",
        "•\tFourSquare be used to locate all venues and then filtered by Indian restaurants.  Ratings, tips, and likes by users will be counted and added to the dataframe.\n",
        "\n",
        "•\tData will be sorted based on rankings\n",
        "\n",
        "•\tFinally, the data be will be visually assessed using graphing from various Python libraries."
      ]
    },
    {
      "cell_type": "markdown",
      "metadata": {
        "id": "RQ2fNtfTciJ9",
        "colab_type": "text"
      },
      "source": [
        "### __Problem Statement__\n",
        "1.\tWhat is / are the best location(s) for Indian cuisine in New York City?\n",
        "2.\tIn what Neighborhood and/or borough should I open an Indian restaurant to have the best chance of being successful?\n",
        "3.\tWhere would I go in New York City to have the best Indian food?"
      ]
    },
    {
      "cell_type": "markdown",
      "metadata": {
        "id": "SmQIwl70ciJ_",
        "colab_type": "text"
      },
      "source": [
        "Load Libraries"
      ]
    },
    {
      "cell_type": "code",
      "metadata": {
        "id": "v36zZNVHciKB",
        "colab_type": "code",
        "outputId": "c51c23c8-3dce-4145-bb06-a2d5c785bb60",
        "colab": {
          "base_uri": "https://localhost:8080/",
          "height": 34
        }
      },
      "source": [
        "import pandas as pd\n",
        "import numpy as np\n",
        "import requests\n",
        "#from bs4 import BeautifulSoup\n",
        "import os\n",
        "#!conda install -c conda-forge folium=0.5.0 --yes\n",
        "import folium \n",
        "#!conda install -c conda-forge geopy --yes\n",
        "from geopy.geocoders import Nominatim \n",
        "import matplotlib.pyplot as plt\n",
        "import matplotlib.cm as cm\n",
        "import matplotlib.colors as colors\n",
        "%matplotlib inline\n",
        "import seaborn as sns\n",
        "\n",
        "print('Done!')"
      ],
      "execution_count": 1,
      "outputs": [
        {
          "output_type": "stream",
          "text": [
            "Done!\n"
          ],
          "name": "stdout"
        }
      ]
    },
    {
      "cell_type": "markdown",
      "metadata": {
        "id": "tLQ5808KciKT",
        "colab_type": "text"
      },
      "source": [
        "Functions that will be used later"
      ]
    },
    {
      "cell_type": "code",
      "metadata": {
        "id": "6WL2OfpeciKU",
        "colab_type": "code",
        "colab": {}
      },
      "source": [
        "def geo_location(address):\n",
        "    # get geo location of address\n",
        "    geolocator = Nominatim(user_agent=\"foursquare_agent\")\n",
        "    location = geolocator.geocode(address)\n",
        "    latitude = location.latitude\n",
        "    longitude = location.longitude\n",
        "    return latitude,longitude\n",
        "\n",
        "\n",
        "def get_venues(lat,lng,radius,LIMIT):\n",
        "    #set variables\n",
        "    #radius=400\n",
        "    #LIMIT=100\n",
        "    #url to fetch data from foursquare api\n",
        "    url = 'https://api.foursquare.com/v2/venues/explore?&client_id={}&client_secret={}&v={}&ll={},{}&radius={}&limit={}'.format(\n",
        "            CLIENT_ID, \n",
        "            CLIENT_SECRET, \n",
        "            VERSION, \n",
        "            lat, \n",
        "            lng, \n",
        "            radius, \n",
        "            LIMIT)\n",
        "    # get all the data\n",
        "    results = requests.get(url).json()\n",
        "    venue_data=results[\"response\"]['groups'][0]['items']\n",
        "    venue_details=[]\n",
        "    for row in venue_data:\n",
        "        try:\n",
        "            venue_id=row['venue']['id']\n",
        "            venue_name=row['venue']['name']\n",
        "            venue_category=row['venue']['categories'][0]['name']\n",
        "            venue_details.append([venue_id,venue_name,venue_category])\n",
        "        except KeyError:\n",
        "            pass\n",
        "    column_names=['ID','Name','Category']\n",
        "    df = pd.DataFrame(venue_details,columns=column_names)\n",
        "    return df\n",
        "\n",
        "\n",
        "def get_venue_details(venue_id):\n",
        "    #url to fetch data from foursquare api\n",
        "    url = 'https://api.foursquare.com/v2/venues/{}?&client_id={}&client_secret={}&v={}'.format(\n",
        "            venue_id,\n",
        "            CLIENT_ID, \n",
        "            CLIENT_SECRET, \n",
        "            VERSION)\n",
        "    # get all the data\n",
        "    results = requests.get(url).json()\n",
        "    print(results)\n",
        "    venue_data=results['response']['venue']\n",
        "    venue_details=[]\n",
        "    try:\n",
        "        venue_id=venue_data['id']\n",
        "        venue_name=venue_data['name']\n",
        "        venue_likes=venue_data['likes']['count']\n",
        "        venue_rating=venue_data['rating']\n",
        "        venue_tips=venue_data['tips']['count']\n",
        "        venue_details.append([venue_id,venue_name,venue_likes,venue_rating,venue_tips])\n",
        "    except KeyError:\n",
        "        pass\n",
        "    column_names=['ID','Name','Likes','Rating','Tips']\n",
        "    df = pd.DataFrame(venue_details,columns=column_names)\n",
        "    return df\n",
        "\n",
        "\n",
        "def get_new_york_data():\n",
        "    url='https://cocl.us/new_york_dataset'\n",
        "    resp=requests.get(url).json()\n",
        "    # all data is present in features label\n",
        "    features=resp['features']\n",
        "    # define the dataframe columns\n",
        "    column_names = ['Borough', 'Neighborhood', 'Latitude', 'Longitude'] \n",
        "    # instantiate the dataframe\n",
        "    new_york_data = pd.DataFrame(columns=column_names)\n",
        "    for data in features:\n",
        "        borough = data['properties']['borough'] \n",
        "        neighborhood_name = data['properties']['name']\n",
        "        neighborhood_latlon = data['geometry']['coordinates']\n",
        "        neighborhood_lat = neighborhood_latlon[1]\n",
        "        neighborhood_lon = neighborhood_latlon[0]\n",
        "        new_york_data = new_york_data.append({'Borough': borough,\n",
        "                                          'Neighborhood': neighborhood_name,\n",
        "                                          'Latitude': neighborhood_lat,\n",
        "                                          'Longitude': neighborhood_lon}, ignore_index=True)\n",
        "    return new_york_data"
      ],
      "execution_count": 0,
      "outputs": []
    },
    {
      "cell_type": "markdown",
      "metadata": {
        "id": "e_aft5BaciKa",
        "colab_type": "text"
      },
      "source": [
        "Now lets use the above codes to get our initial NYC data"
      ]
    },
    {
      "cell_type": "code",
      "metadata": {
        "id": "iadx5E5CciKe",
        "colab_type": "code",
        "colab": {}
      },
      "source": [
        "#Foursquare_api\n",
        "CLIENT_ID = \"FG03S1PEXXF32IF3PFDDIOT2SK4MIT2ETW3RSYOBUUSVPO4M\" \n",
        "CLIENT_SECRET = \"JHYQYGCY2XH1QWDXB4VO1SNJT1GO0CCDILIQK24SHWP222ET\" \n",
        "VERSION = '20191223'"
      ],
      "execution_count": 0,
      "outputs": []
    },
    {
      "cell_type": "code",
      "metadata": {
        "id": "QD2Q2eEuciKn",
        "colab_type": "code",
        "outputId": "c11224ed-6da5-48e2-a890-ee2eca00114b",
        "colab": {
          "base_uri": "https://localhost:8080/",
          "height": 204
        }
      },
      "source": [
        "ny_data = get_new_york_data()\n",
        "ny_data.head()"
      ],
      "execution_count": 4,
      "outputs": [
        {
          "output_type": "execute_result",
          "data": {
            "text/html": [
              "<div>\n",
              "<style scoped>\n",
              "    .dataframe tbody tr th:only-of-type {\n",
              "        vertical-align: middle;\n",
              "    }\n",
              "\n",
              "    .dataframe tbody tr th {\n",
              "        vertical-align: top;\n",
              "    }\n",
              "\n",
              "    .dataframe thead th {\n",
              "        text-align: right;\n",
              "    }\n",
              "</style>\n",
              "<table border=\"1\" class=\"dataframe\">\n",
              "  <thead>\n",
              "    <tr style=\"text-align: right;\">\n",
              "      <th></th>\n",
              "      <th>Borough</th>\n",
              "      <th>Neighborhood</th>\n",
              "      <th>Latitude</th>\n",
              "      <th>Longitude</th>\n",
              "    </tr>\n",
              "  </thead>\n",
              "  <tbody>\n",
              "    <tr>\n",
              "      <th>0</th>\n",
              "      <td>Bronx</td>\n",
              "      <td>Wakefield</td>\n",
              "      <td>40.894705</td>\n",
              "      <td>-73.847201</td>\n",
              "    </tr>\n",
              "    <tr>\n",
              "      <th>1</th>\n",
              "      <td>Bronx</td>\n",
              "      <td>Co-op City</td>\n",
              "      <td>40.874294</td>\n",
              "      <td>-73.829939</td>\n",
              "    </tr>\n",
              "    <tr>\n",
              "      <th>2</th>\n",
              "      <td>Bronx</td>\n",
              "      <td>Eastchester</td>\n",
              "      <td>40.887556</td>\n",
              "      <td>-73.827806</td>\n",
              "    </tr>\n",
              "    <tr>\n",
              "      <th>3</th>\n",
              "      <td>Bronx</td>\n",
              "      <td>Fieldston</td>\n",
              "      <td>40.895437</td>\n",
              "      <td>-73.905643</td>\n",
              "    </tr>\n",
              "    <tr>\n",
              "      <th>4</th>\n",
              "      <td>Bronx</td>\n",
              "      <td>Riverdale</td>\n",
              "      <td>40.890834</td>\n",
              "      <td>-73.912585</td>\n",
              "    </tr>\n",
              "  </tbody>\n",
              "</table>\n",
              "</div>"
            ],
            "text/plain": [
              "  Borough Neighborhood   Latitude  Longitude\n",
              "0   Bronx    Wakefield  40.894705 -73.847201\n",
              "1   Bronx   Co-op City  40.874294 -73.829939\n",
              "2   Bronx  Eastchester  40.887556 -73.827806\n",
              "3   Bronx    Fieldston  40.895437 -73.905643\n",
              "4   Bronx    Riverdale  40.890834 -73.912585"
            ]
          },
          "metadata": {
            "tags": []
          },
          "execution_count": 4
        }
      ]
    },
    {
      "cell_type": "code",
      "metadata": {
        "id": "Lv-vfYpzciKv",
        "colab_type": "code",
        "outputId": "475a1a78-b03f-49e7-ea69-6b9fe4a6112d",
        "colab": {
          "base_uri": "https://localhost:8080/",
          "height": 34
        }
      },
      "source": [
        "ny_data.shape"
      ],
      "execution_count": 0,
      "outputs": [
        {
          "output_type": "execute_result",
          "data": {
            "text/plain": [
              "(306, 4)"
            ]
          },
          "metadata": {
            "tags": []
          },
          "execution_count": 20
        }
      ]
    },
    {
      "cell_type": "markdown",
      "metadata": {
        "id": "W5mKHSdrciKz",
        "colab_type": "text"
      },
      "source": [
        "Now that we have our initial data, lets start analyzing it. We can see below that Manhattan has the least number of neighborhoods in all five buroughs. "
      ]
    },
    {
      "cell_type": "code",
      "metadata": {
        "id": "Qvt5rpWxciK0",
        "colab_type": "code",
        "outputId": "ec95964f-3d6f-4026-b08e-7f9d4fc6b016",
        "colab": {
          "base_uri": "https://localhost:8080/",
          "height": 360
        }
      },
      "source": [
        "clr = \"dodgerblue\"\n",
        "ny_data.groupby('Borough')['Neighborhood'].count().plot.bar(figsize=(10,5), color=clr)\n",
        "plt.title('Neighborhoods per Borough: NYC', fontsize = 20)\n",
        "plt.xlabel('Borough', fontsize = 15)\n",
        "plt.ylabel('No. Neighborhoods',fontsize = 15)\n",
        "plt.xticks(rotation = 'horizontal')\n",
        "plt.show()"
      ],
      "execution_count": 0,
      "outputs": [
        {
          "output_type": "display_data",
          "data": {
            "image/png": "[encoded data removed]",
            "text/plain": [
              "<Figure size 720x360 with 1 Axes>"
            ]
          },
          "metadata": {
            "tags": []
          }
        }
      ]
    },
    {
      "cell_type": "markdown",
      "metadata": {
        "id": "1EpifYqmciK7",
        "colab_type": "text"
      },
      "source": [
        "Lets analyze further and see how many Indian restaurants there are in each neighborhood and burough and graph the results."
      ]
    },
    {
      "cell_type": "code",
      "metadata": {
        "id": "xRRfzR_YciK_",
        "colab_type": "code",
        "colab": {}
      },
      "source": [
        "# queens has most neighborhoods\n",
        "# prepare neighborhood list that contains indian resturants\n",
        "column_names=['Borough', 'Neighborhood', 'ID','Name']\n",
        "Indian_rest_ny=pd.DataFrame(columns=column_names)\n",
        "count=1\n",
        "for row in ny_data.values.tolist():\n",
        "    Borough, Neighborhood, Latitude, Longitude=row\n",
        "    venues = get_venues(Latitude,Longitude,1000,100)\n",
        "    Indian_resturants=venues[venues['Category']=='Indian Restaurant']   \n",
        "    print('(',count,'/',len(ny_data),')','Indian Resturants in '+Neighborhood+', '+Borough+':'+str(len(Indian_resturants)))\n",
        "    print(row,\"\\n\")\n",
        "    for resturant_detail in Indian_resturants.values.tolist():\n",
        "        id, name , category=resturant_detail\n",
        "        Indian_rest_ny = Indian_rest_ny.append({'Borough': Borough,\n",
        "                                                'Neighborhood': Neighborhood, \n",
        "                                                'ID': id,\n",
        "                                                'Name' : name\n",
        "                                               }, ignore_index=True)\n",
        "    count+=1"
      ],
      "execution_count": 0,
      "outputs": []
    },
    {
      "cell_type": "code",
      "metadata": {
        "id": "S9y42gIVciLD",
        "colab_type": "code",
        "colab": {}
      },
      "source": [
        "Indian_rest_ny.to_csv('Indian_rest_ny.csv',index=False) \n",
        "# Save the information so far to a .csv file due to limited calls on FourSquare"
      ],
      "execution_count": 0,
      "outputs": []
    },
    {
      "cell_type": "code",
      "metadata": {
        "colab_type": "code",
        "id": "3oEfzZ8-GXQC",
        "colab": {}
      },
      "source": [
        "Indian_rest_ny = Indian_rest_ny.drop([\"Unnamed: 0\"],axis=1)"
      ],
      "execution_count": 0,
      "outputs": []
    },
    {
      "cell_type": "code",
      "metadata": {
        "id": "3arwRIGociLL",
        "colab_type": "code",
        "outputId": "b88a1ce0-cc3e-4ef8-a07e-42632a4662e4",
        "colab": {
          "base_uri": "https://localhost:8080/",
          "height": 204
        }
      },
      "source": [
        "Indian_rest_ny = pd.read_csv('Indian_rest_ny.csv')\n",
        "Indian_rest_ny.tail()"
      ],
      "execution_count": 5,
      "outputs": [
        {
          "output_type": "execute_result",
          "data": {
            "text/html": [
              "<div>\n",
              "<style scoped>\n",
              "    .dataframe tbody tr th:only-of-type {\n",
              "        vertical-align: middle;\n",
              "    }\n",
              "\n",
              "    .dataframe tbody tr th {\n",
              "        vertical-align: top;\n",
              "    }\n",
              "\n",
              "    .dataframe thead th {\n",
              "        text-align: right;\n",
              "    }\n",
              "</style>\n",
              "<table border=\"1\" class=\"dataframe\">\n",
              "  <thead>\n",
              "    <tr style=\"text-align: right;\">\n",
              "      <th></th>\n",
              "      <th>Borough</th>\n",
              "      <th>Neighborhood</th>\n",
              "      <th>ID</th>\n",
              "      <th>Name</th>\n",
              "    </tr>\n",
              "  </thead>\n",
              "  <tbody>\n",
              "    <tr>\n",
              "      <th>150</th>\n",
              "      <td>Brooklyn</td>\n",
              "      <td>Erasmus</td>\n",
              "      <td>564d283d498e6e851df79d87</td>\n",
              "      <td>Great Indian Curry</td>\n",
              "    </tr>\n",
              "    <tr>\n",
              "      <th>151</th>\n",
              "      <td>Brooklyn</td>\n",
              "      <td>Erasmus</td>\n",
              "      <td>4e8b96bed3e303e9db3555fd</td>\n",
              "      <td>Bombay Masala</td>\n",
              "    </tr>\n",
              "    <tr>\n",
              "      <th>152</th>\n",
              "      <td>Queens</td>\n",
              "      <td>Queensbridge</td>\n",
              "      <td>50a287a7e4b0033f830f06db</td>\n",
              "      <td>Raj's Indian Kitchen</td>\n",
              "    </tr>\n",
              "    <tr>\n",
              "      <th>153</th>\n",
              "      <td>Queens</td>\n",
              "      <td>Queensbridge</td>\n",
              "      <td>4b1b341bf964a5208af923e3</td>\n",
              "      <td>Five Star Banquet</td>\n",
              "    </tr>\n",
              "    <tr>\n",
              "      <th>154</th>\n",
              "      <td>Staten Island</td>\n",
              "      <td>Fox Hills</td>\n",
              "      <td>4b65f2e3f964a5206e0a2be3</td>\n",
              "      <td>Al-Humza</td>\n",
              "    </tr>\n",
              "  </tbody>\n",
              "</table>\n",
              "</div>"
            ],
            "text/plain": [
              "           Borough  ...                  Name\n",
              "150       Brooklyn  ...    Great Indian Curry\n",
              "151       Brooklyn  ...         Bombay Masala\n",
              "152         Queens  ...  Raj's Indian Kitchen\n",
              "153         Queens  ...     Five Star Banquet\n",
              "154  Staten Island  ...              Al-Humza\n",
              "\n",
              "[5 rows x 4 columns]"
            ]
          },
          "metadata": {
            "tags": []
          },
          "execution_count": 5
        }
      ]
    },
    {
      "cell_type": "code",
      "metadata": {
        "id": "Dv3k9UhzLgo9",
        "colab_type": "code",
        "colab": {}
      },
      "source": [
        ""
      ],
      "execution_count": 0,
      "outputs": []
    },
    {
      "cell_type": "code",
      "metadata": {
        "id": "ad7LX_nsciLS",
        "colab_type": "code",
        "outputId": "68434759-aaa4-4a7f-9273-e192658b81bf",
        "colab": {
          "base_uri": "https://localhost:8080/",
          "height": 34
        }
      },
      "source": [
        "Indian_rest_ny.shape"
      ],
      "execution_count": 6,
      "outputs": [
        {
          "output_type": "execute_result",
          "data": {
            "text/plain": [
              "(155, 4)"
            ]
          },
          "metadata": {
            "tags": []
          },
          "execution_count": 6
        }
      ]
    },
    {
      "cell_type": "markdown",
      "metadata": {
        "id": "eavzlc1DciLV",
        "colab_type": "text"
      },
      "source": [
        "As we continue our analysis, we see below that although Manhattan had the least number of nieghborhoods, it does have the highest number if Indian restaurants.  Additionally, we see how many restaurants the top 6 neighborhoods have.  The neighborhood of Belmont has the highest number of Indian restaurants in all of NYC and is actually located in the burough of Bronx vice Manhattan."
      ]
    },
    {
      "cell_type": "code",
      "metadata": {
        "id": "mZKNx0sZciLY",
        "colab_type": "code",
        "outputId": "e9d449dd-05bb-4a0f-b410-86547fbe00d8",
        "colab": {
          "base_uri": "https://localhost:8080/",
          "height": 360
        }
      },
      "source": [
        "Indian_rest_ny.groupby('Borough')['ID'].count().plot.bar(figsize=(10,5), color = clr)\n",
        "plt.title('Indian Resturants per Borough: NYC', fontsize = 20)\n",
        "plt.xlabel('Borough', fontsize = 15)\n",
        "plt.ylabel('No.of Indian Resturants', fontsize=15)\n",
        "plt.xticks(rotation = 'horizontal')\n",
        "plt.show()"
      ],
      "execution_count": 0,
      "outputs": [
        {
          "output_type": "display_data",
          "data": {
            "image/png": "[encoded data removed]",
            "text/plain": [
              "<Figure size 720x360 with 1 Axes>"
            ]
          },
          "metadata": {
            "tags": []
          }
        }
      ]
    },
    {
      "cell_type": "code",
      "metadata": {
        "id": "xACjrnxBciLh",
        "colab_type": "code",
        "outputId": "d0caa470-1e25-48d8-ba41-f0d51661e96d",
        "colab": {
          "base_uri": "https://localhost:8080/",
          "height": 437
        }
      },
      "source": [
        "NOofNeigh = 10 # top number for graphing all the same past 6\n",
        "Indian_rest_ny.groupby('Neighborhood')['ID'].count().nlargest(NOofNeigh).plot.bar(figsize=(10,5), color=clr)\n",
        "plt.title('Indian Resturants per Neighborhood: NYC', fontsize = 20)\n",
        "plt.xlabel('Neighborhood', fontsize = 15)\n",
        "plt.ylabel('Indian Resturants', fontsize=15)\n",
        "plt.xticks(rotation = 90)\n",
        "plt.show()"
      ],
      "execution_count": 0,
      "outputs": [
        {
          "output_type": "display_data",
          "data": {
            "image/png": "[encoded data removed]",
            "text/plain": [
              "<Figure size 720x360 with 1 Axes>"
            ]
          },
          "metadata": {
            "tags": []
          }
        }
      ]
    },
    {
      "cell_type": "code",
      "metadata": {
        "id": "JoQfMAkWciLr",
        "colab_type": "code",
        "colab": {}
      },
      "source": [
        "column_names=['Borough', 'Neighborhood', 'ID','Name','Likes','Rating','Tips']\n",
        "Indian_rest_stats_ny=pd.DataFrame(columns=column_names)\n",
        "count=1\n",
        "#Borough, Neighborhood, Latitude, Longitude=row\n",
        "for row in Indian_rest_ny.values.tolist():\n",
        "  Borough, Neighborhood, ID, Name=row\n",
        "  try:\n",
        "      venue_details=get_venue_details(ID)\n",
        "      print(venue_details)\n",
        "      id,name,likes,rating,tips=venue_details.values.tolist()[0]\n",
        "  except IndexError:\n",
        "      print('No data available for id=',ID)\n",
        "      # we will assign 0 value for these resturants as they may have been \n",
        "      #recently opened or details does not exist in FourSquare Database\n",
        "      id,name,likes,rating,tips=[0]*5\n",
        "  print('(',count,'/',len(Indian_rest_ny),')','processed')\n",
        "  Indian_rest_stats_ny = Indian_rest_stats_ny.append({'Borough': Borough,\n",
        "                                              'Neighborhood': Neighborhood, \n",
        "                                              'ID': id,\n",
        "                                              'Name' : name,\n",
        "                                              'Likes' : likes,\n",
        "                                              'Rating' : rating,\n",
        "                                              'Tips' : tips\n",
        "                                              }, ignore_index=True)\n",
        "  count+=1"
      ],
      "execution_count": 0,
      "outputs": []
    },
    {
      "cell_type": "code",
      "metadata": {
        "id": "q47yNJ50BT9y",
        "colab_type": "code",
        "colab": {
          "base_uri": "https://localhost:8080/",
          "height": 1000
        },
        "outputId": "e1736154-987b-40d3-98dd-cfb0aaddee3b"
      },
      "source": [
        "Indian_rest_ny.values.tolist()"
      ],
      "execution_count": 9,
      "outputs": [
        {
          "output_type": "execute_result",
          "data": {
            "text/plain": [
              "[['Bronx', 'Woodlawn', '4c0448d9310fc9b6bf1dc761', 'Curry Spot'],\n",
              " ['Bronx',\n",
              "  'Parkchester',\n",
              "  '4c194631838020a13e78e561',\n",
              "  'Melanies Roti Bar And Grill'],\n",
              " ['Bronx',\n",
              "  'Spuyten Duyvil',\n",
              "  '4c04544df423a593ac83d116',\n",
              "  'Cumin Indian Cuisine'],\n",
              " ['Bronx', 'Concourse', '551b7f75498e86c00a0ed2e1', 'Hungry Bird'],\n",
              " ['Bronx',\n",
              "  'Unionport',\n",
              "  '4c194631838020a13e78e561',\n",
              "  'Melanies Roti Bar And Grill'],\n",
              " ['Bronx',\n",
              "  'Unionport',\n",
              "  '55dfa36a498e164ef19bef7b',\n",
              "  'Premium Sweets & Restaurant'],\n",
              " ['Brooklyn', 'Bay Ridge', '4b5a4dc8f964a520a2bb28e3', 'Taj Mahal'],\n",
              " ['Brooklyn', 'Brighton Beach', '4af0d31bf964a5207ddf21e3', 'Pak Nasheman'],\n",
              " ['Brooklyn', 'Flatbush', '52213c4211d295d4c57a607c', 'Ashoka Grill'],\n",
              " ['Brooklyn', 'Flatbush', '564d283d498e6e851df79d87', 'Great Indian Curry'],\n",
              " ['Brooklyn', 'East Flatbush', '512a9ea9e4b004fb8eeb84e5', 'Silver Krust'],\n",
              " ['Brooklyn', 'Kensington', '4db0f4371e729fcc56497f20', 'Mashallah'],\n",
              " ['Brooklyn',\n",
              "  'Kensington',\n",
              "  '4b718914f964a520c04b2de3',\n",
              "  'Madina Restaurant and Sweets'],\n",
              " ['Brooklyn', 'Fort Greene', '57596dad498e732300496b23', 'Dosa Royale'],\n",
              " ['Brooklyn', 'Clinton Hill', '57596dad498e732300496b23', 'Dosa Royale'],\n",
              " ['Brooklyn',\n",
              "  'Prospect Lefferts Gardens',\n",
              "  '4bb93b70cf2fc9b6fe64a002',\n",
              "  'Gandhi Fine Indian Cuisine'],\n",
              " ['Brooklyn',\n",
              "  'Prospect Lefferts Gardens',\n",
              "  '4afdf78bf964a520862c22e3',\n",
              "  'King of Tandoor'],\n",
              " ['Brooklyn', 'Ocean Hill', '5539753f498edbace4746b67', 'Tandoori Masala'],\n",
              " ['Brooklyn', 'Ocean Hill', '4f6cae2ee4b0d4a5afcef5c0', 'Delhi Heights'],\n",
              " ['Brooklyn', 'City Line', '4f381772e4b08533d2f91e26', 'Rose Bengal'],\n",
              " ['Brooklyn',\n",
              "  'Prospect Park South',\n",
              "  '519ff6c8498e1300ddcbd45c',\n",
              "  'Anarkali Indian Cuisine'],\n",
              " ['Brooklyn', 'Prospect Park South', '4db0f4371e729fcc56497f20', 'Mashallah'],\n",
              " ['Brooklyn', 'North Side', '5631511b498e3d6d7e0a4df0', 'Tikka Indian Grill'],\n",
              " ['Brooklyn', 'South Side', '5631511b498e3d6d7e0a4df0', 'Tikka Indian Grill'],\n",
              " ['Manhattan',\n",
              "  'Washington Heights',\n",
              "  '4ae7876ef964a5201eac21e3',\n",
              "  'Kismat Indian Restaurant'],\n",
              " ['Manhattan',\n",
              "  'Hamilton Heights',\n",
              "  '54c2bd96498eaf5142e3fe92',\n",
              "  'Clove Indian Restaurant & Bar'],\n",
              " ['Manhattan',\n",
              "  'Hamilton Heights',\n",
              "  '5914ff32b23dfa207eca38de',\n",
              "  'Mumbai Masala'],\n",
              " ['Manhattan',\n",
              "  'Manhattanville',\n",
              "  '529d382a11d2dd5ef107e641',\n",
              "  'Chapati House - NYC'],\n",
              " ['Manhattan',\n",
              "  'Manhattanville',\n",
              "  '54c2bd96498eaf5142e3fe92',\n",
              "  'Clove Indian Restaurant & Bar'],\n",
              " ['Manhattan', 'Central Harlem', '56d87f3d498ee215abee5724', 'Delhi Masala'],\n",
              " ['Manhattan',\n",
              "  'Central Harlem',\n",
              "  '54c2bd96498eaf5142e3fe92',\n",
              "  'Clove Indian Restaurant & Bar'],\n",
              " ['Manhattan', 'East Harlem', '519fe6f5498e30595d370c44', 'Bawarchi'],\n",
              " ['Manhattan', 'Yorkville', '5272ca4511d22488f6895caf', 'Drunken Munkey'],\n",
              " ['Manhattan',\n",
              "  'Roosevelt Island',\n",
              "  '4fe4fb50c2eee335e4fea69d',\n",
              "  'Moti Mahal Delux'],\n",
              " ['Manhattan', 'Upper West Side', '42489a80f964a5208b201fe3', 'Swagat'],\n",
              " ['Manhattan', 'Upper West Side', '591890f43abcaf1ddca66e85', 'Ashoka'],\n",
              " ['Manhattan', 'Upper West Side', '4b0dec08f964a520ae5223e3', 'Alachi Masala'],\n",
              " ['Manhattan',\n",
              "  'Murray Hill',\n",
              "  '59fcd48c464d6567ed2f5e37',\n",
              "  'The Kati Roll Company'],\n",
              " ['Manhattan', 'Chelsea', '4b4aab62f964a520978c26e3', 'Dil-e Punjab Deli'],\n",
              " ['Manhattan',\n",
              "  'Greenwich Village',\n",
              "  '5b5a2c9e66f3cd002ca0aab5',\n",
              "  'The Drunken Munkey'],\n",
              " ['Manhattan', 'Tribeca', '4bbb9dbded7776b0e1ad3e51', 'Tamarind TriBeCa'],\n",
              " ['Manhattan',\n",
              "  'West Village',\n",
              "  '5b5a2c9e66f3cd002ca0aab5',\n",
              "  'The Drunken Munkey'],\n",
              " ['Manhattan', 'West Village', '591794df2be42556988e4a8e', 'Rahi'],\n",
              " ['Manhattan', 'Manhattan Valley', '4d24b812836f5481518645f7', 'Doaba Deli'],\n",
              " ['Manhattan',\n",
              "  'Manhattan Valley',\n",
              "  '424de080f964a520ae201fe3',\n",
              "  'Manhattan Valley'],\n",
              " ['Manhattan', 'Manhattan Valley', '49c5ad0af964a5201b571fe3', 'Roti Roll'],\n",
              " ['Manhattan', 'Manhattan Valley', '538ba1f2498e279098e4210a', 'Awadh'],\n",
              " ['Manhattan', 'Manhattan Valley', '4ad12c9df964a52040dd20e3', 'Aangan'],\n",
              " ['Manhattan', 'Morningside Heights', '49c5ad0af964a5201b571fe3', 'Roti Roll'],\n",
              " ['Manhattan', 'Gramercy', '4a70a75bf964a52016d81fe3', 'Bhatti Indian Grill'],\n",
              " ['Manhattan', 'Gramercy', '57f7cbbe498edf8f07c7ba83', 'Sahib'],\n",
              " ['Manhattan', 'Gramercy', '523b2b42498e1dfabcc8ab15', 'Pippali'],\n",
              " ['Manhattan', 'Gramercy', '43d537d0f964a520402e1fe3', 'Vatan'],\n",
              " ['Queens', 'Astoria', '4aa56c81f964a5204e4820e3', 'Seva Indian Cuisine'],\n",
              " ['Queens', 'Woodside', '4afdcf29f964a520162b22e3', 'Rajbhog Sweets'],\n",
              " ['Queens',\n",
              "  'Woodside',\n",
              "  '4b998d3ff964a520fc8235e3',\n",
              "  'Maharaja Sweets & Snacks'],\n",
              " ['Queens', 'Woodside', '4c7060e734443704ca0e245f', 'Kababish'],\n",
              " ['Queens', 'Woodside', '5da4fbf091a08400078be19d', 'Angel Indian Restaurant'],\n",
              " ['Queens', 'Woodside', '4b189424f964a52043d423e3', 'Dera'],\n",
              " ['Queens', 'Woodside', '49ebb18ff964a52016671fe3', 'Delhi Heights'],\n",
              " ['Queens',\n",
              "  'Woodside',\n",
              "  '4e334b7bb0fb17f64f81a8b2',\n",
              "  'Premium Sweets & Restaurant'],\n",
              " ['Queens', 'Woodside', '3fd66200f964a52009f11ee3', 'Jackson Diner'],\n",
              " ['Queens', 'Jackson Heights', '527d9cbc498edf0db10bde6b', 'Samudra'],\n",
              " ['Queens', 'Jackson Heights', '4afdcf29f964a520162b22e3', 'Rajbhog Sweets'],\n",
              " ['Queens',\n",
              "  'Jackson Heights',\n",
              "  '4b998d3ff964a520fc8235e3',\n",
              "  'Maharaja Sweets & Snacks'],\n",
              " ['Queens',\n",
              "  'Jackson Heights',\n",
              "  '5da4fbf091a08400078be19d',\n",
              "  'Angel Indian Restaurant'],\n",
              " ['Queens', 'Jackson Heights', '49ebb18ff964a52016671fe3', 'Delhi Heights'],\n",
              " ['Queens', 'Jackson Heights', '3fd66200f964a52009f11ee3', 'Jackson Diner'],\n",
              " ['Queens', 'Elmhurst', '527d9cbc498edf0db10bde6b', 'Samudra'],\n",
              " ['Queens', 'Elmhurst', '5da4fbf091a08400078be19d', 'Angel Indian Restaurant'],\n",
              " ['Queens', 'Kew Gardens', '5782c9ce498edde587f5aa14', 'Tikka Indian Grill'],\n",
              " ['Queens',\n",
              "  'Kew Gardens',\n",
              "  '4bbe78bfba9776b070cefdc8',\n",
              "  'Mehak Mughlai Cuisine'],\n",
              " ['Queens', 'Richmond Hill', '4b522029f964a520f26927e3', 'Sohna Punjab'],\n",
              " ['Queens', 'Richmond Hill', '4f1b77d7e4b044fd359e6d21', 'India Cafe'],\n",
              " ['Queens', 'Richmond Hill', '5782c9ce498edde587f5aa14', 'Tikka Indian Grill'],\n",
              " ['Queens',\n",
              "  'Richmond Hill',\n",
              "  '4adbaef0f964a520ff2921e3',\n",
              "  'Punjabi Kabab House'],\n",
              " ['Queens', 'Richmond Hill', '4bb2bc48a32876b02e0b01fe', 'Tandoori Hut'],\n",
              " ['Queens', 'Richmond Hill', '4babc24ef964a5200ac73ae3', 'Royal India Palace'],\n",
              " ['Queens',\n",
              "  'Long Island City',\n",
              "  '50a287a7e4b0033f830f06db',\n",
              "  \"Raj's Indian Kitchen\"],\n",
              " ['Queens', 'Long Island City', '5b931ea69d7468002c3b1382', 'Adda'],\n",
              " ['Queens', 'Sunnyside', '5b931ea69d7468002c3b1382', 'Adda'],\n",
              " ['Queens',\n",
              "  'Ridgewood',\n",
              "  '50e1c9708aca7ff2b3e50353',\n",
              "  'Nepalese Indian Restaurant'],\n",
              " ['Queens', 'Rego Park', '5625af69498ebbc62b61a382', 'Aaheli Restaurant'],\n",
              " ['Queens',\n",
              "  'Ozone Park',\n",
              "  '572d7c21498e098658a0edd7',\n",
              "  'Punjabi kabab and gyro'],\n",
              " ['Queens', 'South Ozone Park', '4ee8dddb5c5c99a2dc780825', 'New Kabob Diner'],\n",
              " ['Queens',\n",
              "  'Bayside',\n",
              "  '4f1f4996e4b01ff351a7a50c',\n",
              "  'Ayna Agra Indian Restaurant'],\n",
              " ['Queens', 'Bayside', '539a4ff0498e79c6745baba9', 'Masala Box'],\n",
              " ['Queens', 'Bayside', '539e27b0498e2eba582085ee', 'masalabox'],\n",
              " ['Queens',\n",
              "  'Glen Oaks',\n",
              "  '4b787c49f964a5209cd12ee3',\n",
              "  'Santoor Indian Restaurant'],\n",
              " ['Queens', 'Glen Oaks', '4b9030abf964a520397b33e3', 'Taste of Cochin'],\n",
              " ['Queens', 'Glen Oaks', '4df0f39dd4c04d0392c853ea', 'Sagar Chinese'],\n",
              " ['Queens', 'Glen Oaks', '4c0e256ab1b676b06589e186', 'Sohna Punjab'],\n",
              " ['Queens', 'Bellerose', '4dc0aaedae606fe8b71c226b', 'Saffron Cuisine/ Bar'],\n",
              " ['Queens', 'Briarwood', '4bad49a0f964a52041423be3', 'Annam Brahma'],\n",
              " ['Queens',\n",
              "  'Briarwood',\n",
              "  '4be334312fc7d13a7a81083a',\n",
              "  'Taj Mahal Restaurant & Party Hall'],\n",
              " ['Queens', 'Briarwood', '4cc08b0900d83704ed474b5c', \"Sybil's Bakery\"],\n",
              " ['Queens', 'Jamaica Center', '4bad49a0f964a52041423be3', 'Annam Brahma'],\n",
              " ['Queens', 'Jamaica Center', '4cc08b0900d83704ed474b5c', \"Sybil's Bakery\"],\n",
              " ['Queens', 'Jamaica Center', '4c434b2bd691c9b6ef8f8f0a', 'Sagar Restaurant'],\n",
              " ['Queens', 'Steinway', '562035d9498e2abb4137c2c7', 'Yaar Indian Restaurant'],\n",
              " ['Queens', 'Floral Park', '527ffc0811d2d329d5e49abd', 'Jackson Diner'],\n",
              " ['Queens', 'Floral Park', '4e4e3e22bd4101d0d7a5c2d1', 'Kerala Kitchen'],\n",
              " ['Queens',\n",
              "  'Floral Park',\n",
              "  '4b647b56f964a520c4b62ae3',\n",
              "  'Usha Foods & Usha Sweets'],\n",
              " ['Queens',\n",
              "  'Floral Park',\n",
              "  '4b787c49f964a5209cd12ee3',\n",
              "  'Santoor Indian Restaurant'],\n",
              " ['Queens', 'Floral Park', '4c0c01e0bbc676b00d6b4cd5', 'Mumbai Xpress'],\n",
              " ['Queens', 'Floral Park', '4c76ff35a5676dcb72671721', 'Flavor Of India'],\n",
              " ['Queens', 'Floral Park', '4df0f39dd4c04d0392c853ea', 'Sagar Chinese'],\n",
              " ['Queens',\n",
              "  'Floral Park',\n",
              "  '571af96a498e9e392d8d3786',\n",
              "  'Namaste Authenic Indian Cuisine'],\n",
              " ['Queens',\n",
              "  'Floral Park',\n",
              "  '51d84192498ea979a3c4f13d',\n",
              "  'Sunshine Grill & Restaurant'],\n",
              " ['Queens',\n",
              "  'Floral Park',\n",
              "  '4e6bfe1c7d8b2c711b17bbe5',\n",
              "  'Surya sweets and snacks'],\n",
              " ['Queens',\n",
              "  'Holliswood',\n",
              "  '4f580c1be4b0bdfd0e7e8102',\n",
              "  'Rajdhani Indian Restaurant'],\n",
              " ['Queens', 'Jamaica Estates', '4c434b2bd691c9b6ef8f8f0a', 'Sagar Restaurant'],\n",
              " ['Queens',\n",
              "  'Jamaica Estates',\n",
              "  '4b8d5734f964a520b1f532e3',\n",
              "  'BBQ Village Palace'],\n",
              " ['Queens',\n",
              "  'Jamaica Estates',\n",
              "  '4c66f1ac8e9120a1b266d964',\n",
              "  'Sunshine Grill and Restaurant'],\n",
              " ['Queens', 'Ravenswood', '5623f6f9498e5a44a08bfae8', 'Boishakhi Restaurant'],\n",
              " ['Queens', 'Bellaire', '4dc0aaedae606fe8b71c226b', 'Saffron Cuisine/ Bar'],\n",
              " ['Staten Island', 'New Brighton', '4b9be038f964a520393036e3', 'Dosa Garden'],\n",
              " ['Staten Island',\n",
              "  'Castleton Corners',\n",
              "  '57a27a37498e68b1928c8c66',\n",
              "  'Spice Rack'],\n",
              " ['Staten Island',\n",
              "  'New Dorp',\n",
              "  '4be74a502468c928505a0243',\n",
              "  'Taste Of India II'],\n",
              " ['Staten Island', 'Tompkinsville', '4b9be038f964a520393036e3', 'Dosa Garden'],\n",
              " ['Staten Island', 'Sunnyside', '4b65f2e3f964a5206e0a2be3', 'Al-Humza'],\n",
              " ['Brooklyn',\n",
              "  'Ditmas Park',\n",
              "  '519ff6c8498e1300ddcbd45c',\n",
              "  'Anarkali Indian Cuisine'],\n",
              " ['Brooklyn', 'Ditmas Park', '4db0f4371e729fcc56497f20', 'Mashallah'],\n",
              " ['Brooklyn', 'Ditmas Park', '564d283d498e6e851df79d87', 'Great Indian Curry'],\n",
              " ['Staten Island', 'Park Hill', '4b65f2e3f964a5206e0a2be3', 'Al-Humza'],\n",
              " ['Staten Island',\n",
              "  'Grant City',\n",
              "  '4be74a502468c928505a0243',\n",
              "  'Taste Of India II'],\n",
              " ['Manhattan', 'Carnegie Hill', '5272ca4511d22488f6895caf', 'Drunken Munkey'],\n",
              " ['Manhattan',\n",
              "  'Carnegie Hill',\n",
              "  '56ed855a498ef3bb022352c3',\n",
              "  'Mughlai Indian Cuisine'],\n",
              " ['Manhattan',\n",
              "  'Carnegie Hill',\n",
              "  '5b0c8e2d2f97ec002c67a428',\n",
              "  'Ashoka Fine Dine'],\n",
              " ['Manhattan', 'Noho', '5a1e961c1987ec47beed877d', 'Baar Baar'],\n",
              " ['Manhattan', 'Civic Center', '4bbb9dbded7776b0e1ad3e51', 'Tamarind TriBeCa'],\n",
              " ['Staten Island', 'Concord', '4b65f2e3f964a5206e0a2be3', 'Al-Humza'],\n",
              " ['Staten Island', 'Emerson Hill', '4b65f2e3f964a5206e0a2be3', 'Al-Humza'],\n",
              " ['Queens', 'Jamaica Hills', '4bad49a0f964a52041423be3', 'Annam Brahma'],\n",
              " ['Queens', 'Jamaica Hills', '4c434b2bd691c9b6ef8f8f0a', 'Sagar Restaurant'],\n",
              " ['Queens', 'Jamaica Hills', '4cc08b0900d83704ed474b5c', \"Sybil's Bakery\"],\n",
              " ['Queens', 'Jamaica Hills', '4cb4a712db32f04dcb5adf4d', 'Moon Tikka'],\n",
              " ['Queens', 'Astoria Heights', '4c2e8df2213c2d7f94742f5d', 'Tikka Grill'],\n",
              " ['Bronx', 'Concourse Village', '551b7f75498e86c00a0ed2e1', 'Hungry Bird'],\n",
              " ['Manhattan',\n",
              "  'Sutton Place',\n",
              "  '4a63bfb4f964a520b3c51fe3',\n",
              "  'Chola Eclectic Indian Cuisine'],\n",
              " ['Manhattan', 'Sutton Place', '4fe4fb50c2eee335e4fea69d', 'Moti Mahal Delux'],\n",
              " ['Manhattan',\n",
              "  'Sutton Place',\n",
              "  '4f57f98fe4b0bd50f6bb8b31',\n",
              "  'The Kati Roll Company'],\n",
              " ['Manhattan',\n",
              "  'Turtle Bay',\n",
              "  '59fcd48c464d6567ed2f5e37',\n",
              "  'The Kati Roll Company'],\n",
              " ['Manhattan', 'Turtle Bay', '4a5b660df964a52015bb1fe3', 'Amma'],\n",
              " ['Manhattan', 'Turtle Bay', '5ac3984ae57ca64be4dc6168', 'INDAY'],\n",
              " ['Manhattan',\n",
              "  'Turtle Bay',\n",
              "  '4f57f98fe4b0bd50f6bb8b31',\n",
              "  'The Kati Roll Company'],\n",
              " ['Manhattan',\n",
              "  'Tudor City',\n",
              "  '59fcd48c464d6567ed2f5e37',\n",
              "  'The Kati Roll Company'],\n",
              " ['Queens', 'Sunnyside Gardens', '4c48da9f3013a59356c5f0e1', 'Saffron Garden'],\n",
              " ['Queens', 'Blissville', '5b931ea69d7468002c3b1382', 'Adda'],\n",
              " ['Brooklyn',\n",
              "  'Broadway Junction',\n",
              "  '5539753f498edbace4746b67',\n",
              "  'Tandoori Masala'],\n",
              " ['Brooklyn', 'Erasmus', '564d283d498e6e851df79d87', 'Great Indian Curry'],\n",
              " ['Brooklyn', 'Erasmus', '4e8b96bed3e303e9db3555fd', 'Bombay Masala'],\n",
              " ['Queens',\n",
              "  'Queensbridge',\n",
              "  '50a287a7e4b0033f830f06db',\n",
              "  \"Raj's Indian Kitchen\"],\n",
              " ['Queens', 'Queensbridge', '4b1b341bf964a5208af923e3', 'Five Star Banquet'],\n",
              " ['Staten Island', 'Fox Hills', '4b65f2e3f964a5206e0a2be3', 'Al-Humza']]"
            ]
          },
          "metadata": {
            "tags": []
          },
          "execution_count": 9
        }
      ]
    },
    {
      "cell_type": "code",
      "metadata": {
        "id": "RAzvUg4rciL1",
        "colab_type": "code",
        "colab": {}
      },
      "source": [
        "Indian_rest_stats_ny.to_csv('Indian_rest_stats_ny_csv1.csv') # I continue to save data to a .csv as I move through this project"
      ],
      "execution_count": 0,
      "outputs": []
    },
    {
      "cell_type": "code",
      "metadata": {
        "id": "sbGKBI2AciL6",
        "colab_type": "code",
        "colab": {
          "base_uri": "https://localhost:8080/",
          "height": 34
        },
        "outputId": "b428e3d2-a34e-4928-cd6b-2b8793b97722"
      },
      "source": [
        "Indian_rest_stats_ny.shape"
      ],
      "execution_count": 11,
      "outputs": [
        {
          "output_type": "execute_result",
          "data": {
            "text/plain": [
              "(50, 7)"
            ]
          },
          "metadata": {
            "tags": []
          },
          "execution_count": 11
        }
      ]
    },
    {
      "cell_type": "code",
      "metadata": {
        "id": "441H-FsbciMH",
        "colab_type": "code",
        "colab": {
          "base_uri": "https://localhost:8080/",
          "height": 221
        },
        "outputId": "6aaf07d7-c702-4557-a1b4-1a78dabb7cb1"
      },
      "source": [
        "Indian_rest_stats_ny.info()"
      ],
      "execution_count": 12,
      "outputs": [
        {
          "output_type": "stream",
          "text": [
            "<class 'pandas.core.frame.DataFrame'>\n",
            "RangeIndex: 50 entries, 0 to 49\n",
            "Data columns (total 7 columns):\n",
            "Borough         50 non-null object\n",
            "Neighborhood    50 non-null object\n",
            "ID              50 non-null object\n",
            "Name            50 non-null object\n",
            "Likes           50 non-null object\n",
            "Rating          50 non-null float64\n",
            "Tips            50 non-null object\n",
            "dtypes: float64(1), object(6)\n",
            "memory usage: 2.9+ KB\n"
          ],
          "name": "stdout"
        }
      ]
    },
    {
      "cell_type": "code",
      "metadata": {
        "id": "MkUaO8V5ciMM",
        "colab_type": "code",
        "colab": {
          "base_uri": "https://localhost:8080/",
          "height": 221
        },
        "outputId": "f782ecc4-b385-49aa-d1c3-a8f587c498d5"
      },
      "source": [
        "Indian_rest_stats_ny['Likes']=Indian_rest_stats_ny['Likes'].astype('float64')\n",
        "Indian_rest_stats_ny['Tips']=Indian_rest_stats_ny['Tips'].astype('float64')\n",
        "Indian_rest_stats_ny.info()"
      ],
      "execution_count": 13,
      "outputs": [
        {
          "output_type": "stream",
          "text": [
            "<class 'pandas.core.frame.DataFrame'>\n",
            "RangeIndex: 50 entries, 0 to 49\n",
            "Data columns (total 7 columns):\n",
            "Borough         50 non-null object\n",
            "Neighborhood    50 non-null object\n",
            "ID              50 non-null object\n",
            "Name            50 non-null object\n",
            "Likes           50 non-null float64\n",
            "Rating          50 non-null float64\n",
            "Tips            50 non-null float64\n",
            "dtypes: float64(3), object(4)\n",
            "memory usage: 2.9+ KB\n"
          ],
          "name": "stdout"
        }
      ]
    },
    {
      "cell_type": "code",
      "metadata": {
        "id": "AKlelzeEciMT",
        "colab_type": "code",
        "colab": {
          "base_uri": "https://localhost:8080/",
          "height": 297
        },
        "outputId": "99d775b6-e01b-4423-fbac-424ebb07b211"
      },
      "source": [
        "Indian_rest_stats_ny.describe()"
      ],
      "execution_count": 14,
      "outputs": [
        {
          "output_type": "execute_result",
          "data": {
            "text/html": [
              "<div>\n",
              "<style scoped>\n",
              "    .dataframe tbody tr th:only-of-type {\n",
              "        vertical-align: middle;\n",
              "    }\n",
              "\n",
              "    .dataframe tbody tr th {\n",
              "        vertical-align: top;\n",
              "    }\n",
              "\n",
              "    .dataframe thead th {\n",
              "        text-align: right;\n",
              "    }\n",
              "</style>\n",
              "<table border=\"1\" class=\"dataframe\">\n",
              "  <thead>\n",
              "    <tr style=\"text-align: right;\">\n",
              "      <th></th>\n",
              "      <th>Likes</th>\n",
              "      <th>Rating</th>\n",
              "      <th>Tips</th>\n",
              "    </tr>\n",
              "  </thead>\n",
              "  <tbody>\n",
              "    <tr>\n",
              "      <th>count</th>\n",
              "      <td>50.000000</td>\n",
              "      <td>50.000000</td>\n",
              "      <td>50.000000</td>\n",
              "    </tr>\n",
              "    <tr>\n",
              "      <th>mean</th>\n",
              "      <td>62.480000</td>\n",
              "      <td>7.548000</td>\n",
              "      <td>23.520000</td>\n",
              "    </tr>\n",
              "    <tr>\n",
              "      <th>std</th>\n",
              "      <td>103.282304</td>\n",
              "      <td>1.720612</td>\n",
              "      <td>32.457344</td>\n",
              "    </tr>\n",
              "    <tr>\n",
              "      <th>min</th>\n",
              "      <td>0.000000</td>\n",
              "      <td>0.000000</td>\n",
              "      <td>0.000000</td>\n",
              "    </tr>\n",
              "    <tr>\n",
              "      <th>25%</th>\n",
              "      <td>13.000000</td>\n",
              "      <td>7.425000</td>\n",
              "      <td>4.000000</td>\n",
              "    </tr>\n",
              "    <tr>\n",
              "      <th>50%</th>\n",
              "      <td>26.000000</td>\n",
              "      <td>7.900000</td>\n",
              "      <td>13.500000</td>\n",
              "    </tr>\n",
              "    <tr>\n",
              "      <th>75%</th>\n",
              "      <td>75.000000</td>\n",
              "      <td>8.500000</td>\n",
              "      <td>25.750000</td>\n",
              "    </tr>\n",
              "    <tr>\n",
              "      <th>max</th>\n",
              "      <td>589.000000</td>\n",
              "      <td>9.000000</td>\n",
              "      <td>160.000000</td>\n",
              "    </tr>\n",
              "  </tbody>\n",
              "</table>\n",
              "</div>"
            ],
            "text/plain": [
              "            Likes     Rating        Tips\n",
              "count   50.000000  50.000000   50.000000\n",
              "mean    62.480000   7.548000   23.520000\n",
              "std    103.282304   1.720612   32.457344\n",
              "min      0.000000   0.000000    0.000000\n",
              "25%     13.000000   7.425000    4.000000\n",
              "50%     26.000000   7.900000   13.500000\n",
              "75%     75.000000   8.500000   25.750000\n",
              "max    589.000000   9.000000  160.000000"
            ]
          },
          "metadata": {
            "tags": []
          },
          "execution_count": 14
        }
      ]
    },
    {
      "cell_type": "code",
      "metadata": {
        "id": "3-HHMFCIciMZ",
        "colab_type": "code",
        "colab": {
          "base_uri": "https://localhost:8080/",
          "height": 153
        },
        "outputId": "a75cb73d-ca2a-4a2a-c0d9-aad45539bbb3"
      },
      "source": [
        "# Resturant with maximum Likes\n",
        "Indian_rest_stats_ny.iloc[Indian_rest_stats_ny['Likes'].idxmax()]"
      ],
      "execution_count": 15,
      "outputs": [
        {
          "output_type": "execute_result",
          "data": {
            "text/plain": [
              "Borough                        Manhattan\n",
              "Neighborhood                     Tribeca\n",
              "ID              4bbb9dbded7776b0e1ad3e51\n",
              "Name                    Tamarind TriBeCa\n",
              "Likes                                589\n",
              "Rating                                 9\n",
              "Tips                                 148\n",
              "Name: 40, dtype: object"
            ]
          },
          "metadata": {
            "tags": []
          },
          "execution_count": 15
        }
      ]
    },
    {
      "cell_type": "code",
      "metadata": {
        "id": "aKcV7jLGciMd",
        "colab_type": "code",
        "colab": {
          "base_uri": "https://localhost:8080/",
          "height": 153
        },
        "outputId": "9f65378d-3192-4213-eabc-9975acffe6d4"
      },
      "source": [
        "# Resturant with maximum Ratings\n",
        "Indian_rest_stats_ny.iloc[Indian_rest_stats_ny['Rating'].idxmax()]"
      ],
      "execution_count": 16,
      "outputs": [
        {
          "output_type": "execute_result",
          "data": {
            "text/plain": [
              "Borough                        Manhattan\n",
              "Neighborhood                     Tribeca\n",
              "ID              4bbb9dbded7776b0e1ad3e51\n",
              "Name                    Tamarind TriBeCa\n",
              "Likes                                589\n",
              "Rating                                 9\n",
              "Tips                                 148\n",
              "Name: 40, dtype: object"
            ]
          },
          "metadata": {
            "tags": []
          },
          "execution_count": 16
        }
      ]
    },
    {
      "cell_type": "code",
      "metadata": {
        "id": "hL8SPVDkciMk",
        "colab_type": "code",
        "colab": {
          "base_uri": "https://localhost:8080/",
          "height": 153
        },
        "outputId": "e36bc4d7-ab2b-41fb-da79-f836d87f3ad7"
      },
      "source": [
        "# Resturant with maximum Tips\n",
        "Indian_rest_stats_ny.iloc[Indian_rest_stats_ny['Tips'].idxmax()]"
      ],
      "execution_count": 17,
      "outputs": [
        {
          "output_type": "execute_result",
          "data": {
            "text/plain": [
              "Borough                        Manhattan\n",
              "Neighborhood                    Gramercy\n",
              "ID              4a70a75bf964a52016d81fe3\n",
              "Name                 Bhatti Indian Grill\n",
              "Likes                                415\n",
              "Rating                               8.7\n",
              "Tips                                 160\n",
              "Name: 49, dtype: object"
            ]
          },
          "metadata": {
            "tags": []
          },
          "execution_count": 17
        }
      ]
    },
    {
      "cell_type": "code",
      "metadata": {
        "id": "wVr0cbfQciMo",
        "colab_type": "code",
        "colab": {
          "base_uri": "https://localhost:8080/",
          "height": 359
        },
        "outputId": "e651be5f-d3a0-4ed7-fe26-e2c810a9bc7b"
      },
      "source": [
        "ny_neighborhood_stats=Indian_rest_stats_ny.groupby('Neighborhood',as_index=False).mean()[['Neighborhood','Rating']]\n",
        "ny_neighborhood_stats.columns=['Neighborhood','Average Rating']\n",
        "ny_neighborhood_stats.sort_values(['Average Rating'],ascending=False).head(10)"
      ],
      "execution_count": 18,
      "outputs": [
        {
          "output_type": "execute_result",
          "data": {
            "text/html": [
              "<div>\n",
              "<style scoped>\n",
              "    .dataframe tbody tr th:only-of-type {\n",
              "        vertical-align: middle;\n",
              "    }\n",
              "\n",
              "    .dataframe tbody tr th {\n",
              "        vertical-align: top;\n",
              "    }\n",
              "\n",
              "    .dataframe thead th {\n",
              "        text-align: right;\n",
              "    }\n",
              "</style>\n",
              "<table border=\"1\" class=\"dataframe\">\n",
              "  <thead>\n",
              "    <tr style=\"text-align: right;\">\n",
              "      <th></th>\n",
              "      <th>Neighborhood</th>\n",
              "      <th>Average Rating</th>\n",
              "    </tr>\n",
              "  </thead>\n",
              "  <tbody>\n",
              "    <tr>\n",
              "      <th>27</th>\n",
              "      <td>Tribeca</td>\n",
              "      <td>9.0</td>\n",
              "    </tr>\n",
              "    <tr>\n",
              "      <th>12</th>\n",
              "      <td>Greenwich Village</td>\n",
              "      <td>8.9</td>\n",
              "    </tr>\n",
              "    <tr>\n",
              "      <th>31</th>\n",
              "      <td>West Village</td>\n",
              "      <td>8.8</td>\n",
              "    </tr>\n",
              "    <tr>\n",
              "      <th>18</th>\n",
              "      <td>Murray Hill</td>\n",
              "      <td>8.8</td>\n",
              "    </tr>\n",
              "    <tr>\n",
              "      <th>3</th>\n",
              "      <td>Chelsea</td>\n",
              "      <td>8.7</td>\n",
              "    </tr>\n",
              "    <tr>\n",
              "      <th>5</th>\n",
              "      <td>Clinton Hill</td>\n",
              "      <td>8.7</td>\n",
              "    </tr>\n",
              "    <tr>\n",
              "      <th>10</th>\n",
              "      <td>Fort Greene</td>\n",
              "      <td>8.7</td>\n",
              "    </tr>\n",
              "    <tr>\n",
              "      <th>11</th>\n",
              "      <td>Gramercy</td>\n",
              "      <td>8.7</td>\n",
              "    </tr>\n",
              "    <tr>\n",
              "      <th>33</th>\n",
              "      <td>Yorkville</td>\n",
              "      <td>8.5</td>\n",
              "    </tr>\n",
              "    <tr>\n",
              "      <th>25</th>\n",
              "      <td>South Side</td>\n",
              "      <td>8.5</td>\n",
              "    </tr>\n",
              "  </tbody>\n",
              "</table>\n",
              "</div>"
            ],
            "text/plain": [
              "         Neighborhood  Average Rating\n",
              "27            Tribeca             9.0\n",
              "12  Greenwich Village             8.9\n",
              "31       West Village             8.8\n",
              "18        Murray Hill             8.8\n",
              "3             Chelsea             8.7\n",
              "5        Clinton Hill             8.7\n",
              "10        Fort Greene             8.7\n",
              "11           Gramercy             8.7\n",
              "33          Yorkville             8.5\n",
              "25         South Side             8.5"
            ]
          },
          "metadata": {
            "tags": []
          },
          "execution_count": 18
        }
      ]
    },
    {
      "cell_type": "code",
      "metadata": {
        "id": "UxHlcsFcciMu",
        "colab_type": "code",
        "colab": {
          "base_uri": "https://localhost:8080/",
          "height": 142
        },
        "outputId": "ae188f9e-d7b5-49ab-980a-b7c7314f906b"
      },
      "source": [
        "ny_borough_stats=Indian_rest_stats_ny.groupby('Borough',as_index=False).mean()[['Borough','Rating']]\n",
        "ny_borough_stats.columns=['Borough','Average Rating']\n",
        "ny_borough_stats.sort_values(['Average Rating'],ascending=False).head()"
      ],
      "execution_count": 19,
      "outputs": [
        {
          "output_type": "execute_result",
          "data": {
            "text/html": [
              "<div>\n",
              "<style scoped>\n",
              "    .dataframe tbody tr th:only-of-type {\n",
              "        vertical-align: middle;\n",
              "    }\n",
              "\n",
              "    .dataframe tbody tr th {\n",
              "        vertical-align: top;\n",
              "    }\n",
              "\n",
              "    .dataframe thead th {\n",
              "        text-align: right;\n",
              "    }\n",
              "</style>\n",
              "<table border=\"1\" class=\"dataframe\">\n",
              "  <thead>\n",
              "    <tr style=\"text-align: right;\">\n",
              "      <th></th>\n",
              "      <th>Borough</th>\n",
              "      <th>Average Rating</th>\n",
              "    </tr>\n",
              "  </thead>\n",
              "  <tbody>\n",
              "    <tr>\n",
              "      <th>2</th>\n",
              "      <td>Manhattan</td>\n",
              "      <td>8.146154</td>\n",
              "    </tr>\n",
              "    <tr>\n",
              "      <th>1</th>\n",
              "      <td>Brooklyn</td>\n",
              "      <td>7.361111</td>\n",
              "    </tr>\n",
              "    <tr>\n",
              "      <th>0</th>\n",
              "      <td>Bronx</td>\n",
              "      <td>5.516667</td>\n",
              "    </tr>\n",
              "  </tbody>\n",
              "</table>\n",
              "</div>"
            ],
            "text/plain": [
              "     Borough  Average Rating\n",
              "2  Manhattan        8.146154\n",
              "1   Brooklyn        7.361111\n",
              "0      Bronx        5.516667"
            ]
          },
          "metadata": {
            "tags": []
          },
          "execution_count": 19
        }
      ]
    },
    {
      "cell_type": "code",
      "metadata": {
        "id": "Fk1X27uOciM0",
        "colab_type": "code",
        "colab": {
          "base_uri": "https://localhost:8080/",
          "height": 360
        },
        "outputId": "42a72e15-1705-4e6f-b01d-f50ce918b075"
      },
      "source": [
        "Indian_rest_stats_ny.groupby('Borough').mean()['Rating'].plot.bar(figsize=(10,5))\n",
        "plt.title('Average rating of Indian Resturants for each Borough', fontsize=20)\n",
        "#On x-axis\n",
        "plt.xlabel('Borough', fontsize = 15)\n",
        "#On y-axis\n",
        "plt.ylabel('Average Rating', fontsize=15)\n",
        "plt.xticks(rotation = 'horizontal')\n",
        "plt.show()"
      ],
      "execution_count": 22,
      "outputs": [
        {
          "output_type": "display_data",
          "data": {
            "image/png": "[encoded data removed]",
            "text/plain": [
              "<Figure size 720x360 with 1 Axes>"
            ]
          },
          "metadata": {
            "tags": []
          }
        }
      ]
    },
    {
      "cell_type": "markdown",
      "metadata": {
        "id": "paM9wPy3ciM7",
        "colab_type": "text"
      },
      "source": [
        "We will visually map the neighborhoods with an average rating greater than or equal to 8 after joining the approprite dfs to include latitudes and longitudes."
      ]
    },
    {
      "cell_type": "code",
      "metadata": {
        "id": "CSbdo2uYciM9",
        "colab_type": "code",
        "colab": {
          "base_uri": "https://localhost:8080/",
          "height": 204
        },
        "outputId": "2ea7b2d9-7bb1-4b5a-d646-3445b75608a8"
      },
      "source": [
        "ny_neighborhood_stats=ny_neighborhood_stats[ny_neighborhood_stats['Average Rating']>=8.0]\n",
        "ny_neighborhood_stats[:5]"
      ],
      "execution_count": 23,
      "outputs": [
        {
          "output_type": "execute_result",
          "data": {
            "text/html": [
              "<div>\n",
              "<style scoped>\n",
              "    .dataframe tbody tr th:only-of-type {\n",
              "        vertical-align: middle;\n",
              "    }\n",
              "\n",
              "    .dataframe tbody tr th {\n",
              "        vertical-align: top;\n",
              "    }\n",
              "\n",
              "    .dataframe thead th {\n",
              "        text-align: right;\n",
              "    }\n",
              "</style>\n",
              "<table border=\"1\" class=\"dataframe\">\n",
              "  <thead>\n",
              "    <tr style=\"text-align: right;\">\n",
              "      <th></th>\n",
              "      <th>Neighborhood</th>\n",
              "      <th>Average Rating</th>\n",
              "    </tr>\n",
              "  </thead>\n",
              "  <tbody>\n",
              "    <tr>\n",
              "      <th>0</th>\n",
              "      <td>Bay Ridge</td>\n",
              "      <td>8.30</td>\n",
              "    </tr>\n",
              "    <tr>\n",
              "      <th>2</th>\n",
              "      <td>Central Harlem</td>\n",
              "      <td>8.05</td>\n",
              "    </tr>\n",
              "    <tr>\n",
              "      <th>3</th>\n",
              "      <td>Chelsea</td>\n",
              "      <td>8.70</td>\n",
              "    </tr>\n",
              "    <tr>\n",
              "      <th>5</th>\n",
              "      <td>Clinton Hill</td>\n",
              "      <td>8.70</td>\n",
              "    </tr>\n",
              "    <tr>\n",
              "      <th>7</th>\n",
              "      <td>East Flatbush</td>\n",
              "      <td>8.00</td>\n",
              "    </tr>\n",
              "  </tbody>\n",
              "</table>\n",
              "</div>"
            ],
            "text/plain": [
              "     Neighborhood  Average Rating\n",
              "0       Bay Ridge            8.30\n",
              "2  Central Harlem            8.05\n",
              "3         Chelsea            8.70\n",
              "5    Clinton Hill            8.70\n",
              "7   East Flatbush            8.00"
            ]
          },
          "metadata": {
            "tags": []
          },
          "execution_count": 23
        }
      ]
    },
    {
      "cell_type": "code",
      "metadata": {
        "id": "DV--WanBciNF",
        "colab_type": "code",
        "colab": {
          "base_uri": "https://localhost:8080/",
          "height": 204
        },
        "outputId": "23972651-d0c5-4edf-97db-ce6d82b524e7"
      },
      "source": [
        "ny_neighborhood_stats=pd.merge(ny_neighborhood_stats,ny_data, on='Neighborhood')\n",
        "ny_neighborhood_stats=ny_neighborhood_stats[['Borough','Neighborhood','Latitude','Longitude','Average Rating']]\n",
        "ny_neighborhood_stats[:5]"
      ],
      "execution_count": 24,
      "outputs": [
        {
          "output_type": "execute_result",
          "data": {
            "text/html": [
              "<div>\n",
              "<style scoped>\n",
              "    .dataframe tbody tr th:only-of-type {\n",
              "        vertical-align: middle;\n",
              "    }\n",
              "\n",
              "    .dataframe tbody tr th {\n",
              "        vertical-align: top;\n",
              "    }\n",
              "\n",
              "    .dataframe thead th {\n",
              "        text-align: right;\n",
              "    }\n",
              "</style>\n",
              "<table border=\"1\" class=\"dataframe\">\n",
              "  <thead>\n",
              "    <tr style=\"text-align: right;\">\n",
              "      <th></th>\n",
              "      <th>Borough</th>\n",
              "      <th>Neighborhood</th>\n",
              "      <th>Latitude</th>\n",
              "      <th>Longitude</th>\n",
              "      <th>Average Rating</th>\n",
              "    </tr>\n",
              "  </thead>\n",
              "  <tbody>\n",
              "    <tr>\n",
              "      <th>0</th>\n",
              "      <td>Brooklyn</td>\n",
              "      <td>Bay Ridge</td>\n",
              "      <td>40.625801</td>\n",
              "      <td>-74.030621</td>\n",
              "      <td>8.30</td>\n",
              "    </tr>\n",
              "    <tr>\n",
              "      <th>1</th>\n",
              "      <td>Manhattan</td>\n",
              "      <td>Central Harlem</td>\n",
              "      <td>40.815976</td>\n",
              "      <td>-73.943211</td>\n",
              "      <td>8.05</td>\n",
              "    </tr>\n",
              "    <tr>\n",
              "      <th>2</th>\n",
              "      <td>Manhattan</td>\n",
              "      <td>Chelsea</td>\n",
              "      <td>40.744035</td>\n",
              "      <td>-74.003116</td>\n",
              "      <td>8.70</td>\n",
              "    </tr>\n",
              "    <tr>\n",
              "      <th>3</th>\n",
              "      <td>Staten Island</td>\n",
              "      <td>Chelsea</td>\n",
              "      <td>40.594726</td>\n",
              "      <td>-74.189560</td>\n",
              "      <td>8.70</td>\n",
              "    </tr>\n",
              "    <tr>\n",
              "      <th>4</th>\n",
              "      <td>Brooklyn</td>\n",
              "      <td>Clinton Hill</td>\n",
              "      <td>40.693229</td>\n",
              "      <td>-73.967843</td>\n",
              "      <td>8.70</td>\n",
              "    </tr>\n",
              "  </tbody>\n",
              "</table>\n",
              "</div>"
            ],
            "text/plain": [
              "         Borough    Neighborhood   Latitude  Longitude  Average Rating\n",
              "0       Brooklyn       Bay Ridge  40.625801 -74.030621            8.30\n",
              "1      Manhattan  Central Harlem  40.815976 -73.943211            8.05\n",
              "2      Manhattan         Chelsea  40.744035 -74.003116            8.70\n",
              "3  Staten Island         Chelsea  40.594726 -74.189560            8.70\n",
              "4       Brooklyn    Clinton Hill  40.693229 -73.967843            8.70"
            ]
          },
          "metadata": {
            "tags": []
          },
          "execution_count": 24
        }
      ]
    },
    {
      "cell_type": "code",
      "metadata": {
        "id": "TDaP4xICciNL",
        "colab_type": "code",
        "colab": {}
      },
      "source": [
        "# create map and display it\n",
        "ny_map = folium.Map(location=geo_location('New York'), zoom_start=12)\n",
        "# instantiate a feature group for the incidents in the dataframe\n",
        "incidents = folium.map.FeatureGroup()\n",
        "# loop through the 100 crimes and add each to the incidents feature group\n",
        "for lat, lng, in ny_neighborhood_stats[['Latitude','Longitude']].values:\n",
        "    incidents.add_child(\n",
        "        folium.CircleMarker(\n",
        "            [lat, lng],\n",
        "            radius=10, # define how big you want the circle markers to be\n",
        "            color='yellow',\n",
        "            fill=True,\n",
        "            fill_color='blue',\n",
        "            fill_opacity=0.6\n",
        "        )\n",
        "    )"
      ],
      "execution_count": 0,
      "outputs": []
    },
    {
      "cell_type": "code",
      "metadata": {
        "jupyter": {
          "outputs_hidden": true
        },
        "id": "QC-xn0G3ciNR",
        "colab_type": "code",
        "colab": {
          "base_uri": "https://localhost:8080/",
          "height": 394
        },
        "outputId": "66d1da2e-7dae-4424-c8ee-7c39b5cbc2bf"
      },
      "source": [
        "ny_neighborhood_stats['Label']=ny_neighborhood_stats['Neighborhood']+', '+ny_neighborhood_stats['Borough']+'('+ny_neighborhood_stats['Average Rating'].map(str)+')'\n",
        "# add pop-up text to each marker on the map\n",
        "for lat, lng, label in ny_neighborhood_stats[['Latitude','Longitude','Label']].values:\n",
        "    folium.Marker([lat, lng], popup=label).add_to(ny_map)        \n",
        "# add incidents to map\n",
        "ny_map.add_child(incidents)"
      ],
      "execution_count": 26,
      "outputs": [
        {
          "output_type": "execute_result",
          "data": {
            "text/html": [
              "<div style=\"width:100%;\"><div style=\"position:relative;width:100%;height:0;padding-bottom:60%;\"><iframe src=\"data:text/html;charset=utf-8;base64,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\" style=\"position:absolute;width:100%;height:100%;left:0;top:0;border:none !important;\" allowfullscreen webkitallowfullscreen mozallowfullscreen></iframe></div></div>"
            ],
            "text/plain": [
              "<folium.folium.Map at 0x7f42f3916c18>"
            ]
          },
          "metadata": {
            "tags": []
          },
          "execution_count": 26
        }
      ]
    },
    {
      "cell_type": "code",
      "metadata": {
        "id": "vzpSAKBkJyyX",
        "colab_type": "code",
        "colab": {}
      },
      "source": [
        "ny_neighborhood_stats.to_json(\"abc.json\")"
      ],
      "execution_count": 0,
      "outputs": []
    },
    {
      "cell_type": "code",
      "metadata": {
        "id": "ubsCzHjyciNX",
        "colab_type": "code",
        "colab": {
          "base_uri": "https://localhost:8080/",
          "height": 71
        },
        "outputId": "40aeb2a2-a0d7-4131-ed2b-b4e1735ac969"
      },
      "source": [
        "ny_map = folium.Map(location=geo_location('New York'), zoom_start=12)\n",
        "ny_geo = 'https://raw.githubusercontent.com/WiMLDS/smart_cities/master/NYC_shapefiles/Borough%20Boundaries.geojson'\n",
        "ny_map.choropleth(\n",
        "    geo_data=ny_geo,\n",
        "    data=ny_neighborhood_stats,\n",
        "    columns=['Borough', 'Average Rating'],\n",
        "    key_on='feature.properties.boro_name',\n",
        "    fill_color='YlOrRd', \n",
        "    fill_opacity=0.7, \n",
        "    line_opacity=0.2,\n",
        "    legend_name='Average Rating'\n",
        ")\n",
        "# display map\n",
        "# as this is huge map data , we will save it to a file\n",
        "ny_map.save('borough_rating1.html')"
      ],
      "execution_count": 32,
      "outputs": [
        {
          "output_type": "stream",
          "text": [
            "/usr/local/lib/python3.6/dist-packages/folium/folium.py:426: FutureWarning: The choropleth  method has been deprecated. Instead use the new Choropleth class, which has the same arguments. See the example notebook 'GeoJSON_and_choropleth' for how to do this.\n",
            "  FutureWarning\n"
          ],
          "name": "stderr"
        }
      ]
    },
    {
      "cell_type": "markdown",
      "metadata": {
        "id": "0K60FOJqciNb",
        "colab_type": "text"
      },
      "source": [
        "Finally, we will visualize all NYC buroughs based on average Rating."
      ]
    },
    {
      "cell_type": "code",
      "metadata": {
        "id": "baZyVoFWciNd",
        "colab_type": "code",
        "colab": {
          "base_uri": "https://localhost:8080/",
          "height": 71
        },
        "outputId": "5dec8397-1818-44cb-fbae-1714f887a9e2"
      },
      "source": [
        "ny_map = folium.Map(location=geo_location('New York'), zoom_start=12)\n",
        "ny_geo = r'https://raw.githubusercontent.com/WiMLDS/smart_cities/master/NYC_shapefiles/Borough%20Boundaries.geojson'\n",
        "ny_map.choropleth(\n",
        "    geo_data=ny_geo,\n",
        "    data=ny_borough_stats,\n",
        "    columns=['Borough', 'Average Rating'],\n",
        "    key_on='feature.properties.boro_name',\n",
        "    fill_color='PuBu', #'YlOrRd', \n",
        "    fill_opacity=0.7, \n",
        "    line_opacity=0.2,\n",
        "    legend_name='Average Rating')\n",
        "# display map\n",
        "# as this is huge map data , we will save it to a file\n",
        "ny_map.save('borough_rating.html')"
      ],
      "execution_count": 31,
      "outputs": [
        {
          "output_type": "stream",
          "text": [
            "/usr/local/lib/python3.6/dist-packages/folium/folium.py:426: FutureWarning: The choropleth  method has been deprecated. Instead use the new Choropleth class, which has the same arguments. See the example notebook 'GeoJSON_and_choropleth' for how to do this.\n",
            "  FutureWarning\n"
          ],
          "name": "stderr"
        }
      ]
    },
    {
      "cell_type": "markdown",
      "metadata": {
        "id": "QK71tMjYciNh",
        "colab_type": "text"
      },
      "source": [
        "click [here](https://github.com/anandsubbu007/Coursera_Capstone/blob/master/Capture.JPG) to see the chorpleth map of average ratings"
      ]
    },
    {
      "cell_type": "markdown",
      "metadata": {
        "id": "7xDvC7jnciNl",
        "colab_type": "text"
      },
      "source": [
        "### __Results / Conclusion__\n",
        "Manhattan and Brooklyn have the best rated Indian restaurants on average. Queens and The Bronx have the least amount of Indian restaurants per borough. However, of note, Belmont of The Bronx is the neighborhood in all of NYC with the most Indian Restaurants. Despite Manhattan having the least number of neighborhoods in all five boroughs, it has the most Indian restaurants.  Based on this information, I would state that Manhattan and Brooklyn are the best locations for Indian cuisine in NYC. To have the best shot of success, I would open an Indian restaurants in Brooklyn. Brooklyn\t has multiple neighborhoods with average ratings exceeding 8 of a scale of 1.0 to 10.0 and has the least number of Indian restaurants making competition easier than in other boroughs. As a final note, all of the above analysis is depended  on the adequacy and accuracy of Four Square data. A more comprehensive analysis and future work would need to incorporate data from other external databases."
      ]
    },
    {
      "cell_type": "code",
      "metadata": {
        "id": "DLktF4JqZ606",
        "colab_type": "code",
        "colab": {
          "base_uri": "https://localhost:8080/",
          "height": 961
        },
        "outputId": "4eef72ff-35ad-4521-a7ef-3a23a297a775"
      },
      "source": [
        "ny_neighborhood_stats"
      ],
      "execution_count": 33,
      "outputs": [
        {
          "output_type": "execute_result",
          "data": {
            "text/html": [
              "<div>\n",
              "<style scoped>\n",
              "    .dataframe tbody tr th:only-of-type {\n",
              "        vertical-align: middle;\n",
              "    }\n",
              "\n",
              "    .dataframe tbody tr th {\n",
              "        vertical-align: top;\n",
              "    }\n",
              "\n",
              "    .dataframe thead th {\n",
              "        text-align: right;\n",
              "    }\n",
              "</style>\n",
              "<table border=\"1\" class=\"dataframe\">\n",
              "  <thead>\n",
              "    <tr style=\"text-align: right;\">\n",
              "      <th></th>\n",
              "      <th>Borough</th>\n",
              "      <th>Neighborhood</th>\n",
              "      <th>Latitude</th>\n",
              "      <th>Longitude</th>\n",
              "      <th>Average Rating</th>\n",
              "      <th>Label</th>\n",
              "    </tr>\n",
              "  </thead>\n",
              "  <tbody>\n",
              "    <tr>\n",
              "      <th>0</th>\n",
              "      <td>Brooklyn</td>\n",
              "      <td>Bay Ridge</td>\n",
              "      <td>40.625801</td>\n",
              "      <td>-74.030621</td>\n",
              "      <td>8.30</td>\n",
              "      <td>Bay Ridge, Brooklyn(8.3)</td>\n",
              "    </tr>\n",
              "    <tr>\n",
              "      <th>1</th>\n",
              "      <td>Manhattan</td>\n",
              "      <td>Central Harlem</td>\n",
              "      <td>40.815976</td>\n",
              "      <td>-73.943211</td>\n",
              "      <td>8.05</td>\n",
              "      <td>Central Harlem, Manhattan(8.05)</td>\n",
              "    </tr>\n",
              "    <tr>\n",
              "      <th>2</th>\n",
              "      <td>Manhattan</td>\n",
              "      <td>Chelsea</td>\n",
              "      <td>40.744035</td>\n",
              "      <td>-74.003116</td>\n",
              "      <td>8.70</td>\n",
              "      <td>Chelsea, Manhattan(8.7)</td>\n",
              "    </tr>\n",
              "    <tr>\n",
              "      <th>3</th>\n",
              "      <td>Staten Island</td>\n",
              "      <td>Chelsea</td>\n",
              "      <td>40.594726</td>\n",
              "      <td>-74.189560</td>\n",
              "      <td>8.70</td>\n",
              "      <td>Chelsea, Staten Island(8.7)</td>\n",
              "    </tr>\n",
              "    <tr>\n",
              "      <th>4</th>\n",
              "      <td>Brooklyn</td>\n",
              "      <td>Clinton Hill</td>\n",
              "      <td>40.693229</td>\n",
              "      <td>-73.967843</td>\n",
              "      <td>8.70</td>\n",
              "      <td>Clinton Hill, Brooklyn(8.7)</td>\n",
              "    </tr>\n",
              "    <tr>\n",
              "      <th>5</th>\n",
              "      <td>Brooklyn</td>\n",
              "      <td>East Flatbush</td>\n",
              "      <td>40.641718</td>\n",
              "      <td>-73.936103</td>\n",
              "      <td>8.00</td>\n",
              "      <td>East Flatbush, Brooklyn(8.0)</td>\n",
              "    </tr>\n",
              "    <tr>\n",
              "      <th>6</th>\n",
              "      <td>Brooklyn</td>\n",
              "      <td>Fort Greene</td>\n",
              "      <td>40.688527</td>\n",
              "      <td>-73.972906</td>\n",
              "      <td>8.70</td>\n",
              "      <td>Fort Greene, Brooklyn(8.7)</td>\n",
              "    </tr>\n",
              "    <tr>\n",
              "      <th>7</th>\n",
              "      <td>Manhattan</td>\n",
              "      <td>Gramercy</td>\n",
              "      <td>40.737210</td>\n",
              "      <td>-73.981376</td>\n",
              "      <td>8.70</td>\n",
              "      <td>Gramercy, Manhattan(8.7)</td>\n",
              "    </tr>\n",
              "    <tr>\n",
              "      <th>8</th>\n",
              "      <td>Manhattan</td>\n",
              "      <td>Greenwich Village</td>\n",
              "      <td>40.726933</td>\n",
              "      <td>-73.999914</td>\n",
              "      <td>8.90</td>\n",
              "      <td>Greenwich Village, Manhattan(8.9)</td>\n",
              "    </tr>\n",
              "    <tr>\n",
              "      <th>9</th>\n",
              "      <td>Manhattan</td>\n",
              "      <td>Morningside Heights</td>\n",
              "      <td>40.808000</td>\n",
              "      <td>-73.963896</td>\n",
              "      <td>8.00</td>\n",
              "      <td>Morningside Heights, Manhattan(8.0)</td>\n",
              "    </tr>\n",
              "    <tr>\n",
              "      <th>10</th>\n",
              "      <td>Manhattan</td>\n",
              "      <td>Murray Hill</td>\n",
              "      <td>40.748303</td>\n",
              "      <td>-73.978332</td>\n",
              "      <td>8.80</td>\n",
              "      <td>Murray Hill, Manhattan(8.8)</td>\n",
              "    </tr>\n",
              "    <tr>\n",
              "      <th>11</th>\n",
              "      <td>Queens</td>\n",
              "      <td>Murray Hill</td>\n",
              "      <td>40.764126</td>\n",
              "      <td>-73.812763</td>\n",
              "      <td>8.80</td>\n",
              "      <td>Murray Hill, Queens(8.8)</td>\n",
              "    </tr>\n",
              "    <tr>\n",
              "      <th>12</th>\n",
              "      <td>Brooklyn</td>\n",
              "      <td>North Side</td>\n",
              "      <td>40.714823</td>\n",
              "      <td>-73.958809</td>\n",
              "      <td>8.50</td>\n",
              "      <td>North Side, Brooklyn(8.5)</td>\n",
              "    </tr>\n",
              "    <tr>\n",
              "      <th>13</th>\n",
              "      <td>Manhattan</td>\n",
              "      <td>Roosevelt Island</td>\n",
              "      <td>40.762160</td>\n",
              "      <td>-73.949168</td>\n",
              "      <td>8.30</td>\n",
              "      <td>Roosevelt Island, Manhattan(8.3)</td>\n",
              "    </tr>\n",
              "    <tr>\n",
              "      <th>14</th>\n",
              "      <td>Brooklyn</td>\n",
              "      <td>South Side</td>\n",
              "      <td>40.710861</td>\n",
              "      <td>-73.958001</td>\n",
              "      <td>8.50</td>\n",
              "      <td>South Side, Brooklyn(8.5)</td>\n",
              "    </tr>\n",
              "    <tr>\n",
              "      <th>15</th>\n",
              "      <td>Manhattan</td>\n",
              "      <td>Tribeca</td>\n",
              "      <td>40.721522</td>\n",
              "      <td>-74.010683</td>\n",
              "      <td>9.00</td>\n",
              "      <td>Tribeca, Manhattan(9.0)</td>\n",
              "    </tr>\n",
              "    <tr>\n",
              "      <th>16</th>\n",
              "      <td>Manhattan</td>\n",
              "      <td>Upper West Side</td>\n",
              "      <td>40.787658</td>\n",
              "      <td>-73.977059</td>\n",
              "      <td>8.20</td>\n",
              "      <td>Upper West Side, Manhattan(8.2)</td>\n",
              "    </tr>\n",
              "    <tr>\n",
              "      <th>17</th>\n",
              "      <td>Manhattan</td>\n",
              "      <td>West Village</td>\n",
              "      <td>40.734434</td>\n",
              "      <td>-74.006180</td>\n",
              "      <td>8.80</td>\n",
              "      <td>West Village, Manhattan(8.8)</td>\n",
              "    </tr>\n",
              "    <tr>\n",
              "      <th>18</th>\n",
              "      <td>Manhattan</td>\n",
              "      <td>Yorkville</td>\n",
              "      <td>40.775930</td>\n",
              "      <td>-73.947118</td>\n",
              "      <td>8.50</td>\n",
              "      <td>Yorkville, Manhattan(8.5)</td>\n",
              "    </tr>\n",
              "  </tbody>\n",
              "</table>\n",
              "</div>"
            ],
            "text/plain": [
              "          Borough  ...                                Label\n",
              "0        Brooklyn  ...             Bay Ridge, Brooklyn(8.3)\n",
              "1       Manhattan  ...      Central Harlem, Manhattan(8.05)\n",
              "2       Manhattan  ...              Chelsea, Manhattan(8.7)\n",
              "3   Staten Island  ...          Chelsea, Staten Island(8.7)\n",
              "4        Brooklyn  ...          Clinton Hill, Brooklyn(8.7)\n",
              "5        Brooklyn  ...         East Flatbush, Brooklyn(8.0)\n",
              "6        Brooklyn  ...           Fort Greene, Brooklyn(8.7)\n",
              "7       Manhattan  ...             Gramercy, Manhattan(8.7)\n",
              "8       Manhattan  ...    Greenwich Village, Manhattan(8.9)\n",
              "9       Manhattan  ...  Morningside Heights, Manhattan(8.0)\n",
              "10      Manhattan  ...          Murray Hill, Manhattan(8.8)\n",
              "11         Queens  ...             Murray Hill, Queens(8.8)\n",
              "12       Brooklyn  ...            North Side, Brooklyn(8.5)\n",
              "13      Manhattan  ...     Roosevelt Island, Manhattan(8.3)\n",
              "14       Brooklyn  ...            South Side, Brooklyn(8.5)\n",
              "15      Manhattan  ...              Tribeca, Manhattan(9.0)\n",
              "16      Manhattan  ...      Upper West Side, Manhattan(8.2)\n",
              "17      Manhattan  ...         West Village, Manhattan(8.8)\n",
              "18      Manhattan  ...            Yorkville, Manhattan(8.5)\n",
              "\n",
              "[19 rows x 6 columns]"
            ]
          },
          "metadata": {
            "tags": []
          },
          "execution_count": 33
        }
      ]
    },
    {
      "cell_type": "code",
      "metadata": {
        "id": "7OKYAE3nZ7fs",
        "colab_type": "code",
        "colab": {}
      },
      "source": [
        ""
      ],
      "execution_count": 0,
      "outputs": []
    }
  ]
}